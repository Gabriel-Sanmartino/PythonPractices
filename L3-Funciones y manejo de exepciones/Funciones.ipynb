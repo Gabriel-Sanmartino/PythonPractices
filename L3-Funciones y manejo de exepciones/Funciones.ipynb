{
 "cells": [
  {
   "cell_type": "markdown",
   "id": "b48ebd05",
   "metadata": {},
   "source": [
    "<h1 style=\"text-align: center\";>✨Funciones✨</h1>\n",
    "\n",
    "---\n",
    "\n",
    "**🔰En Python como en otros lenguajes, existen funciones predefinidas del lenguaje y tambien tenemos la posibilidad como desarrolladores de definir nuestras propias funciones.**\n",
    "**Las funciones en si mismas son bloques de codigo formadas por lineas de codigo, que estan encapsulados dentro de la misma funcion, esto nos permite mantener un codigo limpio, mas modular y reutilizar codigo al llamar al conjuto de instrucciones por el nombre de la funcion sin tener que escribir nuevamente todas las lineas de codigo**\n",
    "\n",
    "**✅Funciones predefinidas:** Son aquellas funciones que han sido desarrolladas de antemano, al momento de desarrollo del lenguaje y que al momento de escribir codigo estas ya estan disponibles para ser usadas por el programador o desarrollador.\n",
    "\n",
    "**✅Funciones definidas por el usuario:** Para los casos en los que no bastan las funciones predefinidas, Python nos permite crear nuestras propias funciones dandonos asi la posibilidad de resolver problemas especificos con gran flexibilidad, son estas las denominadas: ***\"Funciones definidas por el usuario\"***.<br>\n",
    "Para definir una funcion lo hacemos utilizando la palabra reservada **\"def\"**, luego tras un espacio indicamos el nombre de la funcion, seguidamente colocamos parentesis, dentro de los parentesis opcionalmente podemos colocar la lista de parametros o argumentos que recibira la funcion, luego colocamos dos puntos, saltamos a la linea siguiente identamos y colocamos las instrucciones seguidas de la palabra reservada **\"return\"**, palabra que nos permitira mostrar el resultado deseado.\n",
    "\n",
    "---\n",
    "# Manos a la obra 🔧⚙\n",
    "---\n"
   ]
  },
  {
   "cell_type": "markdown",
   "id": "3f8f5ae9",
   "metadata": {},
   "source": [
    "### Ejercicios basicos:\n",
    "\n",
    "1. Saludo personalizado Escribe una función saludar(nombre) que reciba un nombre como argumento e imprima un saludo personalizado."
   ]
  },
  {
   "cell_type": "markdown",
   "id": "6a2477f3",
   "metadata": {},
   "source": [
    "2. Suma de dos números Crea una función suma(a, b) que reciba dos números y devuelva su suma."
   ]
  },
  {
   "cell_type": "markdown",
   "id": "8abb749c",
   "metadata": {},
   "source": [
    "3. Conversión de temperatura Define una función celsius_a_fahrenheit(celsius) que convierta grados Celsius a Fahrenheit."
   ]
  },
  {
   "cell_type": "markdown",
   "id": "3eb76a11",
   "metadata": {},
   "source": [
    "### Ejercicios intermedios:\n",
    "\n",
    "4. Número par o impar Escribe una función es_par(numero) que determine si un número es par o impar."
   ]
  },
  {
   "cell_type": "markdown",
   "id": "2bce3608",
   "metadata": {},
   "source": [
    "5. Factorial de un número Implementa una función factorial(n) que calcule el factorial de un número de manera recursiva."
   ]
  },
  {
   "cell_type": "markdown",
   "id": "fa6870e0",
   "metadata": {},
   "source": [
    "6. Palíndromo Crea una función es_palindromo(palabra) que determine si una palabra es un palíndromo."
   ]
  },
  {
   "cell_type": "markdown",
   "id": "d6cdeafa",
   "metadata": {},
   "source": [
    "7. Máximo de una lista Escribe una función maximo(lista) que reciba una lista de números y devuelva el mayor."
   ]
  },
  {
   "cell_type": "markdown",
   "id": "c0fc7e2d",
   "metadata": {},
   "source": [
    "### Ejercicios avanzados:\n",
    "\n",
    "8. Generador de números primos Implementa una función numeros_primos(limite) que genere una lista de números primos hasta un límite dado."
   ]
  },
  {
   "cell_type": "markdown",
   "id": "839735a1",
   "metadata": {},
   "source": [
    "9. Ordenamiento de una lista Escribe una función ordenar_lista(lista) que ordene una lista de números sin usar sorted()."
   ]
  },
  {
   "cell_type": "markdown",
   "id": "acab1fe8",
   "metadata": {},
   "source": [
    "10. Juego de adivinanza Crea una función adivinar_numero() que genere un número aleatorio y permita al usuario adivinarlo con pistas."
   ]
  }
 ],
 "metadata": {
  "language_info": {
   "name": "python"
  }
 },
 "nbformat": 4,
 "nbformat_minor": 5
}
