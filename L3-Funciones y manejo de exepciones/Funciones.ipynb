{
 "cells": [
  {
   "cell_type": "markdown",
   "id": "b48ebd05",
   "metadata": {},
   "source": [
    "<h1 style=\"text-align: center\";>✨Funciones✨</h1>\n",
    "\n",
    "---\n",
    "\n",
    "**🔰En Python como en otros lenguajes, existen funciones predefinidas del lenguaje y tambien tenemos la posibilidad como desarrolladores de definir nuestras propias funciones.**\n",
    "**Las funciones en si mismas son bloques de codigo formadas por lineas de codigo, que estan encapsulados dentro de la misma funcion, esto nos permite mantener un codigo limpio, mas modular y reutilizar codigo al llamar al conjuto de instrucciones por el nombre de la funcion sin tener que escribir nuevamente todas las lineas de codigo**\n",
    "\n",
    "**✅Funciones predefinidas:** Son aquellas funciones que han sido desarrolladas de antemano, al momento de desarrollo del lenguaje y que al momento de escribir codigo estas ya estan disponibles para ser usadas por el programador o desarrollador.\n",
    "\n",
    "**✅Funciones definidas por el usuario:** Para los casos en los que no bastan las funciones predefinidas, Python nos permite crear nuestras propias funciones dandonos asi la posibilidad de resolver problemas especificos con gran flexibilidad, son estas las denominadas: ***\"Funciones definidas por el usuario\"***.<br>\n",
    "Para definir una funcion lo hacemos utilizando la palabra reservada **\"def\"**, luego tras un espacio indicamos el nombre de la funcion, seguidamente colocamos parentesis, dentro de los parentesis opcionalmente podemos colocar la lista de parametros o argumentos que recibira la funcion, luego colocamos dos puntos, saltamos a la linea siguiente identamos y colocamos las instrucciones seguidas de la palabra reservada **\"return\"**, palabra que nos permitira mostrar el resultado deseado.\n",
    "\n",
    "**Ejemplo de funcion definida por el usuario:**\n",
    "\n",
    "```Python\n",
    "    # Definimos la funcion de ejemplo mediante \"def\"\n",
    "    def aqui_va_el_nombre(parametro1,parametro2): # Esta funcion nos permite sumar dos elementos\n",
    "        resultado = parametro1 + parametro2 # Instruccion que ejecutara la funcion\n",
    "        return resultado # \"return\" indica que la funcion debe devolver o imprimir el valor de resultado\n",
    "```\n",
    "\n",
    "**NOTA:** En este ejemplo se definieron solo dos parametros, podria no definirse ninguno, uno o varios parametros, tambien podria establecerse un valor por defecto para alguno de ellos, este valor por defecto seria utilizado en el caso de que no se asigne ningun valor al parametro con valor por defecto al momento de llamar a la funcion.\n",
    "\n",
    "---\n",
    "# Manos a la obra 🔧⚙\n",
    "---\n"
   ]
  },
  {
   "cell_type": "markdown",
   "id": "3f8f5ae9",
   "metadata": {},
   "source": [
    "### Ejercicios basicos:\n",
    "\n",
    "1. Saludo personalizado Escribe una función saludar(nombre) que reciba un nombre como argumento e imprima un saludo personalizado."
   ]
  },
  {
   "cell_type": "code",
   "execution_count": 5,
   "id": "83be54da",
   "metadata": {},
   "outputs": [
    {
     "data": {
      "text/plain": [
       "'Hello Gabriel, good morning'"
      ]
     },
     "execution_count": 5,
     "metadata": {},
     "output_type": "execute_result"
    }
   ],
   "source": [
    "# === Definir funcion saludar ===\n",
    "def saludar(nombre):\n",
    "    return \"Hello \"+ nombre+\", good morning\"\n",
    "\n",
    "# Testear funcion\n",
    "saludar(\"Gabriel\")"
   ]
  },
  {
   "cell_type": "markdown",
   "id": "6a2477f3",
   "metadata": {},
   "source": [
    "2. Suma de dos números Crea una función suma(a, b) que reciba dos números y devuelva su suma."
   ]
  },
  {
   "cell_type": "code",
   "execution_count": 28,
   "id": "db45ec42",
   "metadata": {},
   "outputs": [
    {
     "name": "stdout",
     "output_type": "stream",
     "text": [
      "El resultado es:  15\n"
     ]
    }
   ],
   "source": [
    "# Definir funcion \"suma\"\n",
    "def suma (a,b):\n",
    "    resultado = a + b\n",
    "    print(\"El resultado es: \", resultado)\n",
    "\n",
    "# Testear funcion suma\n",
    "\n",
    "suma(10,5)"
   ]
  },
  {
   "cell_type": "markdown",
   "id": "8abb749c",
   "metadata": {},
   "source": [
    "3. Conversión de temperatura Define una función celsius_a_fahrenheit(celsius) que convierta grados Celsius a Fahrenheit."
   ]
  },
  {
   "cell_type": "code",
   "execution_count": 19,
   "id": "e958cd3f",
   "metadata": {},
   "outputs": [
    {
     "data": {
      "text/plain": [
       "50.0"
      ]
     },
     "execution_count": 19,
     "metadata": {},
     "output_type": "execute_result"
    }
   ],
   "source": [
    "# === Definir funcion para convertir grados celcius a fahrenheit ===\n",
    "\n",
    "# >>> Primero recordemos que:\n",
    "# El agua se congela a 0° celsius y hierve a 100°\n",
    "# En Fahrenheit el punto de evullcion es a los 212°, mientras la congelacion sucede a los 32° F\n",
    "# Entoces para hacer una conversion es necesario ajustar la escala y el punto de partida\n",
    "\n",
    "# Funcion:\n",
    "def celsius_a_fahrenheit(grados_celsius):\n",
    "    grados_fahrenheit = (grados_celsius*1.8)+32\n",
    "    return grados_fahrenheit\n",
    "\n",
    "# Testear funcion\n",
    "celsius_a_fahrenheit(10)"
   ]
  },
  {
   "cell_type": "markdown",
   "id": "3eb76a11",
   "metadata": {},
   "source": [
    "### Ejercicios intermedios:\n",
    "\n",
    "4. Número par o impar Escribe una función es_par(numero) que determine si un número es par o impar."
   ]
  },
  {
   "cell_type": "code",
   "execution_count": 22,
   "id": "5ec781e2",
   "metadata": {},
   "outputs": [
    {
     "data": {
      "text/plain": [
       "'El numero es par'"
      ]
     },
     "execution_count": 22,
     "metadata": {},
     "output_type": "execute_result"
    }
   ],
   "source": [
    "# Definir funcion\n",
    "def es_par(numero):\n",
    "    if numero % 2 == 0:\n",
    "        return \"El numero es par\"\n",
    "    else:\n",
    "        return \"El numero es impar\"\n",
    "    \n",
    "# Testear funcion\n",
    "\n",
    "es_par(4)"
   ]
  },
  {
   "cell_type": "code",
   "execution_count": 23,
   "id": "202f7e67",
   "metadata": {},
   "outputs": [
    {
     "name": "stdout",
     "output_type": "stream",
     "text": [
      "El número 7 es impar\n"
     ]
    }
   ],
   "source": [
    "def es_par(numero):\n",
    "    if numero % 2 == 0:\n",
    "        return f\"El número {numero} es par\"\n",
    "    else:\n",
    "        return f\"El número {numero} es impar\"\n",
    "\n",
    "# Ejemplo de uso\n",
    "num = 7\n",
    "print(es_par(num))\n"
   ]
  },
  {
   "cell_type": "markdown",
   "id": "2bce3608",
   "metadata": {},
   "source": [
    "5. Factorial de un número Implementa una función factorial(n) que calcule el factorial de un número de manera recursiva."
   ]
  },
  {
   "cell_type": "markdown",
   "id": "fa6870e0",
   "metadata": {},
   "source": [
    "6. Palíndromo Crea una función es_palindromo(palabra) que determine si una palabra es un palíndromo."
   ]
  },
  {
   "cell_type": "markdown",
   "id": "d6cdeafa",
   "metadata": {},
   "source": [
    "7. Máximo de una lista Escribe una función maximo(lista) que reciba una lista de números y devuelva el mayor."
   ]
  },
  {
   "cell_type": "markdown",
   "id": "c0fc7e2d",
   "metadata": {},
   "source": [
    "### Ejercicios avanzados:\n",
    "\n",
    "8. Generador de números primos Implementa una función numeros_primos(limite) que genere una lista de números primos hasta un límite dado."
   ]
  },
  {
   "cell_type": "markdown",
   "id": "839735a1",
   "metadata": {},
   "source": [
    "9. Ordenamiento de una lista Escribe una función ordenar_lista(lista) que ordene una lista de números sin usar sorted()."
   ]
  },
  {
   "cell_type": "markdown",
   "id": "acab1fe8",
   "metadata": {},
   "source": [
    "10. Juego de adivinanza Crea una función adivinar_numero() que genere un número aleatorio y permita al usuario adivinarlo con pistas."
   ]
  }
 ],
 "metadata": {
  "kernelspec": {
   "display_name": "Python 3",
   "language": "python",
   "name": "python3"
  },
  "language_info": {
   "codemirror_mode": {
    "name": "ipython",
    "version": 3
   },
   "file_extension": ".py",
   "mimetype": "text/x-python",
   "name": "python",
   "nbconvert_exporter": "python",
   "pygments_lexer": "ipython3",
   "version": "3.13.0"
  }
 },
 "nbformat": 4,
 "nbformat_minor": 5
}
