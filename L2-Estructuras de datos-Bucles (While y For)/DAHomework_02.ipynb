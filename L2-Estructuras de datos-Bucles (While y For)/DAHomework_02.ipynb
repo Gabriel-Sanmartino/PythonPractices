{
 "cells": [
  {
   "cell_type": "markdown",
   "metadata": {
    "id": "4QeISVNbcgk9"
   },
   "source": [
    "## Estructuras de Datos, loops e iterables"
   ]
  },
  {
   "cell_type": "markdown",
   "metadata": {
    "id": "RH6N4IaAcgk-"
   },
   "source": [
    "1) Crea una lista llamada **lis** que contenga nombres de ciudades del mundo. Asegúrate de que la lista tenga más de 5 elementos. Luego, imprime por pantalla la lista que has creado.<br>\n",
    "Ayuda: Ten en cuenta la estructura de una lista en Python para crearla. Para imprimirla, recuerda utilizar la función print()"
   ]
  },
  {
   "cell_type": "code",
   "execution_count": 23,
   "metadata": {},
   "outputs": [
    {
     "name": "stdout",
     "output_type": "stream",
     "text": [
      "<class 'list'>\n",
      "['Buenos Aires', ' New York', ' Moscu', ' Helsinski', ' Paris', ' Sao Paulo', ' Santiago de Chile', ' Lima', ' Bogota']\n"
     ]
    }
   ],
   "source": [
    "lis=(\"Buenos Aires, New York, Moscu, Helsinski, Paris, Sao Paulo, Santiago de Chile, Lima, Bogota\").split(\",\")\n",
    "print(type(lis))\n",
    "print(lis)"
   ]
  },
  {
   "cell_type": "markdown",
   "metadata": {
    "id": "jlcof3-Dcgk_"
   },
   "source": [
    "2) Imprime por pantalla el segundo elemento de la lista.<br>\n",
    "Ayuda: Recuerda utilizar los índices para acceder a los elementos de la lista."
   ]
  },
  {
   "cell_type": "code",
   "execution_count": 24,
   "metadata": {},
   "outputs": [
    {
     "name": "stdout",
     "output_type": "stream",
     "text": [
      " New York\n"
     ]
    }
   ],
   "source": [
    "print(lis[1])"
   ]
  },
  {
   "cell_type": "markdown",
   "metadata": {
    "id": "EnNU-K5xcgk_"
   },
   "source": [
    "3) Imprime por pantalla del segundo al cuarto elemento de la lista."
   ]
  },
  {
   "cell_type": "code",
   "execution_count": 25,
   "metadata": {},
   "outputs": [
    {
     "name": "stdout",
     "output_type": "stream",
     "text": [
      "[' New York', ' Moscu', ' Helsinski']\n"
     ]
    }
   ],
   "source": [
    "print(lis[1:4])"
   ]
  },
  {
   "cell_type": "markdown",
   "metadata": {
    "id": "FIbFQKIecgk_"
   },
   "source": [
    "4) Visualiza el tipo de dato de la lista."
   ]
  },
  {
   "cell_type": "code",
   "execution_count": 26,
   "metadata": {},
   "outputs": [
    {
     "name": "stdout",
     "output_type": "stream",
     "text": [
      "<class 'list'>\n"
     ]
    }
   ],
   "source": [
    "print(type(lis))"
   ]
  },
  {
   "cell_type": "markdown",
   "metadata": {
    "id": "Kp9ZIXcpcglA"
   },
   "source": [
    "5) Visualiza todos los elementos de la lista a partir del tercer elemento en adelante de manera genérica, es decir, sin especificar la posición del último elemento.<br>\n",
    "Aclaración: Se pretende que no se utilice la posición del último elemento de la lista, o sea, que se recorra hasta el último sin importar la cartidad de elementos que haya."
   ]
  },
  {
   "cell_type": "code",
   "execution_count": 27,
   "metadata": {},
   "outputs": [
    {
     "name": "stdout",
     "output_type": "stream",
     "text": [
      "[' Moscu', ' Helsinski', ' Paris', ' Sao Paulo', ' Santiago de Chile', ' Lima', ' Bogota']\n"
     ]
    }
   ],
   "source": [
    "print(lis[2:])"
   ]
  },
  {
   "cell_type": "markdown",
   "metadata": {
    "id": "-ZDI40tJcglA"
   },
   "source": [
    "6) Visualizar los primeros 4 elementos de la lista"
   ]
  },
  {
   "cell_type": "code",
   "execution_count": 28,
   "metadata": {},
   "outputs": [
    {
     "name": "stdout",
     "output_type": "stream",
     "text": [
      "['Buenos Aires', ' New York', ' Moscu', ' Helsinski']\n"
     ]
    }
   ],
   "source": [
    "print(lis[:4])"
   ]
  },
  {
   "cell_type": "markdown",
   "metadata": {
    "id": "CqC58DHTcglA"
   },
   "source": [
    "7) Agrega una ciudad más a la lista que ya exista y otra que no.<br>\n",
    "Vuelve a imprimir la lista, ¿arroja algún tipo de error?"
   ]
  },
  {
   "cell_type": "code",
   "execution_count": 29,
   "metadata": {},
   "outputs": [
    {
     "name": "stdout",
     "output_type": "stream",
     "text": [
      "['Buenos Aires', ' New York', ' Moscu', ' Helsinski', ' Paris', ' Sao Paulo', ' Santiago de Chile', ' Lima', ' Bogota', 'Buenos Aires', 'Londres']\n"
     ]
    }
   ],
   "source": [
    "lis.append(\"Buenos Aires\")\n",
    "lis.append(\"Londres\")\n",
    "print(lis)"
   ]
  },
  {
   "cell_type": "markdown",
   "metadata": {
    "id": "73QaXjZscglB"
   },
   "source": [
    "8) Agrega otra ciudad, pero en la cuarta posición.<br>\n",
    "Ayuda: Utiliza el índice."
   ]
  },
  {
   "cell_type": "code",
   "execution_count": 30,
   "metadata": {},
   "outputs": [
    {
     "name": "stdout",
     "output_type": "stream",
     "text": [
      "['Buenos Aires', ' New York', ' Moscu', 'Beigin', ' Helsinski', ' Paris', ' Sao Paulo', ' Santiago de Chile', ' Lima', ' Bogota', 'Buenos Aires', 'Londres']\n"
     ]
    }
   ],
   "source": [
    "lis.insert(3,\"Beigin\")\n",
    "print(lis)"
   ]
  },
  {
   "cell_type": "markdown",
   "metadata": {
    "id": "IMLrm8WpcglB"
   },
   "source": [
    "9) Concatena otra lista a la ya creada.<br>\n",
    "Ayuda: Primero crea la segunda lista y luego utiliza el método extend()"
   ]
  },
  {
   "cell_type": "code",
   "execution_count": 34,
   "metadata": {},
   "outputs": [
    {
     "name": "stdout",
     "output_type": "stream",
     "text": [
      "['Buenos Aires', ' New York', ' Moscu', 'Beigin', ' Helsinski', ' Paris', ' Sao Paulo', ' Santiago de Chile', ' Lima', ' Bogota', 'Buenos Aires', 'Londres', 'Roma', 'Madrid', 'Toronto', 'Tokio', 'Roma', 'Madrid', 'Toronto', 'Tokio']\n",
      "['Buenos Aires', ' New York', ' Moscu', 'Beigin', ' Helsinski', ' Paris', ' Sao Paulo', ' Santiago de Chile', ' Lima', ' Bogota', 'Buenos Aires', 'Londres', 'Roma', 'Madrid', 'Toronto', 'Tokio', 'Roma', 'Madrid', 'Toronto', 'Tokio', 'Roma', 'Madrid', 'Toronto', 'Tokio']\n"
     ]
    }
   ],
   "source": [
    "lis2 = [\"Roma\",\"Madrid\", \"Toronto\", \"Tokio\"]\n",
    "print(lis)\n",
    "lis.extend(lis2)\n",
    "print(lis)"
   ]
  },
  {
   "cell_type": "markdown",
   "metadata": {
    "id": "PCc6UyOMcglC"
   },
   "source": [
    "10) Elimina un elemento de la lista.<br>\n",
    "Ayuda: Nombra el elemento para eliminarlo. Luego imprime la lista para verificar que se eliminó."
   ]
  },
  {
   "cell_type": "code",
   "execution_count": 35,
   "metadata": {},
   "outputs": [
    {
     "name": "stdout",
     "output_type": "stream",
     "text": [
      "[' New York', ' Moscu', 'Beigin', ' Helsinski', ' Paris', ' Sao Paulo', ' Santiago de Chile', ' Lima', ' Bogota', 'Buenos Aires', 'Londres', 'Roma', 'Madrid', 'Toronto', 'Tokio', 'Roma', 'Madrid', 'Toronto', 'Tokio', 'Roma', 'Madrid', 'Toronto', 'Tokio']\n"
     ]
    }
   ],
   "source": [
    "lis.remove(\"Buenos Aires\")\n",
    "print(lis)"
   ]
  },
  {
   "cell_type": "markdown",
   "metadata": {},
   "source": [
    "11. A partir de una lista vacía, utiliza un ciclo while para cargar allí números negativos del -15 al -1.<br>\n",
    "Ayuda: sigue los siguientes pasos:<br>\n",
    "* Crea una lista vacía\n",
    "* Inicializa la variable n con el valor -15\n",
    "* Crea el bucle while (recuerda que n debe ser menor que 0)\n",
    "* Recuerda imprimir por pantalla la lista que creaste en el primer paso (debe contener los números solicitados)"
   ]
  },
  {
   "cell_type": "code",
   "execution_count": 37,
   "metadata": {},
   "outputs": [
    {
     "name": "stdout",
     "output_type": "stream",
     "text": [
      "[-15, -14, -13, -12, -11, -10, -9, -8, -7, -6, -5, -4, -3, -2, -1]\n"
     ]
    }
   ],
   "source": [
    "lista_vacia=[]\n",
    "contador=-15\n",
    "while contador < 0:\n",
    "    lista_vacia.append(contador)\n",
    "    contador+=1\n",
    "print(lista_vacia)"
   ]
  },
  {
   "cell_type": "markdown",
   "metadata": {},
   "source": [
    "12. Utiliza el iterable for para recorrer sólo los primeros 3 elementos de la lista anterior."
   ]
  },
  {
   "cell_type": "code",
   "execution_count": 38,
   "metadata": {},
   "outputs": [
    {
     "name": "stdout",
     "output_type": "stream",
     "text": [
      "-15\n",
      "-14\n",
      "-13\n"
     ]
    }
   ],
   "source": [
    "for n in lista_vacia:\n",
    "    if lista_vacia.index(n) <=2:\n",
    "        print(n)"
   ]
  },
  {
   "cell_type": "markdown",
   "metadata": {},
   "source": [
    "13. Utiliza la función **enumerate** para obtener dentro del iterable, el índice al que corresponde cada elemento de la lista.<br>\n",
    "Ayuda: La función enumerate(lista) devuelve un iterador que genera pares de valores, donde el primer valor es el índice y el segundo valor es el elemento de la lista. En cada iteración del bucle, la variable i representa el índice y la variable e representa el elemento."
   ]
  },
  {
   "cell_type": "code",
   "execution_count": 39,
   "metadata": {},
   "outputs": [
    {
     "name": "stdout",
     "output_type": "stream",
     "text": [
      "0 -15\n",
      "1 -14\n",
      "2 -13\n",
      "3 -12\n",
      "4 -11\n",
      "5 -10\n",
      "6 -9\n",
      "7 -8\n",
      "8 -7\n",
      "9 -6\n",
      "10 -5\n",
      "11 -4\n",
      "12 -3\n",
      "13 -2\n",
      "14 -1\n"
     ]
    }
   ],
   "source": [
    "for indice, numero in enumerate(lista_vacia):\n",
    "    print(indice, numero)"
   ]
  },
  {
   "cell_type": "markdown",
   "metadata": {},
   "source": [
    "14. Dada la siguiente lista de números enteros entre 1 y 20, crear un ciclo donde se completen los valores faltantes:<br>\n",
    "lista = [1,2,5,7,8,10,13,14,15,17,20]<br>\n",
    "Ayuda: Puedes utilizar condiciones para indicar que mientras la variable n sea menor o igual a 20 inserte el valor de n en la posición (n-1) de la lista, ya que los índices comienzan en 0. Recuerda incrementar el valor de n en cada iteración."
   ]
  },
  {
   "cell_type": "code",
   "execution_count": null,
   "metadata": {},
   "outputs": [
    {
     "name": "stdout",
     "output_type": "stream",
     "text": [
      "Lista antes del bucle: [1, 2, 5, 7, 8, 10, 13, 14, 15, 17, 20]\n",
      "El valor 1 ya esta en la lista\n",
      "El valor 2 ya esta en la lista\n",
      "Valor 3 agregado\n",
      "Valor 4 agregado\n",
      "El valor 5 ya esta en la lista\n",
      "Valor 6 agregado\n",
      "El valor 7 ya esta en la lista\n",
      "El valor 8 ya esta en la lista\n",
      "Valor 9 agregado\n",
      "El valor 10 ya esta en la lista\n",
      "Valor 11 agregado\n",
      "Valor 12 agregado\n",
      "El valor 13 ya esta en la lista\n",
      "El valor 14 ya esta en la lista\n",
      "El valor 15 ya esta en la lista\n",
      "Valor 16 agregado\n",
      "El valor 17 ya esta en la lista\n",
      "Valor 18 agregado\n",
      "Valor 19 agregado\n",
      "El valor 20 ya esta en la lista\n",
      "lista despues del bucle: [1, 2, 3, 4, 5, 6, 7, 8, 9, 10, 11, 12, 13, 14, 15, 16, 17, 18, 19, 20]\n"
     ]
    }
   ],
   "source": [
    "# >>> SOLUCION PERSONAL <<<\n",
    "lista = [1,2,5,7,8,10,13,14,15,17,20]\n",
    "print(f'Lista antes del bucle: {lista}')\n",
    "indice=0\n",
    "numero=1\n",
    "while numero <= 20:\n",
    "    valor_en_lista=lista[indice]\n",
    "    if valor_en_lista == numero:\n",
    "        print(\"El valor\", numero, \"ya esta en la lista\")    \n",
    "    elif valor_en_lista > numero:\n",
    "        lista.insert(indice,numero)\n",
    "        print(f'Valor {numero} agregado')\n",
    "    numero+=1\n",
    "    indice+=1\n",
    "print(\"lista despues del bucle:\", lista)\n",
    "    "
   ]
  },
  {
   "cell_type": "code",
   "execution_count": 52,
   "metadata": {},
   "outputs": [
    {
     "name": "stdout",
     "output_type": "stream",
     "text": [
      "Lista antes del bucle: [1, 2, 5, 7, 8, 10, 13, 14, 15, 17, 20]\n",
      "Valor 3 agregado\n",
      "Valor 4 agregado\n",
      "Valor 6 agregado\n",
      "Valor 9 agregado\n",
      "Valor 11 agregado\n",
      "Valor 12 agregado\n",
      "Valor 16 agregado\n",
      "Valor 18 agregado\n",
      "Valor 19 agregado\n",
      "Lista después del bucle: [1, 2, 3, 4, 5, 6, 7, 8, 9, 10, 11, 12, 13, 14, 15, 16, 17, 18, 19, 20]\n"
     ]
    }
   ],
   "source": [
    "# >>> SOLUCION IA <<<<\n",
    "lista = [1, 2, 5, 7, 8, 10, 13, 14, 15, 17, 20]\n",
    "print(f'Lista antes del bucle: {lista}')\n",
    "\n",
    "numero = 1\n",
    "while numero <= 20:\n",
    "    if numero not in lista:  # Verificar si el número está ausente\n",
    "        lista.insert(numero - 1, numero)  # Insertar el número en su posición correcta\n",
    "        print(f'Valor {numero} agregado')\n",
    "    numero += 1\n",
    "\n",
    "print(\"Lista después del bucle:\", lista)\n"
   ]
  },
  {
   "cell_type": "markdown",
   "metadata": {},
   "source": [
    "15. A partir de la variable cadena ya dada, muestra en qué posiciones aparece la letra \"n\"<br>\n",
    "cadena = 'Hola Mundo. Esto es una práctica del lenguaje de programación Python'<br>\n",
    "Ayuda: Utiliza \"enumerate()\" y agrega condicional \"if\""
   ]
  },
  {
   "cell_type": "code",
   "execution_count": 56,
   "metadata": {},
   "outputs": [
    {
     "name": "stdout",
     "output_type": "stream",
     "text": [
      "<enumerate object at 0x000001B10AE81FD0>\n",
      "La letra n aparece en la posicion Hola Mundo\n",
      "7\n",
      "La letra \"n\" se encuentra en la posicion 7\n"
     ]
    }
   ],
   "source": [
    "cadena = 'Hola Mundo'\n",
    "print(enumerate(cadena))\n",
    "print(f'La letra n aparece en la posicion {cadena}')\n",
    "print(cadena.index(\"n\"))\n",
    "for indice, letra in enumerate(cadena):\n",
    "    if letra == \"n\":\n",
    "        print(f'La letra \"n\" se encuentra en la posicion {indice}')"
   ]
  },
  {
   "cell_type": "markdown",
   "metadata": {},
   "source": [
    "16. Sigue los pasos:\n",
    "* Crea dos listas **lis1** y **lis2** con 3 elementos cada una\n",
    "* Únelas en una tupla **lisz** utilizando la función zip\n",
    "* Imprime por pantalla el tipo de **lisz**\n",
    "* Imprime por pantalla **lisz**"
   ]
  },
  {
   "cell_type": "code",
   "execution_count": 57,
   "metadata": {},
   "outputs": [
    {
     "name": "stdout",
     "output_type": "stream",
     "text": [
      "<class 'zip'>\n",
      "<zip object at 0x000001B10AD9A840>\n"
     ]
    }
   ],
   "source": [
    "lis1=[\"Hi, ¡Good morning!,\",\"Im Gabriel,\"]\n",
    "lis2=[\"I'm twenty nine yeards old,\", \"and I live in San Juan, i work as data analyst\"]\n",
    "lisz=zip(lis1,lis2)\n",
    "print(type(lisz))\n",
    "print(lisz)"
   ]
  },
  {
   "cell_type": "code",
   "execution_count": 59,
   "metadata": {},
   "outputs": [
    {
     "name": "stdout",
     "output_type": "stream",
     "text": [
      "El tipo de lisz es: <class 'zip'>\n",
      "El contenido de lisz es: [(10, 'x'), (20, 'y'), (30, 'z')]\n"
     ]
    }
   ],
   "source": [
    "# Crear dos listas con 3 elementos cada una\n",
    "lis1 = [10, 20, 30]\n",
    "lis2 = ['x', 'y', 'z']\n",
    "\n",
    "# Unirlas en una tupla utilizando la función zip\n",
    "lisz = zip(lis1, lis2)\n",
    "\n",
    "# Imprimir por pantalla el tipo de lisz\n",
    "print(f'El tipo de lisz es: {type(lisz)}')\n",
    "\n",
    "# Imprimir por pantalla el contenido de lisz convirtiéndolo a una lista para que sea visible\n",
    "print(f'El contenido de lisz es: {list(lisz)}')\n"
   ]
  },
  {
   "cell_type": "markdown",
   "metadata": {},
   "source": [
    "17. A partir de la siguiente lista de números, crea una nueva sólo si el número es divisible por 7.<br>\n",
    "lis = [18,21,29,32,35,42,56,60,63,71,84,90,91,100]<br>\n",
    "Ayuda: Puedes utilizar comprensión de lista para filtrar los elementos divisibles por 7."
   ]
  },
  {
   "cell_type": "code",
   "execution_count": 58,
   "metadata": {},
   "outputs": [
    {
     "name": "stdout",
     "output_type": "stream",
     "text": [
      "[21, 35, 42, 56, 63, 84, 91]\n"
     ]
    }
   ],
   "source": [
    "lis = [18,21,29,32,35,42,56,60,63,71,84,90,91,100]\n",
    "new_list=[x for x in lis if x % 7 == 0]\n",
    "print(new_list)"
   ]
  },
  {
   "cell_type": "markdown",
   "metadata": {},
   "source": [
    "---\n",
    "\n",
    "\n",
    "**EJERCICIO BONUS TRACK**"
   ]
  },
  {
   "cell_type": "markdown",
   "metadata": {},
   "source": [
    "18. A partir de la lista que sigue, deberás contar la cantidad total de elementos que contiene, teniendo en cuenta que un elemento de la lista podría ser otra lista:<br>\n",
    "lis = [[1,2,3,4],'rojo','verde',[True,False,False],['uno','dos','tres']]"
   ]
  },
  {
   "cell_type": "code",
   "execution_count": null,
   "metadata": {},
   "outputs": [
    {
     "name": "stdout",
     "output_type": "stream",
     "text": [
      "Lista: \"\n",
      "\"\n",
      "[[1, 2, 3, 4], 'rojo', 'verde', [True, False, False], ['uno', 'dos', 'tres']]\n",
      "Largo de lista contando listas \n",
      " como elementos\n",
      "5\n",
      "Cantidad total de elementos, incluidos los elementos de listas internas:\n",
      "5\n"
     ]
    }
   ],
   "source": [
    "# Versiona personal fallida: >> El error esta en que se uso \"type()\" en ves de \"isinstance()\"\n",
    "# Definir lista\n",
    "\n",
    "lis = [[1,2,3,4],'rojo','verde',[True,False,False],['uno','dos','tres']]\n",
    "\n",
    "# Imprimir lista\n",
    "print(f'Lista: \"\\n\"')\n",
    "print(lis)\n",
    "\n",
    "# Imprimir largo de listas contando listas como elementos\n",
    "print(f'Largo de lista contando listas \\n como elementos')\n",
    "print(len(lis))\n",
    "\n",
    "# Imprimir cantidad total de elementos contando los contenidos en sublistas dentro de lis\n",
    "print(f'Cantidad total de elementos, incluidos los elementos de listas internas:')\n",
    "cantidad_total=0\n",
    "i=0\n",
    "\n",
    "for n in lis:\n",
    "    sublis=lis[i]\n",
    "    if type(sublis) =='list':    # <<<< ERROR\n",
    "        print(\"Elemento tipo lista encontrado\")\n",
    "        cantidad=len(sublis)\n",
    "        cantidad_total+=cantidad\n",
    "    else:\n",
    "        cantidad_total+=1\n",
    "    i+=1\n",
    "print(cantidad_total)"
   ]
  },
  {
   "cell_type": "code",
   "execution_count": null,
   "metadata": {},
   "outputs": [
    {
     "name": "stdout",
     "output_type": "stream",
     "text": [
      "Lista:\n",
      "[[1, 2, 3, 4], 'rojo', 'verde', [True, False, False], ['uno', 'dos', 'tres']]\n",
      "Largo de lista contando sublistas como elementos:\n",
      "5\n",
      "Cantidad total de elementos, incluidos los elementos de sublistas internas:\n",
      "12\n"
     ]
    }
   ],
   "source": [
    "# Version IA con correccion\n",
    "# Definir lista\n",
    "lis = [[1, 2, 3, 4], 'rojo', 'verde', [True, False, False], ['uno', 'dos', 'tres']]\n",
    "\n",
    "# Imprimir la lista\n",
    "print(\"Lista:\")\n",
    "print(lis)\n",
    "\n",
    "# Imprimir largo de lista contando sublistas como un solo elemento\n",
    "print(\"Largo de lista contando sublistas como elementos:\")\n",
    "print(len(lis))\n",
    "\n",
    "# Contar la cantidad total de elementos, incluidos los elementos en sublistas\n",
    "cantidad_total = 0\n",
    "for elemento in lis:\n",
    "    if isinstance(elemento, list):  # Verificar si el elemento es una lista\n",
    "        cantidad_total += len(elemento)  # Contar los elementos dentro de la sublista\n",
    "    else:\n",
    "        cantidad_total += 1  # Contar los elementos individuales\n",
    "\n",
    "# Imprimir cantidad total\n",
    "print(\"Cantidad total de elementos, incluidos los elementos de sublistas internas:\")\n",
    "print(cantidad_total)\n"
   ]
  }
 ],
 "metadata": {
  "colab": {
   "provenance": []
  },
  "kernelspec": {
   "display_name": "Python 3",
   "language": "python",
   "name": "python3"
  },
  "language_info": {
   "codemirror_mode": {
    "name": "ipython",
    "version": 3
   },
   "file_extension": ".py",
   "mimetype": "text/x-python",
   "name": "python",
   "nbconvert_exporter": "python",
   "pygments_lexer": "ipython3",
   "version": "3.13.0"
  }
 },
 "nbformat": 4,
 "nbformat_minor": 0
}
