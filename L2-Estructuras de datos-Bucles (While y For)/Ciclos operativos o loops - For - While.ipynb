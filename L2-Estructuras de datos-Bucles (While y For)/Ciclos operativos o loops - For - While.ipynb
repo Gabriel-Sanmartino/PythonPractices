{
 "cells": [
  {
   "cell_type": "markdown",
   "id": "49fd85da",
   "metadata": {},
   "source": [
    "<h1 style=\"text-align: center\";>Ciclos operativos o loops: bucle For y While</h1>\n",
    "\n",
    "\n",
    "---\n",
    "\n",
    "### For:\n",
    "\n",
    "El bucle \"for\" es una estructura de control de flujo ✅\n",
    "\n",
    "Lo que hace es: asignar a una variable dinamica definida por nosotros, un elemento de un iterable (puede ser una lista, tupla, diccionario, cadena de texto o rango numerico o incluso un archivo), luego ejecuta el bloque de codigo para la variable con el valor que a tomado del elemento iterable, luego vuelve a ejecutar el codigo sobre la variable con el valor del segundo elemento del iterable y asi sucesivamente hasta terminar de recorrer el objeto.\n",
    "\n",
    "---\n",
    "\n",
    "Veamoslo con un ejemplo🔎:\n",
    "```python\n",
    "Lista = [1,2,3]\n",
    "for variable_dinamica in Lista:\n",
    "    print(variable_dinamica)\n",
    "\n",
    "La terminal devolvera el siguiente resultado:\n",
    "\n",
    "1\n",
    "2\n",
    "3\n",
    "```\n",
    "---\n",
    "Lo que sucedio internamente fue que:\n",
    "\n",
    "- En primera instancia la \"variable_dinamica\" tomo el valor 1 de la \"Lista\", luego ejecuto el codigo \"print(variable_dinamica)\"\n",
    "- Al imprimir el primer resultado (1), el ciclo comienza de nuevo, ahora la \"variable_dinamica\" toma el valor 2 de la \"Lista\" y luego ejecuta el print\n",
    "- En este caso  la variable_dinamica absorbe el ultimo valor, ejecuta el codigo y el bucle finaliza por que ya no quedan mas elementos de la Lista para ser absorvidos por la variable_dinamica\n",
    "\n",
    "##### Hablemos de la palabra reservada **\"in\"**\n",
    "\n",
    "Ella indica de donde tomara los elementos la variable_dinamica\n",
    "\n",
    "##### Ademas existen otras palabras reservadas\n",
    "\n",
    "- break: Permite salir prematuramente del bucle cuando se cumple una condicion, en el ejemplo podriamos indicar el final del bucle cuando se toma el valor 1 o 2.\n",
    "- continue: cuando se cumple la condicion para que se ejecute \"continue\" obvia o salta todo el bloque de codigo por debajo de ella y vuelve a la cabezera del bucle y comienza con la siguiente iteracion\n",
    "- else: por lo general se usa para indicar el final del bucle\n",
    "---\n",
    "\n",
    "### Hora de practicar 💪💡🔥\n",
    "\n",
    "1. Imprime números del 1 al 10:"
   ]
  },
  {
   "cell_type": "code",
   "execution_count": 1,
   "id": "2c4116e4",
   "metadata": {},
   "outputs": [
    {
     "name": "stdout",
     "output_type": "stream",
     "text": [
      "Imprimimos los numeros usando bucle for y una lista:\n",
      "1\n",
      "2\n",
      "3\n",
      "4\n",
      "5\n",
      "6\n",
      "7\n",
      "8\n",
      "9\n",
      "10\n",
      "El bucle finalizo el trabajo sobre la lista\n",
      "Imprimimos los numeros usando bucle for y una tupla:\n",
      "1\n",
      "2\n",
      "3\n",
      "4\n",
      "5\n",
      "6\n",
      "7\n",
      "8\n",
      "9\n",
      "10\n",
      "Se finalizo la impresion de los numeros contenidos en la tupla\n",
      "Imprimimos los numeros usando bucle for y un diccionario:\n",
      "1\n",
      "2\n",
      "3\n",
      "4\n",
      "5\n",
      "6\n",
      "7\n",
      "8\n",
      "9\n",
      "10\n",
      "Imprimiento valores utilizando for y range\n",
      "1\n",
      "2\n",
      "3\n",
      "4\n",
      "5\n",
      "6\n",
      "7\n",
      "8\n",
      "9\n",
      "10\n",
      "El ejercicio 1 se a ha realizado con exito\n"
     ]
    }
   ],
   "source": [
    "# Primer metodo, utilizando lista tupla y diccionario\n",
    "lista1=[1,2,3,4,5,6,7,8,9,10]\n",
    "tupla1=(1,2,3,4,5,6,7,8,9,10)\n",
    "diccionario1= {\"Primero\": 1, \"Segundo\": 2, \"Tercero\": 3,\n",
    "               \"Cuarto\": 4, \"Quinto\": 5, \"Sexto\": 6,\n",
    "               \"Septimo\": 7, \"Octavo\": 8, \"Noveno\": 9,\n",
    "               \"Decimo\":10}\n",
    "# Usando la lista\n",
    "print(\"Imprimimos los numeros usando bucle for y una lista:\")\n",
    "# definimos el bucle\n",
    "for numero in lista1:\n",
    "    print(numero)\n",
    "else:\n",
    "    print(\"El bucle finalizo el trabajo sobre la lista\")\n",
    "# Usando una tupla\n",
    "print(\"Imprimimos los numeros usando bucle for y una tupla:\")\n",
    "for numero in tupla1:\n",
    "    print(numero)\n",
    "print('Se finalizo la impresion de los numeros contenidos en la tupla')\n",
    "# Usando un diccionario\n",
    "print(\"Imprimimos los numeros usando bucle for y un diccionario:\")\n",
    "for clave, valor in diccionario1.items():\n",
    "    print(valor)\n",
    "\n",
    "# ===== Segundo metodo =====\n",
    "# Utilizamos la funcion \"range\"\n",
    "print('Imprimiento valores utilizando for y range')\n",
    "for numero in range(1,11):\n",
    "    print(numero)\n",
    "else:\n",
    "    print('El ejercicio 1 se a ha realizado con exito')"
   ]
  },
  {
   "cell_type": "markdown",
   "id": "11aabd1c",
   "metadata": {},
   "source": [
    "2. Calcula el doble de cada número en una lista:"
   ]
  },
  {
   "cell_type": "code",
   "execution_count": null,
   "id": "9fb516f6",
   "metadata": {},
   "outputs": [
    {
     "name": "stdout",
     "output_type": "stream",
     "text": [
      "La lista ha sido creada correcatamente:\n",
      "[0, 1, 2, 3, 4, 5, 6, 7, 8, 9, 10, 11, 12, 13, 14, 15, 16, 17, 18, 19, 20]\n",
      "Los valores de lista2 han sido duplicados\n",
      "valores lista 2:\n",
      "[0, 1, 2, 3, 4, 5, 6, 7, 8, 9, 10, 11, 12, 13, 14, 15, 16, 17, 18, 19, 20]\n",
      "Valores duplicados\n",
      "[0, 2, 4, 6, 8, 10, 12, 14, 16, 18, 20, 22, 24, 26, 28, 30, 32, 34, 36, 38, 40]\n"
     ]
    }
   ],
   "source": [
    "# Para este ejercicio se creara una lista utilizando un bulce while y luego se duplica el valor de cada elemento\n",
    "\n",
    "# === Definimos el bucle para crear la lista ===\n",
    "lista2=[]\n",
    "num=0\n",
    "while num<=20:\n",
    "    lista2.append(num)\n",
    "    num+=1\n",
    "else:\n",
    "    print('La lista ha sido creada correcatamente:')\n",
    "print(lista2)\n",
    "\n",
    "# === Duplicar el valor de cada elemento de la lista\n",
    "lista_duplicada=[]\n",
    "for numero in lista2:\n",
    "    lista_duplicada.append(numero*2)\n",
    "print(\"Los valores de lista2 han sido duplicados\")\n",
    "print(\"valores lista 2:\")\n",
    "print(lista2)\n",
    "print('Valores duplicados')\n",
    "print(lista_duplicada)"
   ]
  },
  {
   "cell_type": "markdown",
   "id": "16bffcc6",
   "metadata": {},
   "source": [
    "3. Imprime cada letra de una palabra"
   ]
  },
  {
   "cell_type": "code",
   "execution_count": 1,
   "id": "7c451084",
   "metadata": {},
   "outputs": [
    {
     "name": "stdout",
     "output_type": "stream",
     "text": [
      "E\n",
      "x\n",
      "t\n",
      "r\n",
      "e\n",
      "m\n",
      "o\n"
     ]
    }
   ],
   "source": [
    "palabra = \"Extremo\"\n",
    "for letra in palabra:\n",
    "    print(letra)"
   ]
  },
  {
   "cell_type": "markdown",
   "id": "831338f8",
   "metadata": {},
   "source": [
    "4. Caso con break: detén el bucle cuando encuentres el número 5 (range:1,10)"
   ]
  },
  {
   "cell_type": "code",
   "execution_count": 3,
   "id": "f7a8c4cf",
   "metadata": {},
   "outputs": [
    {
     "name": "stdout",
     "output_type": "stream",
     "text": [
      "Buscando el numero 5 en el rango [1,10]\n",
      "1\n",
      "El numero 5 aun no fue encontrado\n",
      "2\n",
      "El numero 5 aun no fue encontrado\n",
      "3\n",
      "El numero 5 aun no fue encontrado\n",
      "4\n",
      "El numero 5 aun no fue encontrado\n",
      "5\n",
      "Bucle finalizado, el numero '5' fue encontrado\n"
     ]
    }
   ],
   "source": [
    "print(\"Buscando el numero 5 en el rango [1,10]\")\n",
    "for i in range(1,10):\n",
    "    print(i)\n",
    "    if i==5:\n",
    "        break\n",
    "    else:\n",
    "        print(\"El numero 5 aun no fue encontrado\")\n",
    "print(\"Bucle finalizado, el numero '5' fue encontrado\")"
   ]
  },
  {
   "cell_type": "code",
   "execution_count": 11,
   "id": "c05ab89e",
   "metadata": {},
   "outputs": [
    {
     "name": "stdout",
     "output_type": "stream",
     "text": [
      "Buscando el numero 5 en el rango [1,10]\n",
      "El numero actual es: 1 el numero 5 aun no ha sido encontrado\n",
      "El numero actual es: 2 el numero 5 aun no ha sido encontrado\n",
      "El numero actual es: 3 el numero 5 aun no ha sido encontrado\n",
      "El numero actual es: 4 el numero 5 aun no ha sido encontrado\n",
      "El numero 5 fue encontrado con exito\n",
      "El bucle ha finalizado\n"
     ]
    }
   ],
   "source": [
    "# Alternativa ejercicio 4\n",
    "print(\"Buscando el numero 5 en el rango [1,10]\")\n",
    "for i in range(1,10):\n",
    "    if i == 5:\n",
    "        print(\"El numero 5 fue encontrado con exito\")\n",
    "        break\n",
    "    print(\"El numero actual es:\",i,\"el numero 5 aun no ha sido encontrado\")\n",
    "print(\"El bucle ha finalizado\")"
   ]
  },
  {
   "cell_type": "markdown",
   "id": "8ea62f87",
   "metadata": {},
   "source": [
    "5. Caso con continue: salta la iteración cuando el número sea 3"
   ]
  },
  {
   "cell_type": "code",
   "execution_count": 10,
   "id": "bcb1034e",
   "metadata": {},
   "outputs": [
    {
     "name": "stdout",
     "output_type": "stream",
     "text": [
      "1\n",
      "2\n",
      "El numero: 3 ha sido salteado correctamente\n",
      "4\n",
      "5\n",
      "6\n",
      "7\n",
      "8\n",
      "9\n"
     ]
    }
   ],
   "source": [
    "for i in range(1,10):\n",
    "    if i == 3:\n",
    "        print(\"El numero:\", i, \"ha sido salteado correctamente\")\n",
    "        continue\n",
    "    print(i)"
   ]
  },
  {
   "cell_type": "code",
   "execution_count": 12,
   "id": "b8c24b7d",
   "metadata": {},
   "outputs": [
    {
     "name": "stdout",
     "output_type": "stream",
     "text": [
      "Saltando la iteración cuando el número es 3:\n",
      "El número actual es 1.\n",
      "El número actual es 2.\n",
      "El número 3 ha sido salteado correctamente.\n",
      "El número actual es 4.\n",
      "El número actual es 5.\n",
      "El número actual es 6.\n",
      "El número actual es 7.\n",
      "El número actual es 8.\n",
      "El número actual es 9.\n",
      "Bucle finalizado.\n"
     ]
    }
   ],
   "source": [
    "# Alternativa estilizada: \n",
    "print(\"Saltando la iteración cuando el número es 3:\")\n",
    "for i in range(1, 10):\n",
    "    if i == 3:\n",
    "        print(f\"El número {i} ha sido salteado correctamente.\")\n",
    "        continue\n",
    "    print(f\"El número actual es {i}.\")\n",
    "print(\"Bucle finalizado.\")\n"
   ]
  },
  {
   "cell_type": "markdown",
   "id": "f43439e1",
   "metadata": {},
   "source": [
    "6. Caso con else: imprime un mensaje cuando el bucle termine normalmente (sin usar break):"
   ]
  },
  {
   "cell_type": "code",
   "execution_count": 13,
   "id": "296862a4",
   "metadata": {},
   "outputs": [
    {
     "name": "stdout",
     "output_type": "stream",
     "text": [
      "1\n",
      "2\n",
      "3\n",
      "4\n",
      "5\n",
      "El bucle ha finalizado normalmente\n"
     ]
    }
   ],
   "source": [
    "for i in range(1,6):\n",
    "    print(i)\n",
    "else:\n",
    "    print(\"El bucle ha finalizado normalmente\")"
   ]
  },
  {
   "cell_type": "code",
   "execution_count": 14,
   "id": "422a218b",
   "metadata": {},
   "outputs": [
    {
     "name": "stdout",
     "output_type": "stream",
     "text": [
      "Iterando del 1 al 5:\n",
      "Número: 1\n",
      "Número: 2\n",
      "Número: 3\n",
      "Número: 4\n",
      "Número: 5\n",
      "El bucle ha finalizado de forma normal.\n"
     ]
    }
   ],
   "source": [
    "print(\"Iterando del 1 al 5:\")\n",
    "for i in range(1, 6):\n",
    "    print(f\"Número: {i}\")\n",
    "else:\n",
    "    print(\"El bucle ha finalizado de forma normal.\")"
   ]
  },
  {
   "cell_type": "markdown",
   "id": "62d054b5",
   "metadata": {},
   "source": [
    "7. Desafío: Integra todas las opciones: Encuentra el número 7, imprime los pares, salta los múltiplos de 3 y al final muestra un mensaje de éxito."
   ]
  },
  {
   "cell_type": "code",
   "execution_count": 18,
   "id": "95e36110",
   "metadata": {},
   "outputs": [
    {
     "name": "stdout",
     "output_type": "stream",
     "text": [
      "Generando lista...\n",
      "La lista fue generada con exito:\n",
      "[0, 1, 2, 3, 4, 5, 6, 7, 8, 9, 10, 11, 12, 13, 14, 15, 16, 17, 18, 19, 20, 21, 22, 23, 24, 25, 26, 27, 28, 29, 30, 31]\n",
      "Recorriendo la lista...\n",
      "Numero par encontrado: 0\n",
      "Numero par encontrado: 2\n",
      "Multiplo de 3 sorteado..\n",
      "Numero par encontrado: 4\n",
      "Numero par encontrado: 6\n",
      "Numero: 7 encontrado\n",
      "Numero par encontrado: 8\n",
      "Multiplo de 3 sorteado..\n",
      "Numero par encontrado: 10\n",
      "Numero par encontrado: 12\n",
      "Numero par encontrado: 14\n",
      "Multiplo de 3 sorteado..\n",
      "Numero par encontrado: 16\n",
      "Numero par encontrado: 18\n",
      "Numero par encontrado: 20\n",
      "Multiplo de 3 sorteado..\n",
      "Numero par encontrado: 22\n",
      "Numero par encontrado: 24\n",
      "Numero par encontrado: 26\n",
      "Multiplo de 3 sorteado..\n",
      "Numero par encontrado: 28\n",
      "Numero par encontrado: 30\n",
      "El desafio ha sido superado con exito\n"
     ]
    }
   ],
   "source": [
    "# === Opcion 1 de resolucion ===\n",
    "\n",
    "# Definir una lista utilizando bucle while:\n",
    "print(f\"Generando lista...\")\n",
    "lista=[]\n",
    "elemento = 0\n",
    "while elemento <=31:\n",
    "    lista.append(elemento)\n",
    "    elemento+=1\n",
    "else:\n",
    "    print('La lista fue generada con exito:')\n",
    "print(f'{lista}')\n",
    "# Recorrer la lista genera para:\n",
    "print(\"Recorriendo la lista...\")\n",
    "    # Encontrar el numero 7\n",
    "    # Imprimir los pares y\n",
    "    # Saltar los multiplos de 3\n",
    "# Bucle\n",
    "for numero in lista:\n",
    "    # Buscar e imprimir numero siete y numeros pares\n",
    "    if numero == 7:\n",
    "        print(f'Numero: {7} encontrado')\n",
    "        continue\n",
    "    elif numero %2 == 0:\n",
    "        print(f'Numero par encontrado: {numero}')\n",
    "        continue\n",
    "    elif numero %3 == 0:\n",
    "        print('Multiplo de 3 sorteado..')\n",
    "        continue\n",
    "    elif numero == lista[-2] and numero % 2 == 0:\n",
    "        print(f'El ultimo numero par ha sido encontrado:{i}')\n",
    "        break\n",
    "else: \n",
    "    print(\"El desafio ha sido superado con exito\")"
   ]
  },
  {
   "cell_type": "code",
   "execution_count": 19,
   "id": "4aeeac43",
   "metadata": {},
   "outputs": [
    {
     "name": "stdout",
     "output_type": "stream",
     "text": [
      "Generando lista...\n",
      "La lista fue generada con éxito:\n",
      "[0, 1, 2, 3, 4, 5, 6, 7, 8, 9, 10, 11, 12, 13, 14, 15, 16, 17, 18, 19, 20, 21, 22, 23, 24, 25, 26, 27, 28, 29, 30, 31]\n",
      "Recorriendo la lista...\n",
      "Número par encontrado: 0\n",
      "Número par encontrado: 2\n",
      "Múltiplo de 3 sorteado: 3\n",
      "Número par encontrado: 4\n",
      "Número par encontrado: 6\n",
      "¡Número 7 encontrado!\n",
      "Número par encontrado: 8\n",
      "Múltiplo de 3 sorteado: 9\n",
      "Número par encontrado: 10\n",
      "Número par encontrado: 12\n",
      "Número par encontrado: 14\n",
      "Múltiplo de 3 sorteado: 15\n",
      "Número par encontrado: 16\n",
      "Número par encontrado: 18\n",
      "Número par encontrado: 20\n",
      "Múltiplo de 3 sorteado: 21\n",
      "Número par encontrado: 22\n",
      "Número par encontrado: 24\n",
      "Número par encontrado: 26\n",
      "Múltiplo de 3 sorteado: 27\n",
      "Número par encontrado: 28\n",
      "Número par encontrado: 30\n",
      "El desafío ha sido superado con éxito.\n"
     ]
    }
   ],
   "source": [
    "# === Version IA ===\n",
    "print(\"Generando lista...\")\n",
    "lista = list(range(0, 32))  # Generación directa de la lista con range()\n",
    "print(f\"La lista fue generada con éxito:\\n{lista}\")\n",
    "\n",
    "print(\"Recorriendo la lista...\")\n",
    "for numero in lista:\n",
    "    if numero == 7:\n",
    "        print(f\"¡Número {numero} encontrado!\")\n",
    "        continue\n",
    "    if numero % 2 == 0:\n",
    "        print(f\"Número par encontrado: {numero}\")\n",
    "        continue\n",
    "    if numero % 3 == 0:\n",
    "        print(f\"Múltiplo de 3 sorteado: {numero}\")\n",
    "        continue\n",
    "else:\n",
    "    print(\"El desafío ha sido superado con éxito.\")\n"
   ]
  },
  {
   "cell_type": "code",
   "execution_count": 20,
   "id": "e3403826",
   "metadata": {},
   "outputs": [
    {
     "name": "stdout",
     "output_type": "stream",
     "text": [
      "Generando lista...\n",
      "La lista fue generada con éxito:\n",
      "[0, 1, 2, 3, 4, 5, 6, 7, 8, 9, 10, 11, 12, 13, 14, 15, 16, 17, 18, 19, 20, 21, 22, 23, 24, 25, 26, 27, 28, 29, 30, 31]\n",
      "Recorriendo la lista...\n",
      "Número par encontrado: 0\n",
      "Número par encontrado: 2\n",
      "Múltiplo de 3 sorteado: 3\n",
      "Número par encontrado: 4\n",
      "Número par encontrado: 6\n",
      "¡Número 7 encontrado! Terminando el bucle.\n"
     ]
    }
   ],
   "source": [
    "print(\"Generando lista...\")\n",
    "lista = list(range(0, 32))  # Generación de la lista del 0 al 31\n",
    "print(f\"La lista fue generada con éxito:\\n{lista}\")\n",
    "\n",
    "print(\"Recorriendo la lista...\")\n",
    "for numero in lista:\n",
    "    if numero == 7:\n",
    "        print(f\"¡Número {numero} encontrado! Terminando el bucle.\")\n",
    "        break  # Se detiene el bucle al encontrar el número 7\n",
    "    if numero % 2 == 0:\n",
    "        print(f\"Número par encontrado: {numero}\")\n",
    "        continue  # Continúa con la siguiente iteración si es par\n",
    "    if numero % 3 == 0:\n",
    "        print(f\"Múltiplo de 3 sorteado: {numero}\")\n",
    "        continue  # Continúa con la siguiente iteración si es múltiplo de 3\n",
    "else:\n",
    "    print(\"El desafío ha sido superado con éxito.\")\n"
   ]
  },
  {
   "cell_type": "markdown",
   "id": "649828e3",
   "metadata": {},
   "source": [
    "---"
   ]
  },
  {
   "cell_type": "markdown",
   "id": "5f459b8b",
   "metadata": {},
   "source": [
    "<h1 style=\"text-align: center\",>Bucle While</h1>\n",
    "\n",
    "---\n",
    "\n",
    "El ciclo o bucle while es una estructura de control de flujo. Permite que se ejecute una accion o tarea mientras una condicion sea verdadera, por lo general este ciclo se utiliza cuando no conocemos o sabemos la cantidad de veces que necesitamos que se ejecute la tarea. \n",
    "Asi como el ciclo for nos permite recorrer elementos iterables, while tambien, con este podemos recorrer: strings, listas, tuplas diccionarios e incluso archivos.\n",
    "\n",
    "\n",
    "El bulcle tiene la siguiente estructura:\n",
    "\n",
    "```python\n",
    "while \"condicion booleana\" :\n",
    "    # Cuerpo del bucle (Bloque o lineas de codigo a ejecutarse si la condicion es \"True\")\n",
    "```\n",
    "##### Donde:\n",
    "\n",
    "- while significa: \"mientras se cumpla\"\n",
    "- \"condicion booleana\": condicion a la que hace referencia la palabra reservada \"while\", esta condicion es definida por el desarrollador y en tanto y en cuanto sea verdadera el cuerpo del bucle se ejecutara.\n",
    "- Cuerpo del bucle: puede ser una linea, bloque de codigo, o bloques de codigo.\n",
    "\n",
    "NOTA: Por lo general al utilizar bucle while es necesario definir una variable o mas antes de la cabecera del bucle, por ejemplo si definimos un contador que vaya desde 0 a 5 podriamos hacerlo de la siguiente manera:\n",
    "\n",
    "```python\n",
    "contandor = 0\n",
    "while contador < 6:\n",
    "    print(f'El contador esta en {contandor})\n",
    "    contador += 1\n",
    "\n",
    "El bloque de codigo anterior imprimira desde el 0 al 5\n",
    "```\n",
    "\n",
    "NOTA: El bucle puede repetirse indefinidamente si la condición nunca cambia a False. Por eso es importante asegurarse de que el bucle tenga una forma de terminar.\n",
    "Si la condición es False desde el inicio, el bucle no se ejecutará.\n",
    "\n",
    "##### Asi como for, while tambien tiene sus palabras reservadas:\n",
    "\n",
    "- break: permite salir prematuramente del bucle\n",
    "- continue: permite obviar la parte del codigo que esta por debajo de ella y volver a ejecutar todo desde la cabezera del bucle\n",
    "- else: nos da la posibilidad de ejecutar una accion o tarea cuando el bucle finaliza normalmente\n",
    "\n",
    "##### A practicar:\n",
    "\n",
    "1. Contar del 1 al 10: Crea un programa que imprima los números del 1 al 10 usando un bucle while"
   ]
  },
  {
   "cell_type": "code",
   "execution_count": 21,
   "id": "12beaeaa",
   "metadata": {},
   "outputs": [
    {
     "name": "stdout",
     "output_type": "stream",
     "text": [
      "El contandor esta en 1\n",
      "El contandor esta en 2\n",
      "El contandor esta en 3\n",
      "El contandor esta en 4\n",
      "El contandor esta en 5\n",
      "El contandor esta en 6\n",
      "El contandor esta en 7\n",
      "El contandor esta en 8\n",
      "El contandor esta en 9\n",
      "El contandor esta en 10\n",
      "El bucle a finalizado normalmente\n"
     ]
    }
   ],
   "source": [
    "# >>> Resolucion ejercicio 1 <<<<\n",
    "\n",
    "# Definimos variable contador:\n",
    "contador = 1 # ==> Lo inicializamos en 1, ya que este es el primer valor que se requiere imprimir\n",
    "\n",
    "# Definimos la cabecera del bucle\n",
    "while contador <= 10: # Esta linea dice: \"Mientras la variable contado sea menor o igual a 10, ejecute el codigo que se encuentra por debajo\"\n",
    "    # Definimos el bloque de codigo a ser ejecutado mientras que contador sea menos o igual a 10\n",
    "    print(f'El contandor esta en {contador}') # Imprimira el texto y el valor de contado en esa iteracion\n",
    "    contador+=1 # En cada iteracion sumara el valor uno al valor actual de contador, lo que hara que este llegue a 10\n",
    "                # Lo cual hara que la condicion se torne \"False\" y el bucle finalizara \n",
    "else:\n",
    "    print('El bucle a finalizado normalmente')\n"
   ]
  },
  {
   "cell_type": "markdown",
   "id": "51562652",
   "metadata": {},
   "source": [
    "2. Sumar números hasta un límite: Escribe un programa que sume números ingresados por el usuario hasta que la suma total alcance 100."
   ]
  },
  {
   "cell_type": "code",
   "execution_count": null,
   "id": "dbf454b5",
   "metadata": {},
   "outputs": [
    {
     "name": "stdout",
     "output_type": "stream",
     "text": [
      "Sumando numeros...\n",
      "El valor maximo ha sido acanzado 91\n"
     ]
    }
   ],
   "source": [
    "# >>> Primera solucion personal <<<\n",
    "resultados_suma = []\n",
    "suma = 0\n",
    "numeros = 1\n",
    "print('Sumando numeros...')\n",
    "while suma <= 100:\n",
    "    suma+=numeros\n",
    "    numeros+=1\n",
    "    if suma <= 100:\n",
    "        resultados_suma.append(suma)\n",
    "    elif suma >= 100:\n",
    "        print(f'El valor maximo ha sido acanzado {resultados_suma[-1]}')\n",
    "        break"
   ]
  },
  {
   "cell_type": "code",
   "execution_count": 51,
   "id": "8b731549",
   "metadata": {},
   "outputs": [
    {
     "name": "stdout",
     "output_type": "stream",
     "text": [
      "Resultado actual: 1\n",
      "Resultado actual: 3\n",
      "Resultado actual: 6\n",
      "Resultado actual: 10\n",
      "Resultado actual: 15\n",
      "Resultado actual: 21\n",
      "Resultado actual: 28\n",
      "Resultado actual: 36\n",
      "Resultado actual: 45\n",
      "Resultado actual: 55\n",
      "Resultado actual: 66\n",
      "Resultado actual: 78\n",
      "Resultado actual: 91\n",
      "El bucle ha finalizado con normalidad el resultado maximo alcanzado es 91\n"
     ]
    }
   ],
   "source": [
    "# >>> Version IA <<<\n",
    "sumIA= 0\n",
    "numIA = 1\n",
    "while sumIA+numIA <=100:\n",
    "    sumIA+=numIA\n",
    "    numIA+=1\n",
    "    print(f'Resultado actual: {sumIA}')\n",
    "else:\n",
    "    print(f'El bucle ha finalizado con normalidad el resultado maximo alcanzado es {sumIA}')"
   ]
  },
  {
   "cell_type": "code",
   "execution_count": null,
   "id": "34046d27",
   "metadata": {},
   "outputs": [],
   "source": [
    "# >>> Version fallidad <<<\n",
    "suma2 = 0\n",
    "numeros2 = 1\n",
    "while suma2 <= 100:\n",
    "    if suma2 >= 100 :\n",
    "        suma2-=numeros2\n",
    "        print(f'El maximo resultado respetando la condicion de que sea igual o menor a 100 ha sido alcanzado, el resultado es: {suma2}')\n",
    "        break\n",
    "    else:\n",
    "        suma2+=numeros2\n",
    "        numeros2+=1"
   ]
  },
  {
   "cell_type": "markdown",
   "id": "9ce28537",
   "metadata": {},
   "source": [
    "3. Adivina el número: Crea un juego donde el usuario intente adivinar un número secreto (por ejemplo, 7). El bucle continúa hasta que el usuario acierte."
   ]
  },
  {
   "cell_type": "code",
   "execution_count": null,
   "id": "d43dcbbd",
   "metadata": {},
   "outputs": [
    {
     "name": "stdout",
     "output_type": "stream",
     "text": [
      "Numero incorrecto 99 por favor intenta nuevamente\n",
      "Numero incorrecto 98 por favor intenta nuevamente\n",
      "Numero incorrecto 97 por favor intenta nuevamente\n",
      "Numero incorrecto 96 por favor intenta nuevamente\n",
      "Numero incorrecto 95 por favor intenta nuevamente\n",
      "Numero incorrecto 94 por favor intenta nuevamente\n",
      "Numero incorrecto 93 por favor intenta nuevamente\n",
      "Numero incorrecto 92 por favor intenta nuevamente\n",
      "Numero incorrecto 91 por favor intenta nuevamente\n",
      "Numero incorrecto 90 por favor intenta nuevamente\n",
      "Numero incorrecto 89 por favor intenta nuevamente\n",
      "Numero incorrecto 88 por favor intenta nuevamente\n",
      "Numero incorrecto 87 por favor intenta nuevamente\n",
      "Numero incorrecto 86 por favor intenta nuevamente\n",
      "Numero incorrecto 85 por favor intenta nuevamente\n",
      "Numero incorrecto 84 por favor intenta nuevamente\n",
      "Numero incorrecto 83 por favor intenta nuevamente\n",
      "Numero incorrecto 82 por favor intenta nuevamente\n",
      "Numero incorrecto 81 por favor intenta nuevamente\n",
      "Numero incorrecto 80 por favor intenta nuevamente\n",
      "Numero incorrecto 79 por favor intenta nuevamente\n",
      "Numero incorrecto 78 por favor intenta nuevamente\n",
      "Numero incorrecto 77 por favor intenta nuevamente\n",
      "Numero incorrecto 76 por favor intenta nuevamente\n",
      "Numero incorrecto 75 por favor intenta nuevamente\n",
      "Numero incorrecto 74 por favor intenta nuevamente\n",
      "Numero incorrecto 73 por favor intenta nuevamente\n",
      "Numero incorrecto 72 por favor intenta nuevamente\n",
      "Numero incorrecto 71 por favor intenta nuevamente\n",
      "Numero incorrecto 70 por favor intenta nuevamente\n",
      "Numero incorrecto 69 por favor intenta nuevamente\n",
      "Numero incorrecto 68 por favor intenta nuevamente\n",
      "Numero incorrecto 67 por favor intenta nuevamente\n",
      "Numero incorrecto 66 por favor intenta nuevamente\n",
      "Numero incorrecto 65 por favor intenta nuevamente\n",
      "Numero incorrecto 64 por favor intenta nuevamente\n",
      "Numero incorrecto 63 por favor intenta nuevamente\n",
      "Numero incorrecto 62 por favor intenta nuevamente\n",
      "Numero incorrecto 61 por favor intenta nuevamente\n",
      "Numero incorrecto 60 por favor intenta nuevamente\n",
      "Numero incorrecto 59 por favor intenta nuevamente\n",
      "Numero incorrecto 58 por favor intenta nuevamente\n",
      "Numero incorrecto 57 por favor intenta nuevamente\n",
      "Numero incorrecto 56 por favor intenta nuevamente\n",
      "Numero incorrecto 55 por favor intenta nuevamente\n",
      "Numero incorrecto 54 por favor intenta nuevamente\n",
      "Numero incorrecto 53 por favor intenta nuevamente\n",
      "Numero incorrecto 52 por favor intenta nuevamente\n",
      "Numero incorrecto 51 por favor intenta nuevamente\n",
      "Numero incorrecto 50 por favor intenta nuevamente\n",
      "Numero incorrecto 49 por favor intenta nuevamente\n",
      "Numero incorrecto 48 por favor intenta nuevamente\n",
      "Numero incorrecto 47 por favor intenta nuevamente\n",
      "Numero incorrecto 46 por favor intenta nuevamente\n",
      "Numero incorrecto 45 por favor intenta nuevamente\n",
      "Numero incorrecto 44 por favor intenta nuevamente\n",
      "Numero incorrecto 43 por favor intenta nuevamente\n",
      "Numero incorrecto 42 por favor intenta nuevamente\n",
      "Numero incorrecto 41 por favor intenta nuevamente\n",
      "Numero incorrecto 40 por favor intenta nuevamente\n",
      "Numero incorrecto 39 por favor intenta nuevamente\n",
      "Numero incorrecto 38 por favor intenta nuevamente\n",
      "Numero incorrecto 37 por favor intenta nuevamente\n",
      "Numero incorrecto 36 por favor intenta nuevamente\n",
      "Numero incorrecto 35 por favor intenta nuevamente\n",
      "Numero incorrecto 34 por favor intenta nuevamente\n",
      "Numero incorrecto 33 por favor intenta nuevamente\n",
      "Numero incorrecto 32 por favor intenta nuevamente\n",
      "Numero incorrecto 31 por favor intenta nuevamente\n",
      "Numero incorrecto 30 por favor intenta nuevamente\n",
      "Numero incorrecto 29 por favor intenta nuevamente\n",
      "Numero incorrecto 28 por favor intenta nuevamente\n",
      "Numero incorrecto 27 por favor intenta nuevamente\n",
      "Numero incorrecto 26 por favor intenta nuevamente\n",
      "Numero incorrecto 25 por favor intenta nuevamente\n",
      "Numero incorrecto 24 por favor intenta nuevamente\n",
      "Numero incorrecto 23 por favor intenta nuevamente\n",
      "Numero incorrecto 22 por favor intenta nuevamente\n",
      "Numero incorrecto 21 por favor intenta nuevamente\n",
      "Numero incorrecto 20 por favor intenta nuevamente\n",
      "Numero incorrecto 19 por favor intenta nuevamente\n",
      "Numero incorrecto 18 por favor intenta nuevamente\n",
      "Numero incorrecto 17 por favor intenta nuevamente\n",
      "Numero incorrecto 16 por favor intenta nuevamente\n",
      "Numero incorrecto 15 por favor intenta nuevamente\n",
      "Numero incorrecto 14 por favor intenta nuevamente\n",
      "Numero incorrecto 13 por favor intenta nuevamente\n",
      "Numero incorrecto 12 por favor intenta nuevamente\n",
      "Numero incorrecto 11 por favor intenta nuevamente\n",
      "Numero incorrecto 10 por favor intenta nuevamente\n",
      "Numero incorrecto 9 por favor intenta nuevamente\n",
      "Numero incorrecto 8 por favor intenta nuevamente\n",
      "Felicidades has adivinado correctamente el valor secreto 7\n"
     ]
    }
   ],
   "source": [
    "# >>> Version personal <<<\n",
    "secreto=7\n",
    "numeroUsuario=100\n",
    "while numeroUsuario!=secreto:\n",
    "    numeroUsuario-=1\n",
    "    if numeroUsuario!=secreto:\n",
    "        print(\"Numero incorrecto\" ,numeroUsuario, \"por favor intenta nuevamente\")\n",
    "else:\n",
    "    print(f'Felicidades has adivinado correctamente el valor secreto {secreto}')"
   ]
  },
  {
   "cell_type": "code",
   "execution_count": 56,
   "id": "27748d16",
   "metadata": {},
   "outputs": [
    {
     "name": "stdout",
     "output_type": "stream",
     "text": [
      "Número incorrecto: 99, por favor intenta nuevamente.\n",
      "Número incorrecto: 98, por favor intenta nuevamente.\n",
      "Número incorrecto: 97, por favor intenta nuevamente.\n",
      "Número incorrecto: 96, por favor intenta nuevamente.\n",
      "Número incorrecto: 95, por favor intenta nuevamente.\n",
      "Número incorrecto: 94, por favor intenta nuevamente.\n",
      "Número incorrecto: 93, por favor intenta nuevamente.\n",
      "Número incorrecto: 92, por favor intenta nuevamente.\n",
      "Número incorrecto: 91, por favor intenta nuevamente.\n",
      "Número incorrecto: 90, por favor intenta nuevamente.\n",
      "Número incorrecto: 89, por favor intenta nuevamente.\n",
      "Número incorrecto: 88, por favor intenta nuevamente.\n",
      "Número incorrecto: 87, por favor intenta nuevamente.\n",
      "Número incorrecto: 86, por favor intenta nuevamente.\n",
      "Número incorrecto: 85, por favor intenta nuevamente.\n",
      "Número incorrecto: 84, por favor intenta nuevamente.\n",
      "Número incorrecto: 83, por favor intenta nuevamente.\n",
      "Número incorrecto: 82, por favor intenta nuevamente.\n",
      "Número incorrecto: 81, por favor intenta nuevamente.\n",
      "Número incorrecto: 80, por favor intenta nuevamente.\n",
      "Número incorrecto: 79, por favor intenta nuevamente.\n",
      "Número incorrecto: 78, por favor intenta nuevamente.\n",
      "Número incorrecto: 77, por favor intenta nuevamente.\n",
      "Número incorrecto: 76, por favor intenta nuevamente.\n",
      "Número incorrecto: 75, por favor intenta nuevamente.\n",
      "Número incorrecto: 74, por favor intenta nuevamente.\n",
      "Número incorrecto: 73, por favor intenta nuevamente.\n",
      "Número incorrecto: 72, por favor intenta nuevamente.\n",
      "Número incorrecto: 71, por favor intenta nuevamente.\n",
      "Número incorrecto: 70, por favor intenta nuevamente.\n",
      "Número incorrecto: 69, por favor intenta nuevamente.\n",
      "Número incorrecto: 68, por favor intenta nuevamente.\n",
      "Número incorrecto: 67, por favor intenta nuevamente.\n",
      "Número incorrecto: 66, por favor intenta nuevamente.\n",
      "Número incorrecto: 65, por favor intenta nuevamente.\n",
      "Número incorrecto: 64, por favor intenta nuevamente.\n",
      "Número incorrecto: 63, por favor intenta nuevamente.\n",
      "Número incorrecto: 62, por favor intenta nuevamente.\n",
      "Número incorrecto: 61, por favor intenta nuevamente.\n",
      "Número incorrecto: 60, por favor intenta nuevamente.\n",
      "Número incorrecto: 59, por favor intenta nuevamente.\n",
      "Número incorrecto: 58, por favor intenta nuevamente.\n",
      "Número incorrecto: 57, por favor intenta nuevamente.\n",
      "Número incorrecto: 56, por favor intenta nuevamente.\n",
      "Número incorrecto: 55, por favor intenta nuevamente.\n",
      "Número incorrecto: 54, por favor intenta nuevamente.\n",
      "Número incorrecto: 53, por favor intenta nuevamente.\n",
      "Número incorrecto: 52, por favor intenta nuevamente.\n",
      "Número incorrecto: 51, por favor intenta nuevamente.\n",
      "Número incorrecto: 50, por favor intenta nuevamente.\n",
      "Número incorrecto: 49, por favor intenta nuevamente.\n",
      "Número incorrecto: 48, por favor intenta nuevamente.\n",
      "Número incorrecto: 47, por favor intenta nuevamente.\n",
      "Número incorrecto: 46, por favor intenta nuevamente.\n",
      "Número incorrecto: 45, por favor intenta nuevamente.\n",
      "Número incorrecto: 44, por favor intenta nuevamente.\n",
      "Número incorrecto: 43, por favor intenta nuevamente.\n",
      "Número incorrecto: 42, por favor intenta nuevamente.\n",
      "Número incorrecto: 41, por favor intenta nuevamente.\n",
      "Número incorrecto: 40, por favor intenta nuevamente.\n",
      "Número incorrecto: 39, por favor intenta nuevamente.\n",
      "Número incorrecto: 38, por favor intenta nuevamente.\n",
      "Número incorrecto: 37, por favor intenta nuevamente.\n",
      "Número incorrecto: 36, por favor intenta nuevamente.\n",
      "Número incorrecto: 35, por favor intenta nuevamente.\n",
      "Número incorrecto: 34, por favor intenta nuevamente.\n",
      "Número incorrecto: 33, por favor intenta nuevamente.\n",
      "Número incorrecto: 32, por favor intenta nuevamente.\n",
      "Número incorrecto: 31, por favor intenta nuevamente.\n",
      "Número incorrecto: 30, por favor intenta nuevamente.\n",
      "Número incorrecto: 29, por favor intenta nuevamente.\n",
      "Número incorrecto: 28, por favor intenta nuevamente.\n",
      "Número incorrecto: 27, por favor intenta nuevamente.\n",
      "Número incorrecto: 26, por favor intenta nuevamente.\n",
      "Número incorrecto: 25, por favor intenta nuevamente.\n",
      "Número incorrecto: 24, por favor intenta nuevamente.\n",
      "Número incorrecto: 23, por favor intenta nuevamente.\n",
      "Número incorrecto: 22, por favor intenta nuevamente.\n",
      "Número incorrecto: 21, por favor intenta nuevamente.\n",
      "Número incorrecto: 20, por favor intenta nuevamente.\n",
      "Número incorrecto: 19, por favor intenta nuevamente.\n",
      "Número incorrecto: 18, por favor intenta nuevamente.\n",
      "Número incorrecto: 17, por favor intenta nuevamente.\n",
      "Número incorrecto: 16, por favor intenta nuevamente.\n",
      "Número incorrecto: 15, por favor intenta nuevamente.\n",
      "Número incorrecto: 14, por favor intenta nuevamente.\n",
      "Número incorrecto: 13, por favor intenta nuevamente.\n",
      "Número incorrecto: 12, por favor intenta nuevamente.\n",
      "Número incorrecto: 11, por favor intenta nuevamente.\n",
      "Número incorrecto: 10, por favor intenta nuevamente.\n",
      "Número incorrecto: 9, por favor intenta nuevamente.\n",
      "Número incorrecto: 8, por favor intenta nuevamente.\n",
      "Número incorrecto: 7, por favor intenta nuevamente.\n",
      "¡Felicidades! Has adivinado correctamente el valor secreto: 7.\n"
     ]
    }
   ],
   "source": [
    "# >>> Version IA <<<\n",
    "secreto = 7\n",
    "numeroUsuario = 100\n",
    "\n",
    "while numeroUsuario != secreto:\n",
    "    numeroUsuario -= 1\n",
    "    print(f\"Número incorrecto: {numeroUsuario}, por favor intenta nuevamente.\")\n",
    "\n",
    "print(f\"¡Felicidades! Has adivinado correctamente el valor secreto: {secreto}.\")\n"
   ]
  },
  {
   "cell_type": "markdown",
   "id": "0cc03c8c",
   "metadata": {},
   "source": [
    "4. Contar números pares e impares: Escribe un programa que cuente cuántos números pares e impares hay en el rango de 1 a 20."
   ]
  },
  {
   "cell_type": "code",
   "execution_count": 65,
   "id": "064c5239",
   "metadata": {},
   "outputs": [
    {
     "name": "stdout",
     "output_type": "stream",
     "text": [
      "La cantidad de numeros pares es: 10\n",
      "La cantidad de numeros imapares es: 10\n"
     ]
    }
   ],
   "source": [
    "# >>> Version Propia <<<<\n",
    "contadorPAR=0\n",
    "contadorIMPAR=0\n",
    "indice=0\n",
    "rango= list(range(1,21))\n",
    "while indice <=19:\n",
    "    if rango[indice] % 2 == 0:\n",
    "        contadorPAR+=1\n",
    "    elif rango[indice] % 2 != 0:\n",
    "        contadorIMPAR+=1\n",
    "    indice+=1\n",
    "else:\n",
    "    print(f'La cantidad de numeros pares es: {contadorPAR}')\n",
    "    print(f'La cantidad de numeros imapares es: {contadorIMPAR}')"
   ]
  },
  {
   "cell_type": "code",
   "execution_count": 66,
   "id": "e1d5fc35",
   "metadata": {},
   "outputs": [
    {
     "name": "stdout",
     "output_type": "stream",
     "text": [
      "La cantidad de números pares es: 10\n",
      "La cantidad de números impares es: 10\n"
     ]
    }
   ],
   "source": [
    "# >>> Version IA <<<<\n",
    "contadorPAR = 0\n",
    "contadorIMPAR = 0\n",
    "indice = 0\n",
    "rango = list(range(1, 21))\n",
    "\n",
    "while indice < len(rango):  # Aseguramos que el índice no salga del rango\n",
    "    if rango[indice] % 2 == 0:\n",
    "        contadorPAR += 1\n",
    "    else:  # Los impares no necesitan verificarse con % 2 != 0; ya son el caso contrario\n",
    "        contadorIMPAR += 1\n",
    "    indice += 1\n",
    "\n",
    "print(f\"La cantidad de números pares es: {contadorPAR}\")\n",
    "print(f\"La cantidad de números impares es: {contadorIMPAR}\")\n"
   ]
  },
  {
   "cell_type": "markdown",
   "id": "06d74221",
   "metadata": {},
   "source": [
    "5. Juego: Encuentra el tesoro: Crea un juego en el que un jugador navegue por un mapa de coordenadas (x, y). El tesoro está en una posición secreta (por ejemplo, x=3, y=5). Permite que el jugador se mueva con comandos (arriba, abajo, izquierda, derecha) y termine el juego cuando encuentre el tesoro."
   ]
  },
  {
   "cell_type": "code",
   "execution_count": null,
   "id": "80eeed55",
   "metadata": {},
   "outputs": [],
   "source": [
    "# >>> ¡En busqueda del tesoro! <<<\n",
    "\n",
    "# Definimos variables para coordenadas de busqueda:\n",
    "t, z = 0, 0\n",
    "\n",
    "# Definimos las coordenadas del tesoro\n",
    "tesoro_t, tesoro_z = 2, 3\n",
    "\n",
    "# Mensaje de inicio de busqueda\n",
    "print(\"¡Adelante, Encuentra el tesoro!\")\n",
    "\n",
    "# Definimos bucle while que se ejectura mientras no se indiquen las coordenadas correctas\n",
    "while (t, z) != (tesoro_t, tesoro_z):\n",
    "    # Mensaje de movimiento\n",
    "    movimiento = input(\"Ingresa: Arriba/Abajo/Izquiera/Derecha para desplazarte: \").lower() # \"lower\" convierte el texto ingresado a mayuscula\n",
    "    # modificamos los valores de t y z segundo el moviento indicado\n",
    "    if movimiento==\"izquierda\":\n",
    "        t-=1\n",
    "        print(f'Te encuentras en las siguientes coordenadas: {t,z}')\n",
    "    elif movimiento==\"derecha\":\n",
    "        t+=1\n",
    "        print(f'Te encuentras en las siguientes coordenadas: {t,z}')\n",
    "    elif movimiento==\"arriba\":\n",
    "        z+=1\n",
    "        print(f'Te encuentras en las siguientes coordenadas: {t,z}')\n",
    "    elif movimiento==\"abajo\":\n",
    "        z-=1\n",
    "        print(f'Te encuentras en las siguientes coordenadas: {t,z}')\n",
    "    else:\n",
    "        print('Movimiento invalido')\n",
    "else:\n",
    "    print(f'¡Felicidades has encontrado el tesoro!')"
   ]
  },
  {
   "cell_type": "code",
   "execution_count": null,
   "id": "85a5552e",
   "metadata": {},
   "outputs": [
    {
     "name": "stdout",
     "output_type": "stream",
     "text": [
      "¡Encuentra el tesoro!\n"
     ]
    }
   ],
   "source": [
    "x, y = 0, 0\n",
    "tesoro_x, tesoro_y = 3, 5\n",
    "\n",
    "print(\"¡Encuentra el tesoro!\")\n",
    "while (x, y) != (tesoro_x, tesoro_y):\n",
    "    movimiento = input(\"Mover (arriba/abajo/izquierda/derecha): \").lower()\n",
    "    if movimiento == \"arriba\":\n",
    "        y += 1\n",
    "    elif movimiento == \"abajo\":\n",
    "        y -= 1\n",
    "    elif movimiento == \"izquierda\":\n",
    "        x -= 1\n",
    "    elif movimiento == \"derecha\":\n",
    "        x += 1\n",
    "    else:\n",
    "        print(\"Movimiento inválido.\")\n",
    "\n",
    "    print(f\"Tu posición actual: ({x}, {y})\")\n",
    "\n",
    "print(\"¡Felicidades, encontraste el tesoro!\")\n"
   ]
  }
 ],
 "metadata": {
  "kernelspec": {
   "display_name": "Python 3",
   "language": "python",
   "name": "python3"
  },
  "language_info": {
   "codemirror_mode": {
    "name": "ipython",
    "version": 3
   },
   "file_extension": ".py",
   "mimetype": "text/x-python",
   "name": "python",
   "nbconvert_exporter": "python",
   "pygments_lexer": "ipython3",
   "version": "3.13.0"
  }
 },
 "nbformat": 4,
 "nbformat_minor": 5
}
