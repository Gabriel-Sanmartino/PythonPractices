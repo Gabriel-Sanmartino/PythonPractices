{
 "cells": [
  {
   "cell_type": "markdown",
   "id": "a8294cc7",
   "metadata": {},
   "source": [
    "<h1 style=\"text-align: center;\">Estructura de datos, loops e iterables</h1>"
   ]
  },
  {
   "cell_type": "markdown",
   "id": "077b6bcd",
   "metadata": {},
   "source": [
    "## Estructuras de datos: Listas, tuplas y diccionarios\n",
    "---"
   ]
  },
  {
   "cell_type": "markdown",
   "id": "fa47933f",
   "metadata": {},
   "source": [
    "### Listas:\n",
    "\n",
    "Estructuras de datos forrmadas por valores encerrados entre corchetes y separados por coma; Ej; \"[rojo,verde,armarillo]\". La listas son mutables, aceptan cualquier tipo de dato o elemento, admiten duplicados y pueden contener mas de un tipó de datos. \n",
    "\n",
    "Estan ordenadas por un indice el cual comienza en cero.\n",
    "\n",
    "Además, podemos utilizar la sintaxis de rebanadas (slices) para acceder a múltiples elementos de una lista de una sola vez. Una rebanada se crea especificando el índice inicial y el índice final, separados por dos puntos. Por ejemplo: \"print(mi_lista[0:3])\" traera desde el elemento de indice cero hasta el de indice 2, es decir no incluye al indice indicado en el cierre.\n",
    "\n",
    "##### Metodos mas comunes aplicables a las listas:\n",
    "\n",
    "- .append() >> Agrega un elemento al final de la lista\n",
    "- .insert() >> Inserta un elemento en la posicion de indice indicada\n",
    "- .extend() >> Agrega los elementos de una lista al final de otra\n",
    "- .index() >> Devuelve el indice de la primera aparicion de un elemento\n",
    "- .remove() >> Elimina la primera aparicion de un elemento en la lista\n",
    "- .sort() >> Ordena los elementos de manera ascendente por defecto, para ordenar descendente usar \"reverse=True\". Aplica para num y strings\n",
    "- .pop() >> Se usa para eliminar y devolver el ultimo elemento de una lista\n",
    "- .reverse() >> Invierte el orden de los elementos de la lista\n",
    "- .count() >> Devuelve el número de apariciones de un elemento específico en la lista \n",
    "- .clear() >> Vacía completamente la lista, dejándola como una lista vacía\n",
    "- .copy() >> Devuelve una copia superficial de la lista\n",
    "- len() >> No es un método, pero es una función integrada que devuelve el tamaño (número de elementos) de la lista, ej:\"print(len(mi_lista))\"\n",
    "- list() >> Funcion que permite convertir un elemento iterable en una lista\n",
    "\n",
    "##### Ejercicios:\n",
    "\n",
    "1.append()\n",
    "\n",
    "Crea una lista vacía llamada mi_lista. Luego, usa el método .append() para agregar cinco números consecutivos (por ejemplo, del 1 al 5). Imprime la lista al final."
   ]
  },
  {
   "cell_type": "code",
   "execution_count": 2,
   "id": "ee413ef8",
   "metadata": {},
   "outputs": [
    {
     "name": "stdout",
     "output_type": "stream",
     "text": [
      "[1, 2, 3, 4, 5]\n"
     ]
    }
   ],
   "source": [
    "# Crear lista vacia\n",
    "mi_lista = []\n",
    "mi_lista.append(1)\n",
    "mi_lista.append(2)\n",
    "mi_lista.append(3)\n",
    "mi_lista.append(4)\n",
    "mi_lista.append(5)\n",
    "print(mi_lista)"
   ]
  },
  {
   "cell_type": "code",
   "execution_count": 7,
   "id": "1133c2ae",
   "metadata": {},
   "outputs": [
    {
     "name": "stdout",
     "output_type": "stream",
     "text": [
      "[1, 2, 3, 4, 5]\n"
     ]
    }
   ],
   "source": [
    "# Alternativa 2\n",
    "mi_lista2 = []\n",
    "for i in range(1, 6):\n",
    "    mi_lista2.append(i)\n",
    "print(mi_lista2)"
   ]
  },
  {
   "cell_type": "markdown",
   "id": "8376aba1",
   "metadata": {},
   "source": [
    "2.insert()\n",
    "\n",
    "Crea una lista con los nombres [\"Ana\", \"Luis\", \"María\"]. Usa el método .insert() para añadir el nombre \"Carlos\" en la posición índice 1. Imprime la lista al final."
   ]
  },
  {
   "cell_type": "code",
   "execution_count": 4,
   "id": "8ce3e0a9",
   "metadata": {},
   "outputs": [
    {
     "name": "stdout",
     "output_type": "stream",
     "text": [
      "['Ana', 'Carlos', 'Luis', 'María']\n"
     ]
    }
   ],
   "source": [
    "nombres = [\"Ana\",\"Luis\",\"María\"]\n",
    "nombres.insert(1,\"Carlos\")\n",
    "print(nombres)"
   ]
  },
  {
   "cell_type": "markdown",
   "id": "bac27dfc",
   "metadata": {},
   "source": [
    "3.extend()\n",
    "\n",
    "Crea dos listas: lista1 = [1, 2, 3] y lista2 = [4, 5, 6]. Usa el método .extend() para combinar ambas listas. Imprime la lista resultante."
   ]
  },
  {
   "cell_type": "code",
   "execution_count": 8,
   "id": "05182df4",
   "metadata": {},
   "outputs": [
    {
     "name": "stdout",
     "output_type": "stream",
     "text": [
      "[1, 2, 3, 4, 5, 6]\n"
     ]
    }
   ],
   "source": [
    "lista1 = [1,2,3]\n",
    "lista2 = [4,5,6]\n",
    "lista1.extend(lista2)\n",
    "print(lista1)"
   ]
  },
  {
   "cell_type": "markdown",
   "id": "27f9fdf5",
   "metadata": {},
   "source": [
    "4.index()\n",
    "\n",
    "Dada la lista mi_lista = [3, 5, 7, 9, 7], utiliza el método .index() para encontrar el índice de la primera aparición del número 7."
   ]
  },
  {
   "cell_type": "code",
   "execution_count": 10,
   "id": "cd37266c",
   "metadata": {},
   "outputs": [
    {
     "name": "stdout",
     "output_type": "stream",
     "text": [
      "2\n"
     ]
    }
   ],
   "source": [
    "mi_lista = [3,5,7,9,7]\n",
    "print(mi_lista.index(7))"
   ]
  },
  {
   "cell_type": "markdown",
   "id": "ae259cc0",
   "metadata": {},
   "source": [
    "5.remove()\n",
    "\n",
    "Dada la lista mi_lista = [1, 2, 3, 4, 3, 5], usa el método .remove() para eliminar la primera aparición del número 3. Imprime la lista resultante."
   ]
  },
  {
   "cell_type": "code",
   "execution_count": 13,
   "id": "b35c679b",
   "metadata": {},
   "outputs": [
    {
     "name": "stdout",
     "output_type": "stream",
     "text": [
      "[1, 2, 4, 3, 5]\n"
     ]
    }
   ],
   "source": [
    "mi_lista = [1, 2, 3, 4, 3, 5]\n",
    "mi_lista.remove(3)\n",
    "print(mi_lista)"
   ]
  },
  {
   "cell_type": "markdown",
   "id": "41ab83f4",
   "metadata": {},
   "source": [
    "6.sort()\n",
    "\n",
    "Crea una lista llamada mi_lista con los números [8, 3, 7, 5, 2]. Usa el método .sort() para ordenarla en orden ascendente y después en descendente (reverse=True). Imprime ambas listas."
   ]
  },
  {
   "cell_type": "code",
   "execution_count": 14,
   "id": "491f0ea6",
   "metadata": {},
   "outputs": [
    {
     "name": "stdout",
     "output_type": "stream",
     "text": [
      "[2, 3, 5, 7, 8]\n",
      "[8, 7, 5, 3, 2]\n"
     ]
    }
   ],
   "source": [
    "mi_lista = [8, 3, 7, 5, 2]\n",
    "mi_lista.sort()\n",
    "print(mi_lista)\n",
    "mi_lista.sort(reverse=True)\n",
    "print(mi_lista)"
   ]
  },
  {
   "cell_type": "markdown",
   "id": "f2e9ee26",
   "metadata": {},
   "source": [
    "7.pop()\n",
    "\n",
    "Dada la lista mi_lista = [\"rojo\", \"verde\", \"azul\", \"amarillo\"], usa el método .pop() para eliminar el último elemento y guardarlo en una variable llamada eliminado. Imprime la lista y el elemento eliminado."
   ]
  },
  {
   "cell_type": "code",
   "execution_count": 15,
   "id": "70f136f6",
   "metadata": {},
   "outputs": [
    {
     "name": "stdout",
     "output_type": "stream",
     "text": [
      "['rojo', 'verde', 'azul']\n",
      "amarillo\n"
     ]
    }
   ],
   "source": [
    "colores = [\"rojo\", \"verde\", \"azul\", \"amarillo\"]\n",
    "color_eliminado = colores.pop()\n",
    "print(colores)\n",
    "print(color_eliminado)"
   ]
  },
  {
   "cell_type": "markdown",
   "id": "63a4b012",
   "metadata": {},
   "source": [
    "8.reverse()\n",
    "\n",
    "Crea una lista llamada mi_lista = [10, 20, 30, 40]. Usa el método .reverse() para invertir su orden. Imprime la lista resultante."
   ]
  },
  {
   "cell_type": "code",
   "execution_count": 19,
   "id": "765d66f2",
   "metadata": {},
   "outputs": [
    {
     "name": "stdout",
     "output_type": "stream",
     "text": [
      "[40, 30, 20, 150]\n"
     ]
    }
   ],
   "source": [
    "mi_lista = [150, 20, 30, 40]\n",
    "mi_lista.reverse()\n",
    "print(mi_lista)"
   ]
  },
  {
   "cell_type": "markdown",
   "id": "21a3f27f",
   "metadata": {},
   "source": [
    "9.count()\n",
    "\n",
    "Dada la lista mi_lista = [\"manzana\", \"banana\", \"pera\", \"manzana\", \"manzana\"], usa el método .count() para contar cuántas veces aparece \"manzana\"."
   ]
  },
  {
   "cell_type": "code",
   "execution_count": 20,
   "id": "940c5440",
   "metadata": {},
   "outputs": [
    {
     "name": "stdout",
     "output_type": "stream",
     "text": [
      "3\n"
     ]
    }
   ],
   "source": [
    "frutas = [\"manzana\", \"banana\", \"pera\", \"manzana\", \"manzana\"]\n",
    "print(frutas.count(\"manzana\"))"
   ]
  },
  {
   "cell_type": "markdown",
   "id": "5dc27913",
   "metadata": {},
   "source": [
    "10.clear()\n",
    "\n",
    "Crea una lista con cualquier contenido. Usa el método .clear() para vaciarla y luego imprime la lista para confirmar que está vacía."
   ]
  },
  {
   "cell_type": "code",
   "execution_count": 25,
   "id": "ab086e8f",
   "metadata": {},
   "outputs": [
    {
     "name": "stdout",
     "output_type": "stream",
     "text": [
      "[]\n"
     ]
    }
   ],
   "source": [
    "badlist = [\"Esta lista esta sucia\", \"es una lista mala\"]\n",
    "badlist.clear()\n",
    "print(badlist)"
   ]
  },
  {
   "cell_type": "markdown",
   "id": "2e9a7503",
   "metadata": {},
   "source": [
    "11.copy()\n",
    "\n",
    "Crea una lista llamada mi_lista = [1, 2, 3, 4, 5]. Usa el método .copy() para generar una copia de la lista y guárdala en otra variable. Cambia algún valor en la copia y luego imprime ambas listas para observar las diferencias."
   ]
  },
  {
   "cell_type": "code",
   "execution_count": 24,
   "id": "93007f03",
   "metadata": {},
   "outputs": [
    {
     "name": "stdout",
     "output_type": "stream",
     "text": [
      "['El original', 'El polaco', 'La banda del lechuga']\n",
      "['Damas Gratis la vieja escuela', 'El original', 'El polaco', 'La banda del lechuga', 'Mc Caco la nueva onda']\n"
     ]
    }
   ],
   "source": [
    "original = [\"El original\", \"El polaco\", \"La banda del lechuga\"]\n",
    "copia = original.copy()\n",
    "copia.append(\"Mc Caco la nueva onda\")\n",
    "copia.insert(0, \"Damas Gratis la vieja escuela\")\n",
    "print(original)\n",
    "print(copia)"
   ]
  },
  {
   "cell_type": "markdown",
   "id": "10464a7e",
   "metadata": {},
   "source": [
    "12 len()\n",
    "\n",
    "Dada la lista mi_lista = [\"a\", \"b\", \"c\", \"d\", \"e\"], usa la función len() para imprimir la cantidad de elementos en la lista."
   ]
  },
  {
   "cell_type": "code",
   "execution_count": 26,
   "id": "20c31ade",
   "metadata": {},
   "outputs": [
    {
     "name": "stdout",
     "output_type": "stream",
     "text": [
      "5\n"
     ]
    }
   ],
   "source": [
    "letras = [\"a\", \"b\", \"c\", \"d\", \"e\"]\n",
    "print(len(letras))"
   ]
  },
  {
   "cell_type": "markdown",
   "id": "0401325e",
   "metadata": {},
   "source": [
    "13 Extraer un slice o rebanada que contenga los tres elementos centrales de la siguiente lista: [1,2,3,4,5,6,7,8,9,10]"
   ]
  },
  {
   "cell_type": "code",
   "execution_count": 28,
   "id": "733e01ce",
   "metadata": {},
   "outputs": [
    {
     "name": "stdout",
     "output_type": "stream",
     "text": [
      "[4, 5, 6]\n"
     ]
    }
   ],
   "source": [
    "enteros=[1,2,3,4,5,6,7,8,9,10]\n",
    "slice=enteros[3:6]\n",
    "print(slice)"
   ]
  },
  {
   "cell_type": "markdown",
   "id": "ba2c30f0",
   "metadata": {},
   "source": [
    "14 Imprimir por pantalla el elemento pileta"
   ]
  },
  {
   "cell_type": "code",
   "execution_count": 30,
   "id": "a8fc3dc1",
   "metadata": {},
   "outputs": [
    {
     "name": "stdout",
     "output_type": "stream",
     "text": [
      "pileta\n"
     ]
    }
   ],
   "source": [
    "elementos= [\"Balon\",\"toalla\",\"skate\",\"guantes\",\"mesa\",\"pileta\",\"plato\"]\n",
    "print(elementos[5])"
   ]
  },
  {
   "cell_type": "markdown",
   "id": "b5c18535",
   "metadata": {},
   "source": [
    "15 Ejemplo de multiplicacion de una lista"
   ]
  },
  {
   "cell_type": "code",
   "execution_count": 31,
   "id": "21b2bac2",
   "metadata": {},
   "outputs": [
    {
     "name": "stdout",
     "output_type": "stream",
     "text": [
      "['JA', 'JA', 'JA'] , Que chistoso!\n"
     ]
    }
   ],
   "source": [
    "sarcasmo = [\"JA\"]\n",
    "ironia = \"Que chistoso\"\n",
    "print(sarcasmo*3,\",\",ironia+\"!\")"
   ]
  },
  {
   "cell_type": "code",
   "execution_count": 33,
   "id": "b62fd6b1",
   "metadata": {},
   "outputs": [
    {
     "name": "stdout",
     "output_type": "stream",
     "text": [
      "['astra', 'bora', '405', 'astra', 'bora', '405', 'astra', 'bora', '405']\n"
     ]
    }
   ],
   "source": [
    "# Otro ejemplo de multiplicacion\n",
    "\n",
    "mis_autos=[\"astra\",\"bora\",\"405\"]\n",
    "mis_autos*=3\n",
    "print(mis_autos)"
   ]
  },
  {
   "cell_type": "markdown",
   "id": "b40fcf5d",
   "metadata": {},
   "source": [
    "Extra: Combina varios métodos\n",
    "Crea una lista vacía llamada mi_lista y realiza las siguientes acciones en orden:\n",
    "\n",
    "Usa .append() para agregar elementos.\n",
    "\n",
    "Usa .insert() para añadir un elemento en la posición 2.\n",
    "\n",
    "Usa .reverse() para invertir el orden.\n",
    "\n",
    "Usa .pop() para eliminar el último elemento.\n",
    "\n",
    "Usa .len() para contar los elementos restantes. Imprime la lista en cada paso para observar los cambios."
   ]
  },
  {
   "cell_type": "code",
   "execution_count": 35,
   "id": "d07a9748",
   "metadata": {},
   "outputs": [
    {
     "name": "stdout",
     "output_type": "stream",
     "text": [
      "[]\n",
      "[1, 2, 3, 4, 5, 6, 7, 8, 9, 10, 11, 12, 13, 14, 15, 16, 17, 18, 19, 20, 21, 22, 23, 24, 25, 26, 27, 28, 29, 30, 31, 32, 33, 34, 35, 36, 37, 38, 39, 40, 41, 42, 43, 44, 45, 46, 47, 48, 49, 50, 51, 52, 53, 54, 55, 56, 57, 58, 59, 60, 61, 62, 63, 64, 65, 66, 67, 68, 69, 70, 71, 72, 73, 74, 75, 76, 77, 78, 79, 80, 81, 82, 83, 84, 85, 86, 87, 88, 89, 90, 91, 92, 93, 94, 95, 96, 97, 98, 99, 100]\n",
      "[1, 'Texto en posicion 2(indice 1)', 2, 3, 4, 5, 6, 7, 8, 9, 10, 11, 12, 13, 14, 15, 16, 17, 18, 19, 20, 21, 22, 23, 24, 25, 26, 27, 28, 29, 30, 31, 32, 33, 34, 35, 36, 37, 38, 39, 40, 41, 42, 43, 44, 45, 46, 47, 48, 49, 50, 51, 52, 53, 54, 55, 56, 57, 58, 59, 60, 61, 62, 63, 64, 65, 66, 67, 68, 69, 70, 71, 72, 73, 74, 75, 76, 77, 78, 79, 80, 81, 82, 83, 84, 85, 86, 87, 88, 89, 90, 91, 92, 93, 94, 95, 96, 97, 98, 99, 100]\n",
      "[100, 99, 98, 97, 96, 95, 94, 93, 92, 91, 90, 89, 88, 87, 86, 85, 84, 83, 82, 81, 80, 79, 78, 77, 76, 75, 74, 73, 72, 71, 70, 69, 68, 67, 66, 65, 64, 63, 62, 61, 60, 59, 58, 57, 56, 55, 54, 53, 52, 51, 50, 49, 48, 47, 46, 45, 44, 43, 42, 41, 40, 39, 38, 37, 36, 35, 34, 33, 32, 31, 30, 29, 28, 27, 26, 25, 24, 23, 22, 21, 20, 19, 18, 17, 16, 15, 14, 13, 12, 11, 10, 9, 8, 7, 6, 5, 4, 3, 2, 'Texto en posicion 2(indice 1)', 1]\n",
      "[100, 99, 98, 97, 96, 95, 94, 93, 92, 91, 90, 89, 88, 87, 86, 85, 84, 83, 82, 81, 80, 79, 78, 77, 76, 75, 74, 73, 72, 71, 70, 69, 68, 67, 66, 65, 64, 63, 62, 61, 60, 59, 58, 57, 56, 55, 54, 53, 52, 51, 50, 49, 48, 47, 46, 45, 44, 43, 42, 41, 40, 39, 38, 37, 36, 35, 34, 33, 32, 31, 30, 29, 28, 27, 26, 25, 24, 23, 22, 21, 20, 19, 18, 17, 16, 15, 14, 13, 12, 11, 10, 9, 8, 7, 6, 5, 4, 3, 2, 'Texto en posicion 2(indice 1)']\n",
      "100\n"
     ]
    }
   ],
   "source": [
    "# Definit lista vacia\n",
    "mi_lista=[]\n",
    "print(mi_lista)\n",
    "# Agregamos elementos usando bucle for\n",
    "for x in range(1,101):\n",
    "    mi_lista.append(x)\n",
    "print(mi_lista)\n",
    "# Insertamos texto en la posicion 2\n",
    "mi_lista.insert(1,\"Texto en posicion 2(indice 1)\")\n",
    "print(mi_lista)\n",
    "# Invertir orden\n",
    "mi_lista.reverse()\n",
    "print(mi_lista)\n",
    "# Eliminar ultimo elemento\n",
    "mi_lista.pop()\n",
    "print(mi_lista)\n",
    "# Contar elementos\n",
    "print(len(mi_lista))"
   ]
  },
  {
   "cell_type": "markdown",
   "id": "f4ba77d6",
   "metadata": {},
   "source": [
    "### Tuplas:\n",
    "\n",
    "Son estructuras de datos similares a las listas, la mayor diferencia radica en que estas son inmutables, y ademas estan encerradas entre parentesis en ves de corchetes. Ej; \"(a,b,c)\". Estas pueden recibir datos duplicados, de diferentes tipos y almacenar variables como elementos de tupla e incluso listas.\n",
    "\n",
    "##### Metos de tuplas:\n",
    "\n",
    "- in: verifica si un elemento esta en la tupla\n",
    "- count: cuenta la cantidad de veces que aparece un elemnto en la tupla\n",
    "- index: indica el indice de la primera aparicion de un elemento en la tupla\n",
    "- len (funcion): cuenta la cantidad de elementos en la tupla\n",
    "- sorted (funcion): no es una funcion directa de tuplas, devuelve una lista ordenada de los elementos de la tupla\n",
    "- tuple: convierte un elemento iterable en una tupla, por ejemplo una cadena de texto o una lista\n",
    "\n",
    "##### Empaquetado y desempaquetado de tuplas\n",
    "\n",
    "- Empaquetado: accion de almacenar una tupla en una variable\n",
    "- Desempaquetado: separar y almacenar los valores de una tupla en variables, ej; a,b,c = tupla >> *La tupla podria ser tupla=(1,2,3)\n",
    "\n",
    "##### Ejercicios:\n",
    "\n",
    "1. Crear y acceder a elementos de una tupla:\n",
    "\n",
    "Crea una tupla con los números del 1 al 5.\n",
    "\n",
    "Accede al primer y último elemento de la tupla usando índices.\n",
    "\n",
    "Intenta cambiar el valor del segundo elemento de la tupla. ¿Qué sucede?\n"
   ]
  },
  {
   "cell_type": "code",
   "execution_count": 41,
   "id": "28e4bc1f",
   "metadata": {},
   "outputs": [
    {
     "name": "stdout",
     "output_type": "stream",
     "text": [
      "(1, 2, 3, 4, 5)\n",
      "1\n",
      "5\n",
      "Error a modificar el elemento de tipo o clase 'tuple' ya que es inmutable\n"
     ]
    }
   ],
   "source": [
    "# Definir una tupla\n",
    "tupla=(1,2,3,4,5)\n",
    "print(tupla)\n",
    "# Acceder al primer elemento\n",
    "print(tupla[0])\n",
    "# Acceder al ultimo elemento\n",
    "print(tupla[4])\n",
    "# Intentar cambiar el valor\n",
    "try:\n",
    "    tupla[1]=10\n",
    "    print(\"Valor modificado\")\n",
    "except TypeError:\n",
    "    print(\"Error a modificar el elemento de tipo o clase 'tuple' ya que es inmutable\")"
   ]
  },
  {
   "cell_type": "markdown",
   "id": "c44564b9",
   "metadata": {},
   "source": [
    "2. index() y count():\n",
    "\n",
    "Crea una tupla llamada tupla_colores con los valores (\"rojo\", \"azul\", \"verde\", \"rojo\", \"amarillo\").\n",
    "\n",
    "Usa el método count() para contar cuántas veces aparece el color \"rojo\".\n",
    "\n",
    "Usa el método index() para encontrar la posición de \"verde\"."
   ]
  },
  {
   "cell_type": "code",
   "execution_count": 43,
   "id": "a2618fe6",
   "metadata": {},
   "outputs": [
    {
     "name": "stdout",
     "output_type": "stream",
     "text": [
      "El color rojo aparece 2 veces\n",
      "El indice del color verde es: 2\n"
     ]
    }
   ],
   "source": [
    "tupla_colores=(\"rojo\",\"azul\",\"verde\",\"rojo\",\"amarillo\")\n",
    "print(\"El color rojo aparece\",tupla_colores.count(\"rojo\"),\"veces\")\n",
    "print(\"El indice del color verde es:\",tupla_colores.index(\"verde\"))"
   ]
  },
  {
   "cell_type": "markdown",
   "id": "2422af03",
   "metadata": {},
   "source": [
    "3. len() y conversión a lista:\n",
    "\n",
    "Crea una tupla con cinco palabras de tu elección.\n",
    "\n",
    "Usa len() para encontrar la cantidad total de palabras.\n",
    "\n",
    "Convierte la tupla a una lista utilizando list() y agrega una nueva palabra al final."
   ]
  },
  {
   "cell_type": "code",
   "execution_count": 46,
   "id": "aca2d96d",
   "metadata": {},
   "outputs": [
    {
     "name": "stdout",
     "output_type": "stream",
     "text": [
      "Cantidad de palabras/frases en tupla: 5\n",
      "['paz', 'guerra', 'mundo libre', 'mundo moderno', 'futuro', 'Nuevo elemento']\n"
     ]
    }
   ],
   "source": [
    "fre_tuple = ('paz','guerra','mundo libre','mundo moderno', 'futuro')\n",
    "print(\"Cantidad de palabras/frases en tupla:\", len(fre_tuple))\n",
    "lista = list(fre_tuple)\n",
    "lista.append(\"Nuevo elemento\")\n",
    "print(lista)"
   ]
  },
  {
   "cell_type": "markdown",
   "id": "8ca6cc1f",
   "metadata": {},
   "source": [
    "4. Empaquetado de tuplas:\n",
    "\n",
    "Crea una tupla llamada mi_tupla que contenga tu nombre, edad, y ciudad.\n",
    "\n",
    "Imprime la tupla."
   ]
  },
  {
   "cell_type": "code",
   "execution_count": 47,
   "id": "e6e51a3f",
   "metadata": {},
   "outputs": [
    {
     "name": "stdout",
     "output_type": "stream",
     "text": [
      "('Gabriel', '29', 'San Juan')\n"
     ]
    }
   ],
   "source": [
    "mi_tupla = (\"Gabriel\",\"29\",\"San Juan\")\n",
    "print(mi_tupla)"
   ]
  },
  {
   "cell_type": "markdown",
   "id": "68ea225f",
   "metadata": {},
   "source": [
    "5. Desempaquetado de tuplas:\n",
    "\n",
    "Usando la tupla mi_tupla del ejercicio anterior, desempaqueta sus valores en tres variables: nombre, edad y ciudad.\n",
    "\n",
    "Imprime cada variable."
   ]
  },
  {
   "cell_type": "code",
   "execution_count": 48,
   "id": "a524e1c0",
   "metadata": {},
   "outputs": [
    {
     "name": "stdout",
     "output_type": "stream",
     "text": [
      "Gabriel\n",
      "29\n",
      "San Juan\n"
     ]
    }
   ],
   "source": [
    "Nombre, Edad, Ciudad = mi_tupla\n",
    "print(Nombre)\n",
    "print(Edad)\n",
    "print(Ciudad)"
   ]
  },
  {
   "cell_type": "markdown",
   "id": "efe12346",
   "metadata": {},
   "source": [
    "6. Desempaquetado con *:\n",
    "\n",
    "Crea una tupla con los números del 1 al 10.\n",
    "\n",
    "Desempaca los primeros dos números en las variables a y b, y el resto en una lista llamada resto.\n",
    "\n",
    "Imprime las variables y la lista."
   ]
  },
  {
   "cell_type": "code",
   "execution_count": 49,
   "id": "4a9d4009",
   "metadata": {},
   "outputs": [
    {
     "name": "stdout",
     "output_type": "stream",
     "text": [
      "1 2 [3, 4, 5, 6, 7, 8, 9, 10]\n"
     ]
    }
   ],
   "source": [
    "numerosz=(1,2,3,4,5,6,7,8,9,10)\n",
    "a,b,*resto = numerosz\n",
    "print(a,b,resto)"
   ]
  },
  {
   "cell_type": "markdown",
   "id": "564f7ae1",
   "metadata": {},
   "source": [
    "7. Concatenación y repetición de tuplas:\n",
    "\n",
    "Crea dos tuplas: una con las vocales ((\"a\", \"e\", \"i\", \"o\", \"u\")) y otra con los números ((1, 2, 3)).\n",
    "\n",
    "Concáténalas en una nueva tupla y luego repite esa tupla tres veces.\n",
    "\n",
    "Imprime el resultado."
   ]
  },
  {
   "cell_type": "code",
   "execution_count": 51,
   "id": "3dbfd7b0",
   "metadata": {},
   "outputs": [
    {
     "name": "stdout",
     "output_type": "stream",
     "text": [
      "('a', 'e', 'i', 'o', 'u')\n",
      "(1, 2, 3)\n",
      "('a', 'e', 'i', 'o', 'u', 1, 2, 3)\n",
      "('a', 'e', 'i', 'o', 'u', 1, 2, 3, 'a', 'e', 'i', 'o', 'u', 1, 2, 3, 'a', 'e', 'i', 'o', 'u', 1, 2, 3)\n"
     ]
    }
   ],
   "source": [
    "vocales=(\"a\",\"e\",\"i\",\"o\",\"u\")\n",
    "numerosk=(1,2,3)\n",
    "nueva_tupla = vocales+numerosk\n",
    "tuplapor3 = nueva_tupla*3\n",
    "\n",
    "print(vocales)\n",
    "print(numerosk)\n",
    "print(nueva_tupla)\n",
    "print(tuplapor3)"
   ]
  },
  {
   "cell_type": "markdown",
   "id": "b55aef6a",
   "metadata": {},
   "source": [
    "8. Immutabilidad en acción:\n",
    "\n",
    "Crea una tupla con cualquier contenido.\n",
    "\n",
    "Intenta agregar, eliminar o modificar un elemento. Observa el error y explícalo.\n"
   ]
  },
  {
   "cell_type": "code",
   "execution_count": null,
   "id": "3265872e",
   "metadata": {},
   "outputs": [
    {
     "name": "stdout",
     "output_type": "stream",
     "text": [
      "La tupla no pudo ser modificada ya que las tuplas son elementos o estructuras de datos de caracter inmutable\n",
      "('Esto es un string', 170, ['a', 'b', 'c'], 'Negro')\n"
     ]
    }
   ],
   "source": [
    "cualquier_valor=(\"Esto es un string\", 170,[\"a\",\"b\",\"c\"],\"Negro\")\n",
    "lista_para_agregar=[678,250]\n",
    "try:\n",
    "    cualquier_valor[0]=\"Aqui iba otro string\"\n",
    "    print(\"Tupla modificada\")\n",
    "except:\n",
    "    print(\"La tupla no pudo ser modificada ya que las tuplas son elementos o estructuras de datos de caracter inmutable\")\n",
    "\n",
    "\n",
    "print(cualquier_valor)"
   ]
  },
  {
   "cell_type": "markdown",
   "id": "ca9243ef",
   "metadata": {},
   "source": [
    "9. Comparación entre listas y tuplas:\n",
    "\n",
    "Crea una lista y una tupla con los mismos elementos.\n",
    "\n",
    "Intenta modificar los elementos de la lista y luego de la tupla. Escribe una conclusión sobre las diferencias."
   ]
  },
  {
   "cell_type": "code",
   "execution_count": 3,
   "id": "1df58b2d",
   "metadata": {},
   "outputs": [
    {
     "name": "stdout",
     "output_type": "stream",
     "text": [
      "Lista modificada\n",
      "[1, 2, 3.5]\n",
      "La tupla no pudo ser modificada\n",
      "(1, 2, 3)\n",
      "==================CONCLUSIONES:=====================La lista pudo ser modificada, por el contrario la tupla no, por lo que podemos decir que la diferencia mas relevanteentre lista y tuplas es la posibiilidad de cambiar o mutar, las primeras, son de caracter mutable, mientras quelas tuplas no pueden ser modificadas, es decir, son de caracter inmutable\n"
     ]
    }
   ],
   "source": [
    "# Definir una lista y una tupla\n",
    "lista=[1,2,3]\n",
    "tuplax=(1,2,3)\n",
    "\n",
    "# Modificar lista\n",
    "lista[2]=3.5\n",
    "print(\"Lista modificada\")\n",
    "print(lista)\n",
    "\n",
    "# Modificar tupla\n",
    "try:\n",
    "    tuplax[2]=3.5\n",
    "    print(\"La tupla ha sido modificada\")\n",
    "    print(tuplax)\n",
    "except:\n",
    "    print(\"La tupla no pudo ser modificada\")\n",
    "print(tuplax)\n",
    "print(\"==================CONCLUSIONES:=====================\" \\\n",
    "\"La lista pudo ser modificada, por el contrario la tupla no, por lo que podemos decir que la diferencia mas relevante\" \\\n",
    "\"entre lista y tuplas es la posibiilidad de cambiar o mutar, las primeras, son de caracter mutable, mientras que\" \\\n",
    "\"las tuplas no pueden ser modificadas, es decir, son de caracter inmutable\")"
   ]
  },
  {
   "cell_type": "markdown",
   "id": "40bf99b1",
   "metadata": {},
   "source": [
    "10. Reto de funciones con tuplas:\n",
    "\n",
    "Escribe una función llamada calcular_suma que reciba una tupla con números y devuelva la suma de todos sus elementos.\n",
    "\n",
    "Crea una tupla con números de ejemplo y llama a la función."
   ]
  },
  {
   "cell_type": "code",
   "execution_count": 4,
   "id": "5b18aab5",
   "metadata": {},
   "outputs": [
    {
     "name": "stdout",
     "output_type": "stream",
     "text": [
      "50\n"
     ]
    }
   ],
   "source": [
    "tupla_ejemplo = (10,15,25)\n",
    "\n",
    "# Definimos la funcion \"calcular_suma\"\n",
    "\n",
    "def calcular_suma(tupl):\n",
    "    a,b,c=tupl\n",
    "    resultado = a+b+c\n",
    "    return resultado\n",
    "\n",
    "# Usamos la funcion\n",
    "print(calcular_suma(tupla_ejemplo))"
   ]
  },
  {
   "cell_type": "markdown",
   "id": "689b190c",
   "metadata": {},
   "source": [
    "### Diccionarios:\n",
    "\n",
    "Son estructuras de datos con el formato en pares de clave valor por ejemplo: {\"clave\": \"valor\", \"clave2\",\"valor2\"}. Las claves son inmutales y deben ser unicas, no pueden repetirse en el diccionario, ademas reciben elementos inmutables, enteros, cadenas, tuplas. En cambio los valores si pueden cambiar, tambien pueden ser de todo tipo y no hay necesidad de que sean unicos. Es importante aclarar que si bien una clave una ves definida no pueda cambiar, esta si puede ser eliminada del diccionario.\n",
    "\n",
    "##### Algunos metodos y funciones:\n",
    "\n",
    "- dict: sirve para definir o inicializar un diccionario, tambien podemos pasarle un elemnto iterable a la funcion como una lista y la convierte en un dict\n",
    "- .keys: nos permite obtener las claves de un diccionario\n",
    "- .values: devuelve los valores que contiene un diccionario\n",
    "- len: permite conocer la cantidad de pares clave-valor contenidos en el diccionario\n",
    "- .items: devuelve una vista de pares clave-valor como tuplas\n",
    "- .get: retorna el valor de una clave si esta existe, de lo contrario devuelve \"None\"\n",
    "- .update: actualiza un diccionario con pares clave-valor de otro (deja los pares existentes y agrega los del diccionario con pares adicionales)\n",
    "- .clear: vacia el diccionario\n",
    "- .pop: elimina una clave y devuelve su valor\n",
    "- .copy: devuelve una copia superficial del diccionario\n",
    "- .setdefault: devuelve el valor de una clave, si no existe la agrega con un valor por defecto\n",
    "- in: verifica si una clave existe en un diccionario\n",
    "\n",
    "##### Ejercicios:\n",
    "\n",
    "1. Crear y acceder a elementos de un diccionario"
   ]
  },
  {
   "cell_type": "code",
   "execution_count": 13,
   "id": "e33d5b61",
   "metadata": {},
   "outputs": [
    {
     "name": "stdout",
     "output_type": "stream",
     "text": [
      "{'Data analytics': 'Analisis de datos', 'Insights': 'Percepciones sobre el avance del analisis', 'KPIs': 'Indicadores claves de rendimiento'}\n",
      "dict_keys(['Data analytics', 'Insights', 'KPIs'])\n",
      "dict_values(['Analisis de datos', 'Percepciones sobre el avance del analisis', 'Indicadores claves de rendimiento'])\n",
      "Analisis de datos\n"
     ]
    }
   ],
   "source": [
    "# Definimos diccionario del analista\n",
    "diccionario_del_analista = {\"Data analytics\": \"Analisis de datos\", \"Insights\": \"Percepciones sobre el avance del analisis\",\"KPIs\": \"Indicadores claves de rendimiento\"}\n",
    "# Imprimimos el diccionario completo\n",
    "print(diccionario_del_analista)\n",
    "# Imprimimos las claves del diccionario\n",
    "print(diccionario_del_analista.keys())\n",
    "# Imprimir valores del diccionario\n",
    "print(diccionario_del_analista.values())\n",
    "# Imprimir solo el primer valor\n",
    "print(diccionario_del_analista[\"Data analytics\"])"
   ]
  },
  {
   "cell_type": "markdown",
   "id": "b08e8c9d",
   "metadata": {},
   "source": [
    "2. Agregar y modificar elementos"
   ]
  },
  {
   "cell_type": "code",
   "execution_count": 14,
   "id": "ec1de572",
   "metadata": {},
   "outputs": [
    {
     "name": "stdout",
     "output_type": "stream",
     "text": [
      "{'Data analytics': 'Analisis de datos', 'Insights': 'Percepciones sobre el avance del analisis', 'KPIs': 'Indicadores claves de rendimiento', 'Metrica': 'Indicador de rendimiento del negocio'}\n",
      "{'Data analytics': 'Analisis de datos', 'Insights': 'Hallazgos del analisis', 'KPIs': 'Indicadores claves de rendimiento', 'Metrica': 'Indicador de rendimiento del negocio', 'Estadistica descriptiva': 'Rama de la estadistica que permite describir una poblacion o muestra', 'Estadistica inferencial': 'Rama de la estadistica que permite realizar proyecciones o predicciones sobre el comportamiento de una variable o fenomeno', 'ROI': 'Indice de retorno de la inversion'}\n",
      "{'Data analytics': 'Analisis de datos', 'Insights': 'Hallazgos del analisis', 'KPIs': 'Indicadores claves de rendimiento', 'Metrica': 'Indicador de rendimiento del negocio', 'Estadistica descriptiva': 'Rama de la estadistica que permite describir una poblacion o muestra', 'Estadistica inferencial': 'Rama de la estadistica que permite realizar proyecciones o predicciones sobre el comportamiento de una variable o fenomeno', 'ROI': 'Indice de retorno de la inversion', 'Cantidad de analistas en argentina': 3700, 'Vacantes disponibles para analistas': 2800}\n"
     ]
    }
   ],
   "source": [
    "# Agregar pares clave valor\n",
    "diccionario_del_analista[\"Metrica\"]=\"Indicador de rendimiento del negocio\"\n",
    "print(diccionario_del_analista)\n",
    "# Modificar el valor de la clave \"Insights\"\n",
    "diccionario_del_analista[\"Insights\"]=\"Hallazgos del analisis\"\n",
    "# Crear nuevo diccionario y actualizar existente\n",
    "actualizar_diccionario = {\"Estadistica descriptiva\": \"Rama de la estadistica que permite describir una poblacion o muestra\", \"Estadistica inferencial\":\n",
    "                          \"Rama de la estadistica que permite realizar proyecciones o predicciones sobre el comportamiento de una variable o fenomeno\",\n",
    "                          \"ROI\": \"Indice de retorno de la inversion\"}\n",
    "actualizar_diccionarioV2 = {\"Cantidad de analistas en argentina\":3700, \"Vacantes disponibles para analistas\": 2800}\n",
    "diccionario_del_analista.update(actualizar_diccionario)\n",
    "print(diccionario_del_analista)\n",
    "diccionario_del_analista.update(actualizar_diccionarioV2)\n",
    "print(diccionario_del_analista)"
   ]
  },
  {
   "cell_type": "markdown",
   "id": "d6a66ab4",
   "metadata": {},
   "source": [
    "3. Eliminar elementos"
   ]
  },
  {
   "cell_type": "code",
   "execution_count": 15,
   "id": "f8c9b9aa",
   "metadata": {},
   "outputs": [
    {
     "name": "stdout",
     "output_type": "stream",
     "text": [
      "{'Insights': 'Hallazgos del analisis', 'KPIs': 'Indicadores claves de rendimiento', 'Metrica': 'Indicador de rendimiento del negocio', 'Estadistica descriptiva': 'Rama de la estadistica que permite describir una poblacion o muestra', 'Estadistica inferencial': 'Rama de la estadistica que permite realizar proyecciones o predicciones sobre el comportamiento de una variable o fenomeno', 'ROI': 'Indice de retorno de la inversion', 'Cantidad de analistas en argentina': 3700, 'Vacantes disponibles para analistas': 2800}\n"
     ]
    }
   ],
   "source": [
    "del diccionario_del_analista[\"Data analytics\"]\n",
    "print(diccionario_del_analista)"
   ]
  },
  {
   "cell_type": "markdown",
   "id": "50945dbf",
   "metadata": {},
   "source": [
    "4. Iterar sobre un diccionario y presentarlo de forma ordenada:"
   ]
  },
  {
   "cell_type": "code",
   "execution_count": 21,
   "id": "8e5abade",
   "metadata": {},
   "outputs": [
    {
     "name": "stdout",
     "output_type": "stream",
     "text": [
      "Nombre : Gabriel Anibal\n",
      "Apellido : Sanmartino Maza\n",
      "Edad : 29\n",
      "Profesion : Analista de negocios\n"
     ]
    }
   ],
   "source": [
    "datos_personales = {\"Nombre\": \"Gabriel Anibal\", \"Apellido\": \"Sanmartino Maza\",\"Edad\": 29,\"Profesion\": \"Analista de negocios\"}\n",
    "\n",
    "for atributo, valor in datos_personales.items(): # .items permite mostrar cada clave valor como tupla\n",
    "    print(f\"{atributo} : {valor}\")"
   ]
  },
  {
   "cell_type": "markdown",
   "id": "d73c79a3",
   "metadata": {},
   "source": [
    "5. Usar valores por defecto con .get()"
   ]
  },
  {
   "cell_type": "code",
   "execution_count": 23,
   "id": "fac75e93",
   "metadata": {},
   "outputs": [
    {
     "name": "stdout",
     "output_type": "stream",
     "text": [
      "None\n"
     ]
    }
   ],
   "source": [
    "print(datos_personales.get(\"Ciudadania\"))"
   ]
  },
  {
   "cell_type": "markdown",
   "id": "011b5bcb",
   "metadata": {},
   "source": [
    "6. Combinar dos diccionarios"
   ]
  },
  {
   "cell_type": "code",
   "execution_count": 24,
   "id": "567ba7ce",
   "metadata": {},
   "outputs": [
    {
     "name": "stdout",
     "output_type": "stream",
     "text": [
      "{'primero': 1, 'segundo': 2, 'tercero': 3, 'cuarto': 4, 'quinto': 5, 'sexto': 6}\n"
     ]
    }
   ],
   "source": [
    "gradosinferiores= {\"primero\": 1,\"segundo\": 2, \"tercero\": 3}\n",
    "gradossuperiores= {\"cuarto\":4,\"quinto\":5,\"sexto\":6}\n",
    "# Actualizar\n",
    "gradosinferiores.update(gradossuperiores)\n",
    "print(gradosinferiores)"
   ]
  },
  {
   "cell_type": "markdown",
   "id": "f95cc17f",
   "metadata": {},
   "source": [
    "7. Contar ocurrencias"
   ]
  },
  {
   "cell_type": "code",
   "execution_count": null,
   "id": "f7b7fa39",
   "metadata": {},
   "outputs": [
    {
     "name": "stdout",
     "output_type": "stream",
     "text": [
      "Lista con los posibles resultados:\n",
      "[1, 2, 3, 4, 5, 6]\n",
      "Lista modificada:\n",
      "[1, 2, 3, 4, 5, 5, 6, 3]\n",
      "Tabla de frecuencias:\n",
      "6 : 1\n",
      "5 : 2\n",
      "4 : 1\n",
      "3 : 2\n",
      "2 : 1\n",
      "1 : 1\n"
     ]
    }
   ],
   "source": [
    "# Generamos una lista que contiene todos los valores posibles cuando lanzamos un dado\n",
    "posibles_resultados_dado = []\n",
    "for resultado in range(1,7):\n",
    "    posibles_resultados_dado.append(resultado)\n",
    "print(\"Lista con los posibles resultados:\")\n",
    "print(posibles_resultados_dado)\n",
    "# Agregamos un elemnto al comienzo y al final de la lista\n",
    "posibles_resultados_dado.insert(5,5)\n",
    "posibles_resultados_dado.append(3)\n",
    "print(\"Lista modificada:\")\n",
    "print(posibles_resultados_dado)\n",
    "# Contamos la cantidad de ocurrencias de cada resultado\n",
    "frecuencia = {} # Se inicializa un diccionario vacio para almacenar los resultados del recuento\n",
    "for resultado in posibles_resultados_dado:\n",
    "    frecuencia[resultado]= frecuencia.get(resultado, 0) + 1\n",
    "# Imprimimos el resultado de manera ordenada\n",
    "print(\"Tabla de frecuencias:\")\n",
    "for numero, ocurrencia in sorted(frecuencia.items(),reverse=True): # sorted permite ordenar el diccionario, reverse=True permite que sea en orden descendente\n",
    "    print(f\"{numero} : {ocurrencia}\")"
   ]
  }
 ],
 "metadata": {
  "kernelspec": {
   "display_name": "Python 3",
   "language": "python",
   "name": "python3"
  },
  "language_info": {
   "codemirror_mode": {
    "name": "ipython",
    "version": 3
   },
   "file_extension": ".py",
   "mimetype": "text/x-python",
   "name": "python",
   "nbconvert_exporter": "python",
   "pygments_lexer": "ipython3",
   "version": "3.13.0"
  }
 },
 "nbformat": 4,
 "nbformat_minor": 5
}
