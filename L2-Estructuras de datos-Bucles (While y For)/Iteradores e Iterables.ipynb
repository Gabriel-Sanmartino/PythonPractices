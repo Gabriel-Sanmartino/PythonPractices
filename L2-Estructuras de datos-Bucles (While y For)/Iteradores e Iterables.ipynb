{
 "cells": [
  {
   "cell_type": "markdown",
   "id": "3d4b9431",
   "metadata": {},
   "source": [
    "<h1 style=\"text-align: center\";>Iterables e Iteradores</h1>\n",
    "\n",
    "----\n",
    "\n",
    "### Iterables:\n",
    "\n",
    "Son iterables todos aquellos objetos en python los cuales estan compuestos por otros elementos que en su conjunto forman al objeto principal, y a su ves se puede utilizar un bucle for o while para recorrer el conjunto de elementos que componen al objeto principal.\n",
    "\n",
    "### Algunos de los iterables mas utilizados en python:\n",
    "\n",
    "- Listas\n",
    "- Tuplas\n",
    "- Diccionarios\n",
    "- Cadenas\n",
    "- Rangos numericos\n",
    "- Arrays de numpy (series)\n",
    "- Archivos (como por ejemplo: CSVs, TSVs, entre otros)\n",
    "\n",
    "### Funciones comunes al uso de iterables:\n",
    "\n",
    "- enumerate: funcion incorporada de python que recibe como argumento un iterable y devuelve el mismo iterable con cada objeto enumerado, es decir le coloca un indice a cada elemento del iterable.\n",
    "Lo interesante es que si la utilizamos junto a un bucle podemos acceder al elemento y a su indice.\n",
    "\n",
    "- Otra definicion de enumerate: Python es muy útil cuando se necesita recorrer una lista y obtener tanto el índice como el elemento en cada iteración. Su estructura básica es:\n",
    "\n",
    "    ```python\n",
    "    for indice, elemento in enumerate(lista):\n",
    "    # Código que usa indice y elemento\n",
    "    ```\n",
    "\n",
    "- isinstance: es tambien, una funcion incorporada de python, es utilizada para comprobar si un objeto es de una subclase o instancia de una clase.\n",
    "\n",
    "- list: nos permite generar listas o convertir un objeto iterable en una lista.\n",
    "\n",
    "- sum: suma todos los elementos de un iterable\n",
    "\n",
    "- .join: El método .join() se utiliza en cadenas de texto (str) para unir una lista de elementos en una sola cadena, separándolos con un delimitador.\n",
    "\n",
    "\n",
    "### Ejercicios:\n",
    "\n",
    "##### enumerate: \n",
    "\n",
    "1️⃣ Imprimir el índice y el valor de cada elemento en una lista\n",
    "\n"
   ]
  },
  {
   "cell_type": "code",
   "execution_count": 36,
   "id": "01e62980",
   "metadata": {},
   "outputs": [
    {
     "name": "stdout",
     "output_type": "stream",
     "text": [
      "El abecedario es de clase/tipo: <class 'list'>\n",
      "Indice numero: 0, letra: a\n",
      "Indice numero: 1, letra: b\n",
      "Indice numero: 2, letra: c\n",
      "Indice numero: 3, letra: d\n",
      "Indice numero: 4, letra: e\n",
      "Indice numero: 5, letra: f\n",
      "Indice numero: 6, letra: g\n",
      "Indice numero: 7, letra: h\n",
      "Indice numero: 8, letra: i\n",
      "Indice numero: 9, letra: j\n",
      "Indice numero: 10, letra: k\n",
      "Indice numero: 11, letra: l\n",
      "Indice numero: 12, letra: ll\n",
      "Indice numero: 13, letra: m\n",
      "Indice numero: 14, letra: n\n",
      "Indice numero: 15, letra: ñ\n",
      "Indice numero: 16, letra: o\n",
      "Indice numero: 17, letra: p\n",
      "Indice numero: 18, letra: r\n",
      "Indice numero: 19, letra: s\n",
      "Indice numero: 20, letra: t\n",
      "Indice numero: 21, letra: u\n",
      "Indice numero: 22, letra: v\n",
      "Indice numero: 23, letra: w\n",
      "Indice numero: 24, letra: x\n",
      "Indice numero: 25, letra: y\n",
      "Indice numero: 26, letra: z\n",
      "El bucle ha finalizado\n"
     ]
    }
   ],
   "source": [
    "# === Creamos una lista con las letras del abecedario ===\n",
    "\n",
    "# Lista abecedario \n",
    "abecedario= ('a,b,c,d,e,f,g,h,i,j,k,l,ll,m,n,ñ,o,p,r,s,t,u,v,w,x,y,z').split(',')\n",
    "\n",
    "# >>> NOTA: \".split\" permite dividir la cadena previamente indicada, cada ves que encuentre una coma, es decir\n",
    "# >>> el resultado es un elemento de tipo lista, a continuacion lo corroboramos:\n",
    "\n",
    "print(\"El abecedario es de clase/tipo:\", type(abecedario))\n",
    "\n",
    "# Imprimimos el indice y el valor de cada elemento en una lista\n",
    "\n",
    "for indice, letra in enumerate(abecedario):\n",
    "    print(f'Indice numero: {indice}, letra: {letra}')\n",
    "else:\n",
    "    print(\"El bucle ha finalizado\")   "
   ]
  },
  {
   "cell_type": "markdown",
   "id": "7434591c",
   "metadata": {},
   "source": [
    "2️⃣ Personalizar el índice de inicio"
   ]
  },
  {
   "cell_type": "code",
   "execution_count": 40,
   "id": "943f7072",
   "metadata": {},
   "outputs": [
    {
     "name": "stdout",
     "output_type": "stream",
     "text": [
      "Imprimiendo a partir del indice 100\n",
      "Indice: 100, Letra: a\n",
      "Indice: 101, Letra: b\n",
      "Indice: 102, Letra: c\n",
      "Indice: 103, Letra: d\n",
      "Indice: 104, Letra: e\n",
      "Indice: 105, Letra: f\n",
      "Indice: 106, Letra: g\n",
      "Indice: 107, Letra: h\n",
      "Indice: 108, Letra: i\n",
      "Indice: 109, Letra: j\n",
      "Indice: 110, Letra: k\n",
      "Indice: 111, Letra: l\n",
      "Indice: 112, Letra: ll\n",
      "Indice: 113, Letra: m\n",
      "Indice: 114, Letra: n\n",
      "Indice: 115, Letra: ñ\n",
      "Indice: 116, Letra: o\n",
      "Indice: 117, Letra: p\n",
      "Indice: 118, Letra: r\n",
      "Indice: 119, Letra: s\n",
      "Indice: 120, Letra: t\n",
      "Indice: 121, Letra: u\n",
      "Indice: 122, Letra: v\n",
      "Indice: 123, Letra: w\n",
      "Indice: 124, Letra: x\n",
      "Indice: 125, Letra: y\n",
      "Indice: 126, Letra: z\n",
      "enumerate ha sido utilizada correctamente implementando el parametro 'start' y el bucle ha finalizado\n"
     ]
    }
   ],
   "source": [
    "# === En este caso vamos a utilizar \"start\" indicar el indice donde queremos que enumarate comienze ====\n",
    "\n",
    "    # Hacemos un help para conocer mas sobre el uso de \"start\"\n",
    "\n",
    "# print(help(enumerate)) # para imprimir descomentar el print (borrar numeral \"#\")\n",
    "\n",
    "    # Imprimimos abecedario a partir del indice 100\n",
    "\n",
    "print(\"Imprimiendo a partir del indice 100\");\n",
    "\n",
    "for indice, letra in enumerate(abecedario, start=100):\n",
    "    print(f'Indice: {indice}, Letra: {letra}')\n",
    "else:\n",
    "    print(\"enumerate ha sido utilizada correctamente implementando el parametro 'start' y el bucle ha finalizado\");\n"
   ]
  },
  {
   "cell_type": "markdown",
   "id": "6750652b",
   "metadata": {},
   "source": [
    "3️⃣ Crear un diccionario a partir de una lista"
   ]
  },
  {
   "cell_type": "code",
   "execution_count": null,
   "id": "95d7cc87",
   "metadata": {},
   "outputs": [
    {
     "name": "stdout",
     "output_type": "stream",
     "text": [
      "{0: 'a', 1: 'b', 2: 'c', 3: 'd', 4: 'e', 5: 'f', 6: 'g', 7: 'h', 8: 'i', 9: 'j', 10: 'k', 11: 'l', 12: 'll', 13: 'm', 14: 'n', 15: 'ñ', 16: 'o', 17: 'p', 18: 'r', 19: 's', 20: 't', 21: 'u', 22: 'v', 23: 'w', 24: 'x', 25: 'y', 26: 'z'}\n"
     ]
    }
   ],
   "source": [
    "# === Creamos el diccionario \"dic_abecedario\" a partir de la lista \"abecedario\" === (SOLUCION PERSONAL)\n",
    "\n",
    "#print(help(dict))\n",
    "\n",
    "# Definir diccionario vacio:\n",
    "\n",
    "dic_abecedario = {}\n",
    "\n",
    "for indice, letra in enumerate(abecedario):\n",
    "    dic_abecedario[indice]=letra\n",
    "\n",
    "print(dic_abecedario)  \n",
    "    "
   ]
  },
  {
   "cell_type": "code",
   "execution_count": 47,
   "id": "d249328f",
   "metadata": {},
   "outputs": [
    {
     "name": "stdout",
     "output_type": "stream",
     "text": [
      "{0: 'a', 1: 'b', 2: 'c', 3: 'd', 4: 'e', 5: 'f', 6: 'g', 7: 'h', 8: 'i', 9: 'j', 10: 'k', 11: 'l', 12: 'll', 13: 'm', 14: 'n', 15: 'ñ', 16: 'o', 17: 'p', 18: 'r', 19: 's', 20: 't', 21: 'u', 22: 'v', 23: 'w', 24: 'x', 25: 'y', 26: 'z'}\n"
     ]
    }
   ],
   "source": [
    "# === SOLUCION IA ===\n",
    "# === Creamos el diccionario \"dic_abecedario\" a partir de la lista \"abecedario\" ===\n",
    "\n",
    "# Definir diccionario usando comprensión de diccionario\n",
    "dic_abecedario = {indice: letra for indice, letra in enumerate(abecedario)}\n",
    "\n",
    "# Imprimir el diccionario\n",
    "print(dic_abecedario)\n"
   ]
  },
  {
   "cell_type": "code",
   "execution_count": 44,
   "id": "805cb41e",
   "metadata": {},
   "outputs": [
    {
     "name": "stdout",
     "output_type": "stream",
     "text": [
      "{0: 'Letra: A', 1: 'Letra: B'}\n"
     ]
    }
   ],
   "source": [
    "diccionario_prueba = {}\n",
    "diccionario_prueba[0]=\"Letra: A\"\n",
    "diccionario_prueba[1]=\"Letra: B\"\n",
    "print(diccionario_prueba)"
   ]
  },
  {
   "cell_type": "markdown",
   "id": "98be9591",
   "metadata": {},
   "source": [
    "4️⃣ Filtrar elementos de una lista con su índice"
   ]
  },
  {
   "cell_type": "code",
   "execution_count": 52,
   "id": "0ad3f8bf",
   "metadata": {},
   "outputs": [
    {
     "name": "stdout",
     "output_type": "stream",
     "text": [
      "Imprimiendo elemntos de indice par...\n",
      "Letra \"a\", indice 0 es par ✅ \n",
      "Letra \"c\", indice 2 es par ✅ \n",
      "Letra \"e\", indice 4 es par ✅ \n",
      "Letra \"g\", indice 6 es par ✅ \n",
      "Letra \"i\", indice 8 es par ✅ \n",
      "Letra \"k\", indice 10 es par ✅ \n",
      "Letra \"ll\", indice 12 es par ✅ \n",
      "Letra \"n\", indice 14 es par ✅ \n",
      "Letra \"o\", indice 16 es par ✅ \n",
      "Letra \"r\", indice 18 es par ✅ \n",
      "Letra \"t\", indice 20 es par ✅ \n",
      "Letra \"v\", indice 22 es par ✅ \n",
      "Letra \"x\", indice 24 es par ✅ \n",
      "Letra \"z\", indice 26 es par ✅ \n"
     ]
    }
   ],
   "source": [
    "# === Filtramos para mostrar elementos solo de indice par ===\n",
    "print('Imprimiendo elemntos de indice par...')\n",
    "for indice, letra in enumerate(abecedario):\n",
    "    if indice % 2 == 0:\n",
    "        print(f'Letra \"{letra}\", indice {indice} es par ✅ ')\n",
    "\n",
    "# Podriamos utilizar el parametro \"start\" de enumerate para comenzar con otro numero de indice\n"
   ]
  },
  {
   "cell_type": "code",
   "execution_count": 50,
   "id": "80e41568",
   "metadata": {},
   "outputs": [
    {
     "name": "stdout",
     "output_type": "stream",
     "text": [
      "La letra \"a\" está en la posición 0, que es par ✅ \n",
      "La letra \"c\" está en la posición 2, que es par ✅ \n",
      "La letra \"e\" está en la posición 4, que es par ✅ \n",
      "La letra \"g\" está en la posición 6, que es par ✅ \n",
      "La letra \"i\" está en la posición 8, que es par ✅ \n",
      "La letra \"k\" está en la posición 10, que es par ✅ \n",
      "La letra \"ll\" está en la posición 12, que es par ✅ \n",
      "La letra \"n\" está en la posición 14, que es par ✅ \n",
      "La letra \"o\" está en la posición 16, que es par ✅ \n",
      "La letra \"r\" está en la posición 18, que es par ✅ \n",
      "La letra \"t\" está en la posición 20, que es par ✅ \n",
      "La letra \"v\" está en la posición 22, que es par ✅ \n",
      "La letra \"x\" está en la posición 24, que es par ✅ \n",
      "La letra \"z\" está en la posición 26, que es par ✅ \n"
     ]
    }
   ],
   "source": [
    "for indice, letra in enumerate(abecedario):\n",
    "    if indice % 2 == 0:\n",
    "        print(f'La letra \"{letra}\" está en la posición {indice}, que es par ✅ ')\n"
   ]
  },
  {
   "cell_type": "markdown",
   "id": "75fec0bc",
   "metadata": {},
   "source": [
    "5️⃣ Transformar listas en cadenas numeradas"
   ]
  },
  {
   "cell_type": "code",
   "execution_count": 68,
   "id": "397ff20b",
   "metadata": {},
   "outputs": [
    {
     "name": "stdout",
     "output_type": "stream",
     "text": [
      "1. a\n",
      "2. b\n",
      "3. c\n",
      "4. d\n",
      "5. e\n",
      "6. f\n",
      "7. g\n",
      "8. h\n",
      "9. i\n",
      "10. j\n",
      "11. k\n",
      "12. l\n",
      "13. ll\n",
      "14. m\n",
      "15. n\n",
      "16. ñ\n",
      "17. o\n",
      "18. p\n",
      "19. r\n",
      "20. s\n",
      "21. t\n",
      "22. u\n",
      "23. v\n",
      "24. w\n",
      "25. x\n",
      "26. y\n",
      "27. z\n"
     ]
    }
   ],
   "source": [
    "# === Tomamos la lista abecedario para convertirla en una cadena enumerada\n",
    "cadena_enumerada = \"\\n\".join([f'{indice + 1}. {letra}' for indice, letra in enumerate(abecedario)]) \n",
    "\n",
    "# El codigo dentro de .join esta dentro de corchetes ([]) por que justamente estamos generando una lista\n",
    "\n",
    "# >>> Desglose de la linea de codigo <<<\n",
    "\n",
    "'''\n",
    "\"cadena_enumerada\": es la variable que vamos a usar como contenedor de la cadena enumera que vamos a generar dentro\n",
    "\n",
    "\"\\n\": caracter que permite hacer un salto al siguiente renglon en el print\n",
    "\n",
    "\".join\": metodo que permite incorporar la cadena \"\\n\" en cada parte de la cadena que estamos generando\n",
    "\n",
    "\"f'{indice + 1}. {letra}': la \"f\" al introducirla en ese lugar transforma los caracteres siguientes al formato f-string.\n",
    "Lo que va dentro de llaves son variables, operaciones (+) entre otros, es decir dentro de las llaves podemos introducir directamente\n",
    "codigo python. Aplicamos f-string desde indice hasta letra por que .join solo trabaja con cadenas, de lo contrario daria error ya que\n",
    "indice en primera instancia es un numero.\n",
    "\n",
    "'''\n",
    "# Imprimimos por pantalla \"cadena_enumerada\"\n",
    "print(cadena_enumerada)"
   ]
  },
  {
   "cell_type": "code",
   "execution_count": null,
   "id": "b27d5f08",
   "metadata": {},
   "outputs": [
    {
     "name": "stdout",
     "output_type": "stream",
     "text": [
      "My name is Gabriel\n",
      "I am twenty nine yeards old\n",
      "I'm from Argentina\n",
      "and I live in San Juan\n",
      "I stuying english\n",
      "and I work as Data Anlyst\n"
     ]
    }
   ],
   "source": [
    "# === Uso del separador \"\\n\" ===\n",
    "\n",
    "# Este nos permite saltar a otro renglon\n",
    "\n",
    "print('My name is Gabriel''\\n' 'I am twenty nine yeards old' '\\n' \"I'm from Argentina\"'\\n'\"and I live in San Juan\"'\\n'\"I stuying english\"\n",
    "      '\\n' \"and I work as Data Anlyst\")"
   ]
  },
  {
   "cell_type": "markdown",
   "id": "7ce57f97",
   "metadata": {},
   "source": [
    "##### isinstance:\n",
    "\n",
    "1️⃣ Crea una función que reciba un valor y verifique si es un número (entero o flotante). Si lo es, devuelve \"Es un número\", si no, devuelve \"No es un número\"."
   ]
  },
  {
   "cell_type": "code",
   "execution_count": null,
   "id": "7424bf5d",
   "metadata": {},
   "outputs": [
    {
     "name": "stdout",
     "output_type": "stream",
     "text": [
      "Es un numero\n",
      "No es un numero\n"
     ]
    }
   ],
   "source": [
    "# === Definimos la funcion \"verificar_num\"===\n",
    "def verificar_num (Valor): # \"def\" permite definir la funcion, \"Valor\", podria ser cualquier palabra definida por nosotros\n",
    "    if isinstance(Valor,(int,float)): # Notese que el segundo argumento de \"isinstance\" es una tupla\n",
    "        return(\"Es un numero\")\n",
    "    else:\n",
    "        return(\"No es un numero\")\n",
    "# Definimos variables\n",
    "number= 47\n",
    "string_text= \"I am studing english in Open English\" \n",
    "# Utilizamos la funcion definida previamente:\n",
    "print(verificar_num(number))\n",
    "print(verificar_num(string_text))"
   ]
  },
  {
   "cell_type": "markdown",
   "id": "a5144bcb",
   "metadata": {},
   "source": [
    "2️⃣ Escribe un programa que recorra una lista de elementos y determine si cada uno es un número o un texto."
   ]
  },
  {
   "cell_type": "code",
   "execution_count": null,
   "id": "5c87db43",
   "metadata": {},
   "outputs": [
    {
     "name": "stdout",
     "output_type": "stream",
     "text": [
      "El elemento: \"100\": es un numero\n",
      "El elemento: \"This is a string\": es una cadena\n",
      "El elemento: \"Write elements in english\": es una cadena\n",
      "El elemento: \"10000\": es un numero\n",
      "El elemento: \"BLue\": es una cadena\n",
      "El elemento: \"3.14\": es un numero\n",
      "El elemento: \"red\": es una cadena\n",
      "El elemento: \"orange\": es una cadena\n",
      "El elemento: \"green\": es una cadena\n",
      "None\n"
     ]
    }
   ],
   "source": [
    "# === Definimos la funcion \"tipo_elemento\" ===\n",
    "\n",
    "def tipo_elemento (Lista):\n",
    "    for elemento in Lista:\n",
    "        if isinstance(elemento,(int,float)):\n",
    "            print(f'El elemento: \"{elemento}\": es un numero') # Notese que esta ves usamos \"print\" y no \"return\"\n",
    "        else:\n",
    "            print(f'El elemento: \"{elemento}\": es una cadena') # esto es por que \"return\" no permitira la ejecucion del bulce mas alla del primer elemento\n",
    " \n",
    "# Una ves definida la funcion la probamos\n",
    "    \n",
    "    # En primer lugar definimos una lista de prueba\n",
    "lista_de_prueba=[100,\"This is a string\",\"Write elements in english\",10000, \"BLue\", 3.14,\"red\", \"orange\", \"green\"]\n",
    "\n",
    "    # usamos \"tipo_elemento\":\n",
    "print(tipo_elemento(lista_de_prueba))\n",
    "\n"
   ]
  },
  {
   "cell_type": "code",
   "execution_count": null,
   "id": "3f39d75b",
   "metadata": {},
   "outputs": [],
   "source": [
    "# === Del modulo \"collections.abc\" importamos la clase \"Iterable\"\n",
    "from collections.abc import Iterable\n",
    "Lista=[1,2,3] # Se utilizo una lista y un numero a modo de ejemplo, podria ser otro tipo de objeto\n",
    "Numero= 1\n",
    "# Utilizamos \"isinstance\" para verficar si el elemento \"Lista\" es o deriva de una clase iterable\n",
    "    # \"isinstance\" recibe en el primer argumento el nombre del objeto del cual queremos verificar su origen\n",
    "    # y en el segundo argumento se coloca la clase a la que suponemos que pertenece el objeto\n",
    "    # si el objeto pertenece a la clase que indicamos o deriva de ella \"isinstance\" devolvera \"True\"\n",
    "print(isinstance(Lista,Iterable))\n",
    "print(isinstance(Numero,Iterable))"
   ]
  },
  {
   "cell_type": "markdown",
   "id": "aeffff3b",
   "metadata": {},
   "source": [
    "##### .join:"
   ]
  },
  {
   "cell_type": "markdown",
   "id": "f55a4e77",
   "metadata": {},
   "source": [
    "1️⃣ Crea una función que reciba una lista de palabras y las una en una sola cadena separadas por comas."
   ]
  },
  {
   "cell_type": "code",
   "execution_count": 11,
   "id": "9b595ee5",
   "metadata": {},
   "outputs": [
    {
     "name": "stdout",
     "output_type": "stream",
     "text": [
      "I, You, He, She, Your, They, We, Can\n"
     ]
    }
   ],
   "source": [
    "# === Definimos una lista de palabras ===\n",
    "\n",
    "EnglishList = [\"I\", \"You\",\"He\",\"She\",\"Your\",\"They\",\"We\",\"Can\"]\n",
    "\n",
    "# Definimos la funcion \"unir_cadenas1\"\n",
    "\n",
    "def unir_cadenas1 (Lista):\n",
    "    cadena_resultante = \", \".join(Lista)\n",
    "    return cadena_resultante\n",
    "\n",
    "# Ponemos a prueba la funcion\n",
    "\n",
    "print(unir_cadenas1(EnglishList))\n"
   ]
  },
  {
   "cell_type": "markdown",
   "id": "e7bee4d8",
   "metadata": {},
   "source": [
    "2️⃣ Transforma una lista de números en una cadena, separando los valores con guiones (-)."
   ]
  },
  {
   "cell_type": "code",
   "execution_count": null,
   "id": "ed72ee65",
   "metadata": {},
   "outputs": [
    {
     "name": "stdout",
     "output_type": "stream",
     "text": [
      "16-4-2025\n"
     ]
    }
   ],
   "source": [
    "# Lista de numeros\n",
    "numeric_list=[16,4,2025]\n",
    "# Transformamos la lista lista numerica a cadena y la separamos por \"-\"\n",
    "nueva_cadena= \"-\".join(map(str,numeric_list)) # En este caso utilizamos map ya que el metodo .join solo trabaja sobre listas de cadenas\n",
    "print(nueva_cadena)"
   ]
  },
  {
   "cell_type": "markdown",
   "id": "55c08059",
   "metadata": {},
   "source": [
    "La función enumerate() en Python es muy útil cuando necesitas recorrer una lista y obtener tanto el índice como el elemento en cada iteración. Su estructura básica es:"
   ]
  },
  {
   "cell_type": "code",
   "execution_count": 1,
   "id": "fd55e341",
   "metadata": {},
   "outputs": [
    {
     "name": "stdout",
     "output_type": "stream",
     "text": [
      "0 ,  a\n",
      "1 ,  b\n",
      "2 ,  c\n"
     ]
    }
   ],
   "source": [
    "lista = [\"a\",\"b\",\"c\"]\n",
    "for indice, elemento in enumerate(lista):\n",
    "    print(indice,\", \" ,elemento)\n"
   ]
  },
  {
   "cell_type": "markdown",
   "id": "d4e41124",
   "metadata": {},
   "source": [
    "<h1 style=\"text-align: center\";> Iteradores </h1>\n",
    "\n",
    "---\n",
    "\n",
    "### Iterador, conceptos:\n",
    "\n",
    "- **Definicion propia** 💡: Un iterador es un objeto que nos permite acceder a los elementos de otro objeto iterable (como listas, diccionarios, etc), no solo nos permite acceder a los elementos, sino tambien conocer en que elemento estamos posicionados, navegar hacia otros elementos y si es necesario extraer el elemento. Cabe destacar que cuando hablamos de iterador no estamos hablando de un bucle explicito (for o while), si no mas bien estamos refiriendonos al objeto del cual hacen uso los bucles para navegar por un objeto iterable.\n",
    "\n",
    "- **Definicion IA** 🤖: Un iterador es un objeto que permite acceder secuencialmente a los elementos de otro objeto iterable (como listas o diccionarios). Nos posibilita conocer el estado actual de la iteración, avanzar a otros elementos y extraerlos cuando sea necesario. No es un bucle, sino el mecanismo que los bucles utilizan para recorrer estructuras iterables.\n",
    "\n",
    "### Funciones relacionadas a los iteradores:\n",
    "\n",
    "- iter(iterable): Permite convertir un iterable en un elemento iterador (ver ejemplo).\n",
    "\n",
    "- next(iterador, valor_por_defecto): Para entender el funcionamiento de next pensemos en el iterador como una lista, al hacer uso de next nos permitira impimir el iterador en la instancia inicial, como si fuese el primer objeto de la lista, si continuamos haciendo uso de next imprimira en cada ejecucion la instancia siguiente del iterador, si pensamos en la lista imprmiria: \"elemento inicial\", \"segundo elemento\", \"tercero\" ... , y asi sucesivamente.\n",
    "Al imprimir el ultimo si volvemos a ejecutar next devolvera la exepcion: \"stopIteration\".\n",
    "\n",
    "- __iter__() (metodo especial de iteradores): se utiliza para crear nuestros propios iteradores dentro de una clase\n",
    "\n",
    "- __next__() (metodo especial de iteradores): dentro de la misma clase que usamos __iter__ mediante el metodo especial __next__ idicamos que hara la funcion next, es decir con criterios definira cual es el elemento siguiente del iterable.\n",
    "\n",
    "- reversed(iterable): Devuelve un iterador que recorre un iterable en el orden inverso, por ejemplo:\n",
    "    ```python\n",
    "    numeros = [1, 2, 3, 4]\n",
    "    for n in reversed(numeros):\n",
    "    print(n)  # Imprime 4, 3, 2, 1\n",
    "    ```\n",
    "\n",
    "- enumerate(iterable, start:0): Devuelve un iterador que proporciona el indice del elemento junto con el.\n",
    "\n",
    "- zip(iterable1, iterable2,...): Permite recorrer mas de un iterable en paralelo y devuelve tuplas con los elementos correspondientes, como por ejempplo:\n",
    "    ```python\n",
    "    nombres = [\"Ana\", \"Luis\"]\n",
    "    edades = [25, 30]\n",
    "    for nombre, edad in zip(nombres, edades):\n",
    "    print(nombre, edad)  # ('Ana', 25), ('Luis', 30)\n",
    "    ```\n",
    "\n",
    "- filter(funcion, iterable): Devuelve un iterador con los elementos que cumplen con la o las condiciones definidas en al funcion que filter recibe como argumento.\n",
    "    Ejemplo:\n",
    "    ```python\n",
    "    numeros = [1, 2, 3, 4]\n",
    "    pares = filter(lambda x: x % 2 == 0, numeros)\n",
    "    print(list(pares))  # [2, 4]\n",
    "    ```\n",
    "\n",
    "- map(funcion, iterable): map devuelve un iterador a partir de la aplicacion de la funcion definida en el argumento \"funcion\" a cada elemento de el iterable definido en el segundo argumento, funciona de igual manera que filter, sin embargo en la practica cada una tiene distintos alcances.\n",
    "    Ejemplo:\n",
    "    ```python\n",
    "    numeros = [1, 2, 3, 4]\n",
    "    cuadrados = map(lambda x: x ** 2, numeros)\n",
    "    print(list(cuadrados))  # [1, 4, 9, 16]\n",
    "    ```       \n",
    "\n",
    "- itertool (Módulo con herramientas avanzadas de iteración): Python incluye el módulo itertools, que proporciona iteradores más complejos, como cycle(), chain(), permutations(), etc.\n",
    "    Ejemplo:\n",
    "    ```python\n",
    "    from itertools import cycle\n",
    "\n",
    "    colores = [\"rojo\", \"verde\", \"azul\"]\n",
    "    ciclar = cycle(colores)\n",
    "    print(next(ciclar))  # 'rojo'\n",
    "    print(next(ciclar))  # 'verde'\n",
    "    ```\n",
    "  "
   ]
  },
  {
   "cell_type": "code",
   "execution_count": 15,
   "id": "caedfef8",
   "metadata": {},
   "outputs": [
    {
     "name": "stdout",
     "output_type": "stream",
     "text": [
      "Ejemplos de \"iter()\"\n",
      "-----------------------------------------------------------------------------------------------------------------------\n",
      "\n",
      "\n",
      "['q', 'w', 's']\n",
      "<class 'list_iterator'>\n",
      "<list_iterator object at 0x0000029DB34D47C0>\n",
      "-----------------------------------------------------------------------------------------------------------------------\n",
      "\n",
      "\n",
      "Ejemplos de \"next(iterable, valor_por_defecto)\"\n",
      "-----------------------------------------------------------------------------------------------------------------------\n",
      "Next en estado '1':\n",
      "q\n",
      "Next en estado '2':\n",
      "w\n",
      "Next en estado '3':\n",
      "s\n",
      "-----------------------------------------------------------------------------------------------------------------------\n",
      "\n",
      "\n"
     ]
    }
   ],
   "source": [
    "# >>> Ejemplos : <<<<\n",
    "\n",
    "# iter(iterable):\n",
    "    \n",
    "    # Definimos el iterable \"a\"\n",
    "a = [\"q\",\"w\",\"s\"]\n",
    "    \n",
    "    # A partir del iterable \"a\" creamos el iterador Bi\n",
    "Bi = iter(a)\n",
    "    \n",
    "    # Imprimimos cada instancia\n",
    "\n",
    "separador = \"-----------------------------------------------------------------------------------------------------------------------\"\n",
    "espacio = '\\n'\n",
    "\n",
    "print('Ejemplos de \"iter()\"')\n",
    "print(separador)\n",
    "print(espacio)\n",
    "print(a)\n",
    "print(type(Bi))\n",
    "print(Bi)\n",
    "print(separador)\n",
    "print(espacio)\n",
    "\n",
    "# next(iterable, valor_por_defecto)\n",
    "print('Ejemplos de \"next(iterable, valor_por_defecto)\"')\n",
    "print(separador)\n",
    "print(\"Next en estado '1':\")\n",
    "print(next(Bi))\n",
    "print(\"Next en estado '2':\")\n",
    "print(next(Bi))\n",
    "print(\"Next en estado '3':\")\n",
    "print(next(Bi))\n",
    "#print(\"En este caso next presentara una exepcion ya que el iterador llego a la ultima instancia:\")\n",
    "#print(next(Bi)) # Descomentar para ver la exepcion\n",
    "print(separador)\n",
    "print(espacio)"
   ]
  },
  {
   "cell_type": "code",
   "execution_count": 14,
   "id": "ead8991d",
   "metadata": {},
   "outputs": [
    {
     "name": "stdout",
     "output_type": "stream",
     "text": [
      "1\n",
      "2\n",
      "3\n",
      "4\n",
      "5\n"
     ]
    }
   ],
   "source": [
    "# ====Ejemplo de __iter__ y __next__====:\n",
    "\n",
    "class Contador:\n",
    "    def __init__(self, inicio, fin):\n",
    "        self.actual = inicio\n",
    "        self.fin = fin\n",
    "\n",
    "    def __iter__(self):\n",
    "        return self  # Nos devuelve el propio iterador\n",
    "\n",
    "    def __next__(self):\n",
    "        if self.actual > self.fin:  # Cuando se llega al límite, se detiene\n",
    "            raise StopIteration\n",
    "        numero = self.actual\n",
    "        self.actual += 1  # Avanza al siguiente número\n",
    "        return numero\n",
    "\n",
    "# Usamos nuestro iterador personalizado\n",
    "mi_iterador = Contador(1, 5)\n",
    "\n",
    "for num in mi_iterador:\n",
    "    print(num)  # Imprime 1, 2, 3, 4, 5\n"
   ]
  },
  {
   "cell_type": "markdown",
   "id": "9f9b521f",
   "metadata": {},
   "source": [
    "# A practicar 💪\n",
    "\n",
    "### Ejercicio 1 - iter()\n",
    "Crea un iterador a partir de una lista de nombres y usa next() para mostrar los primeros 3 nombres."
   ]
  },
  {
   "cell_type": "code",
   "execution_count": 2,
   "id": "ef3b0d20",
   "metadata": {},
   "outputs": [
    {
     "name": "stdout",
     "output_type": "stream",
     "text": [
      "Primer nombre: Carlos\n",
      "Segundo nombre: Juan\n",
      "Tercer nombre: Zaira\n"
     ]
    }
   ],
   "source": [
    "# Lista de nombres\n",
    "\n",
    "names=[\"Carlos\", \"Juan\", \"Zaira\", \"Bratt\", \"Jhon\"]\n",
    "\n",
    "# Iterador\n",
    "\n",
    "iterador_names=iter(names)\n",
    "\n",
    "# Mostrar primeros 3 nombres \n",
    "\n",
    "print(\"Primer nombre:\", next(iterador_names))\n",
    "print(\"Segundo nombre:\", next(iterador_names))\n",
    "print(\"Tercer nombre:\", next(iterador_names))"
   ]
  },
  {
   "cell_type": "markdown",
   "id": "caeb645b",
   "metadata": {},
   "source": [
    "### Ejercicio 2 - next()\n",
    "Dado el siguiente código:"
   ]
  },
  {
   "cell_type": "code",
   "execution_count": 8,
   "id": "a6e5e536",
   "metadata": {},
   "outputs": [
    {
     "name": "stdout",
     "output_type": "stream",
     "text": [
      "10\n",
      "20\n",
      "30\n",
      "40\n",
      "50\n",
      "Fin del iterador, no hay mas numeros\n"
     ]
    }
   ],
   "source": [
    "# Solucion 1:\n",
    "numeros = iter([10, 20, 30, 40, 50])\n",
    "print(next(numeros))\n",
    "print(next(numeros))\n",
    "print(next(numeros))\n",
    "print(next(numeros))\n",
    "print(next(numeros))\n",
    "print(next(numeros, \"Fin del iterador, no hay mas numeros\"))"
   ]
  },
  {
   "cell_type": "code",
   "execution_count": 10,
   "id": "59d8bffe",
   "metadata": {},
   "outputs": [
    {
     "name": "stdout",
     "output_type": "stream",
     "text": [
      "10\n",
      "20\n",
      "30\n",
      "40\n",
      "50\n",
      "La iteracion ha terminado, no hay mas numeros\n"
     ]
    }
   ],
   "source": [
    "# Solucion 2:\n",
    "numeros = iter([10, 20, 30, 40, 50])\n",
    "try:\n",
    "    while True:\n",
    "        print(next(numeros))\n",
    "except StopIteration:\n",
    "    print(\"La iteracion ha terminado, no hay mas numeros\")"
   ]
  },
  {
   "cell_type": "markdown",
   "id": "336ead4c",
   "metadata": {},
   "source": [
    "Añade una condición para evitar el error StopIteration cuando se alcance el final."
   ]
  },
  {
   "cell_type": "markdown",
   "id": "5689c173",
   "metadata": {},
   "source": [
    "### Ejercicio 3 - __iter__() y __next__()\n",
    "Crea una clase CuentaRegresiva que reciba un número y cuente hacia atrás hasta 0, usando __iter__() y __next__()."
   ]
  },
  {
   "cell_type": "code",
   "execution_count": 19,
   "id": "591cbb3e",
   "metadata": {},
   "outputs": [],
   "source": [
    "# Definimos clase \"CuentaRegresiva\"\n",
    "\n",
    "class CuentaRegresiva:                      # >>> \"class\" Palabra reservada que permite definir un plantilla de objetos (una clase). \"CuentaRegresiva\" se define por el desarrollador, podria tener cualquier valor\n",
    "    def __init__(self,numero):              # >>> \"__init___\" se usa para iniciar la clase e indicar que atributos podra recibir esta. \"self\" sera dinamico y tomara el nombre de la variable cuando usemos la clase\n",
    "        self.numero = numero                # >>> aca estamos guardando el atributo y diferenciandolo\n",
    "\n",
    "    def __iter__(self):                     # >>> \"__iter__\" convierte la clase en iterable, permitiendo que se use en un for o con iter()\n",
    "        return self                         # >>> aca indicamos que el iterador se extraera del mismo \"self\"\n",
    "    \n",
    "    def __next__(self):\n",
    "        if self.numero < 0:\n",
    "            raise StopIteration             # >>> \"raise\" se usa para lanzar una excepcion manualmente\n",
    "        numero_actual = self.numero\n",
    "        self.numero-=1\n",
    "        return numero_actual        \n",
    "        "
   ]
  },
  {
   "cell_type": "code",
   "execution_count": null,
   "id": "4b2f4c32",
   "metadata": {},
   "outputs": [
    {
     "name": "stdout",
     "output_type": "stream",
     "text": [
      "10\n",
      "9\n",
      "8\n",
      "7\n",
      "6\n",
      "5\n",
      "4\n",
      "3\n",
      "2\n",
      "1\n",
      "0\n"
     ]
    }
   ],
   "source": [
    "# Ejemplo de uso de la clase creada\n",
    "\n",
    "regresar=CuentaRegresiva(10)\n",
    "\n",
    "for num in regresar:\n",
    "    print(num)"
   ]
  },
  {
   "cell_type": "markdown",
   "id": "d500524c",
   "metadata": {},
   "source": [
    "### Ejercicio 4 - reversed()\n",
    "Utiliza reversed() para mostrar los elementos de una lista en orden inverso.\n",
    "\n",
    "Ejemplo:"
   ]
  },
  {
   "cell_type": "code",
   "execution_count": 21,
   "id": "87e61e82",
   "metadata": {},
   "outputs": [
    {
     "name": "stdout",
     "output_type": "stream",
     "text": [
      "azul\n",
      "verde\n",
      "rojo\n"
     ]
    }
   ],
   "source": [
    "colores = [\"rojo\", \"verde\", \"azul\"]\n",
    "\n",
    "for i in reversed(colores):\n",
    "    print(i)"
   ]
  },
  {
   "cell_type": "markdown",
   "id": "cadd8a19",
   "metadata": {},
   "source": [
    "Salida esperada:\n",
    "\n",
    "azu <br>\n",
    "verde <br>\n",
    "rojo <br>"
   ]
  },
  {
   "cell_type": "markdown",
   "id": "8704c520",
   "metadata": {},
   "source": [
    "### Ejercicio 5 - enumerate()\n",
    "Dada la lista de frutas:"
   ]
  },
  {
   "cell_type": "code",
   "execution_count": 22,
   "id": "8d03463f",
   "metadata": {},
   "outputs": [
    {
     "name": "stdout",
     "output_type": "stream",
     "text": [
      "0 manzana\n",
      "1 banana\n",
      "2 uva\n"
     ]
    }
   ],
   "source": [
    "frutas = [\"manzana\", \"banana\", \"uva\"]\n",
    "\n",
    "for i, fruta in enumerate(frutas):\n",
    "    print(i, fruta)\n"
   ]
  },
  {
   "cell_type": "markdown",
   "id": "d96bada3",
   "metadata": {},
   "source": [
    "Usa enumerate() para imprimir cada fruta con su número de posición, empezando desde 1."
   ]
  },
  {
   "cell_type": "markdown",
   "id": "70c152e1",
   "metadata": {},
   "source": [
    "### Ejercicio 6 - zip()\n",
    "Tienes dos listas:"
   ]
  },
  {
   "cell_type": "code",
   "execution_count": 26,
   "id": "900e2a38",
   "metadata": {},
   "outputs": [
    {
     "name": "stdout",
     "output_type": "stream",
     "text": [
      "Ana tiene 25 años\n",
      "Luis tiene 30 años\n",
      "Carlos tiene 35 años\n"
     ]
    }
   ],
   "source": [
    "nombres = [\"Ana\", \"Luis\", \"Carlos\"]\n",
    "edades = [25, 30, 35]\n",
    "\n",
    "for n, e in zip(nombres,edades):\n",
    "    print(f'{n} tiene {e} años')"
   ]
  },
  {
   "cell_type": "markdown",
   "id": "d26f2faf",
   "metadata": {},
   "source": [
    "Utiliza zip() para combinar ambos datos e imprimir:\n",
    "\n",
    "Ana tiene 25 años <br>\n",
    "Luis tiene 30 años <br>\n",
    "Carlos tiene 35 años <br>\n"
   ]
  },
  {
   "cell_type": "markdown",
   "id": "8d919f1b",
   "metadata": {},
   "source": [
    "### Ejercicio 7 - filter()\n",
    "Filtra los números pares de la lista:"
   ]
  },
  {
   "cell_type": "code",
   "execution_count": 27,
   "id": "8833d04b",
   "metadata": {},
   "outputs": [
    {
     "name": "stdout",
     "output_type": "stream",
     "text": [
      "[12, 18, 26]\n"
     ]
    }
   ],
   "source": [
    "numeros = [5, 12, 7, 18, 23, 26]\n",
    "\n",
    "pares = filter(lambda x: x % 2 ==0,numeros)\n",
    "print(list(pares))"
   ]
  },
  {
   "cell_type": "markdown",
   "id": "4e374e32",
   "metadata": {},
   "source": [
    "Salida esperada:\n",
    "\n",
    "[12, 18, 26]"
   ]
  },
  {
   "cell_type": "markdown",
   "id": "84d6393f",
   "metadata": {},
   "source": [
    "### Ejercicio 8 - map()\n",
    "Usa map() para obtener la mitad de cada número en la lista:"
   ]
  },
  {
   "cell_type": "code",
   "execution_count": null,
   "id": "1a542772",
   "metadata": {},
   "outputs": [
    {
     "name": "stdout",
     "output_type": "stream",
     "text": [
      "[5.0, 10.0, 15.0, 20.0]\n"
     ]
    }
   ],
   "source": [
    "numeros = [10, 20, 30, 40]\n",
    "\n",
    "mitades = map(lambda x: x / 2, numeros) # podria cambiarse el operador \"/\" por \"//\" para obtener solo la parte entera\n",
    "\n",
    "print(list(mitades))"
   ]
  },
  {
   "cell_type": "markdown",
   "id": "122ee3f6",
   "metadata": {},
   "source": [
    "Salida esperada:\n",
    "\n",
    "[5.0, 10.0, 15.0, 20.0]\n"
   ]
  },
  {
   "cell_type": "markdown",
   "id": "2e69db88",
   "metadata": {},
   "source": [
    "### Ejercicio 9 - itertools.cycle()\n",
    "Usa cycle() para alternar infinitamente entre \"Día\" y \"Noche\", mostrando 5 alternancias."
   ]
  },
  {
   "cell_type": "code",
   "execution_count": 34,
   "id": "f49f3c9f",
   "metadata": {},
   "outputs": [
    {
     "name": "stdout",
     "output_type": "stream",
     "text": [
      "Alba\n",
      "Mañana\n",
      "Medio dia\n",
      "Tarde\n",
      "Noche\n",
      "Madrugada\n",
      "Alba\n",
      "Mañana\n",
      "Medio dia\n",
      "Tarde\n",
      "Noche\n",
      "Madrugada\n"
     ]
    }
   ],
   "source": [
    "# Importamos la libreria \"itertools\", esta contiene funciones avanzadas para iteracion\n",
    "\n",
    "import itertools as itool\n",
    "\n",
    "# Ponemos en uso la funcion \"cycle\" de itertools\n",
    "\n",
    "alternancia = itool.cycle([\"Alba\",\"Mañana\", \"Medio dia\", \"Tarde\", \"Noche\", \"Madrugada\"])\n",
    "\n",
    "for horario in range(1,13):\n",
    "    print(next(alternancia))"
   ]
  },
  {
   "cell_type": "markdown",
   "id": "d0efff2f",
   "metadata": {},
   "source": [
    "### Ejercicio 10 - itertools.chain()\n",
    "Usa chain() para concatenar:"
   ]
  },
  {
   "cell_type": "code",
   "execution_count": 42,
   "id": "670d797e",
   "metadata": {},
   "outputs": [
    {
     "name": "stdout",
     "output_type": "stream",
     "text": [
      "a\n",
      "b\n",
      "c\n",
      "1\n",
      "2\n",
      "3\n"
     ]
    }
   ],
   "source": [
    "# print(help(itool.chain))\n",
    "\n",
    "textos=[\"a\",\"b\",\"c\"]\n",
    "nums=[1,2,3]\n",
    "concantenado2=itool.chain(textos,nums)\n",
    "for c in concantenado2:\n",
    "    print(c)"
   ]
  },
  {
   "cell_type": "markdown",
   "id": "e85ddfcc",
   "metadata": {},
   "source": [
    "Salida esperada:\n",
    "\n",
    "a <br>\n",
    "b <br>\n",
    "c <br>\n",
    "1 <br>\n",
    "2 <br>\n",
    "3 <br>"
   ]
  },
  {
   "cell_type": "markdown",
   "id": "0539cf90",
   "metadata": {},
   "source": [
    "Comprension de listas\n",
    "La comprensión de listas (list comprehension) es una técnica en Python que permite crear listas de manera concisa y eficiente, sin necesidad de usar bucles explícitos (for) o funciones adicionales.\n",
    "\n",
    "```python\n",
    "    [ expresión for elemento in iterable ]\n",
    "```\n",
    "Expresión → Qué valor queremos incluir en la lista.\n",
    "\n",
    "Elemento → Cada valor de la lista original.\n",
    "\n",
    "Iterable → La estructura que queremos recorrer (lista, tupla, rango, etc)\n",
    "\n",
    "\n",
    "Ejemplo básico: Crear una lista con el doble de cada número\n",
    "\n",
    "```python\n",
    "numeros = [1, 2, 3, 4, 5]\n",
    "dobles = [x * 2 for x in numeros]  # Multiplica cada número por 2\n",
    "print(dobles)  # Salida: [2, 4, 6, 8, 10]\n",
    "```\n",
    "\n",
    "🔥 Ejercicios progresivos:\n",
    "\n",
    "✅ Nivel 1: Transformaciones básicas\n",
    "\n",
    "1️⃣ Genera una lista con los cuadrados de los números del 1 al 10\n",
    "\n",
    "💡 Objetivo: Aprender la sintaxis básica y aplicar operaciones matemáticas."
   ]
  },
  {
   "cell_type": "code",
   "execution_count": 44,
   "id": "d30e9c28",
   "metadata": {},
   "outputs": [
    {
     "name": "stdout",
     "output_type": "stream",
     "text": [
      "[1, 2, 3, 4, 5, 6, 7, 8, 9, 10]\n",
      "[1, 4, 9, 16, 25, 36, 49, 64, 81, 100]\n"
     ]
    }
   ],
   "source": [
    "delta=list(range(1,11))\n",
    "print(delta)\n",
    "cuadrados = [x ** 2 for x in delta]\n",
    "print(cuadrados)"
   ]
  },
  {
   "cell_type": "markdown",
   "id": "1e8c6973",
   "metadata": {},
   "source": [
    "✅ Nivel 2: Aplicando condiciones\n",
    "\n",
    "2️⃣ Filtra los números pares en una lista de 1 a 20\n",
    "\n",
    "💡 Objetivo: Usar if dentro de la comprensión para incluir solo ciertos valores."
   ]
  },
  {
   "cell_type": "code",
   "execution_count": 45,
   "id": "d09b0fe5",
   "metadata": {},
   "outputs": [
    {
     "name": "stdout",
     "output_type": "stream",
     "text": [
      "[2, 4, 6, 8, 10, 12, 14, 16, 18, 20]\n"
     ]
    }
   ],
   "source": [
    "beta=list(range(1,21))\n",
    "filtrar_pares=[x for x in beta if x % 2 == 0]\n",
    "print(filtrar_pares)"
   ]
  },
  {
   "cell_type": "markdown",
   "id": "cc4863c2",
   "metadata": {},
   "source": [
    "✅ Nivel 3: Anidamiento (listas dentro de listas)\n",
    "\n",
    "3️⃣ Crea una lista de listas con las combinaciones de los números del 1 al 3\n",
    "\n",
    "💡 Objetivo: Aprender a usar múltiples for para generar combinaciones."
   ]
  },
  {
   "cell_type": "code",
   "execution_count": null,
   "id": "7500c864",
   "metadata": {},
   "outputs": [
    {
     "name": "stdout",
     "output_type": "stream",
     "text": [
      "[[1, 1], [1, 2], [1, 3], [1, 4], [2, 1], [2, 2], [2, 3], [2, 4], [3, 1], [3, 2], [3, 3], [3, 4], [4, 1], [4, 2], [4, 3], [4, 4]]\n"
     ]
    }
   ],
   "source": [
    "# >>> Objetivo:  CREAR UNA LISTA DE COMBINACIONES DE COORDENADAS DE  LOS VALORES 1,2,3:\n",
    "\n",
    "# Definimos la lista principal\n",
    "\n",
    "motherList=[1,2,3,4]\n",
    "\n",
    "# Utilizamos bucles para generar una lista con las combinaciones\n",
    "\n",
    "combinaciones=[[n,t] for n in motherList for t in motherList]\n",
    "print(combinaciones)"
   ]
  },
  {
   "cell_type": "markdown",
   "id": "fdd291a5",
   "metadata": {},
   "source": [
    "✅ Nivel 4: Operaciones con cadenas\n",
    "\n",
    "4️⃣ Extrae solo las palabras con más de 4 letras de una lista\n",
    "\n",
    "💡 Objetivo: Trabajar con cadenas de texto dentro de listas."
   ]
  },
  {
   "cell_type": "code",
   "execution_count": 53,
   "id": "c2763eca",
   "metadata": {},
   "outputs": [
    {
     "name": "stdout",
     "output_type": "stream",
     "text": [
      "['Hi, word', 'Hellow', \"I'm Traveling\"]\n"
     ]
    }
   ],
   "source": [
    "ct=[\"Hi, word\",\"Hellow\",\"Bye\",\"Can\",\"I'm Traveling\"]\n",
    "mayores_a_cuatro=[X for X in ct if len(X) > 4]\n",
    "print(mayores_a_cuatro)"
   ]
  },
  {
   "cell_type": "markdown",
   "id": "40fb8033",
   "metadata": {},
   "source": [
    "📌 ¿Cómo asegurarnos de contar solo las letras y no los espacios/puntuaciones?\n",
    "\n",
    "Si queremos contar solo las letras, podríamos usar .replace() o filtrar caracteres con join() y isalpha():"
   ]
  },
  {
   "cell_type": "code",
   "execution_count": 54,
   "id": "ce424edb",
   "metadata": {},
   "outputs": [
    {
     "name": "stdout",
     "output_type": "stream",
     "text": [
      "['Hi, word', 'Hellow', \"I'm Traveling\"]\n"
     ]
    }
   ],
   "source": [
    "mayores_a_cuatro = [x for x in ct if len(x.replace(\" \", \"\")) > 4]\n",
    "print(mayores_a_cuatro)  \n"
   ]
  },
  {
   "cell_type": "markdown",
   "id": "7b939c2a",
   "metadata": {},
   "source": [
    "✅ Nivel 5: Diccionarios con comprensión de listas\n",
    "\n",
    "5️⃣ Genera un diccionario con los números del 1 al 5 y su respectivo cuadrado\n",
    "\n",
    "💡 Objetivo: Aprender la comprensión de diccionarios (dict comprehension)."
   ]
  },
  {
   "cell_type": "code",
   "execution_count": null,
   "id": "c15abe7c",
   "metadata": {},
   "outputs": [
    {
     "name": "stdout",
     "output_type": "stream",
     "text": [
      "{1: 1, 2: 4, 3: 9, 4: 16, 5: 25}\n"
     ]
    }
   ],
   "source": [
    "# >>> SOLUCION PERSONAL\n",
    "diccionario_de_cuadrados={k:v**2 for k,v in enumerate(range(1,6), start=1)}\n",
    "print(diccionario_de_cuadrados)"
   ]
  },
  {
   "cell_type": "code",
   "execution_count": 63,
   "id": "0ec91b50",
   "metadata": {},
   "outputs": [
    {
     "name": "stdout",
     "output_type": "stream",
     "text": [
      "{1: 1, 2: 4, 3: 9, 4: 16, 5: 25}\n"
     ]
    }
   ],
   "source": [
    "# >>> SOLUCION IA\n",
    "\n",
    "'''📌 Corrección: No es necesario usar enumerate() aquí, \n",
    "porque el rango ya proporciona los valores directamente. \n",
    "En dict comprehension, el formato correcto sería:'''\n",
    "\n",
    "diccionario_de_cuadrados = {x: x**2 for x in range(1, 6)}\n",
    "print(diccionario_de_cuadrados)\n"
   ]
  },
  {
   "cell_type": "markdown",
   "id": "d575be6b",
   "metadata": {},
   "source": [
    "✅ Nivel 6: Expresiones condicionales avanzadas\n",
    "\n",
    "6️⃣ Reemplaza los números impares con \"Impar\" en una lista de 1 a 10\n",
    "\n",
    "💡 Objetivo: Usar expresiones condicionales para modificar los valores de la lista."
   ]
  },
  {
   "cell_type": "code",
   "execution_count": 72,
   "id": "cb509c96",
   "metadata": {},
   "outputs": [
    {
     "data": {
      "text/plain": [
       "['Impar', 2, 'Impar', 4, 'Impar', 6, 'Impar', 8, 'Impar', 10]"
      ]
     },
     "execution_count": 72,
     "metadata": {},
     "output_type": "execute_result"
    }
   ],
   "source": [
    "complete=list(range(1,11))\n",
    "reemplazos=[x if x % 2 == 0  else \"Impar\" for x in complete]\n",
    "reemplazos"
   ]
  },
  {
   "cell_type": "markdown",
   "id": "45353d81",
   "metadata": {},
   "source": [
    "📌 Bonus: Generación de una matriz 3x3"
   ]
  },
  {
   "cell_type": "code",
   "execution_count": 74,
   "id": "bf6ed0ab",
   "metadata": {},
   "outputs": [
    {
     "name": "stdout",
     "output_type": "stream",
     "text": [
      "[[0, 1, 2], [1, 2, 3], [2, 3, 4]]\n"
     ]
    }
   ],
   "source": [
    "# GENERACION DE UNA MATRIZ:\n",
    "\n",
    "MATRIZ=[[x+y for x in range(3)] for y in range(3)]\n",
    "print(MATRIZ)"
   ]
  }
 ],
 "metadata": {
  "kernelspec": {
   "display_name": "Python 3",
   "language": "python",
   "name": "python3"
  },
  "language_info": {
   "codemirror_mode": {
    "name": "ipython",
    "version": 3
   },
   "file_extension": ".py",
   "mimetype": "text/x-python",
   "name": "python",
   "nbconvert_exporter": "python",
   "pygments_lexer": "ipython3",
   "version": "3.13.0"
  }
 },
 "nbformat": 4,
 "nbformat_minor": 5
}
