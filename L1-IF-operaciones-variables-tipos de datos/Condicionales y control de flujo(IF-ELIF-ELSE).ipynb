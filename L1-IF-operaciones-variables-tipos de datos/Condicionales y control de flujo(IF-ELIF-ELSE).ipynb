{
 "cells": [
  {
   "cell_type": "markdown",
   "id": "904371e4",
   "metadata": {},
   "source": [
    "<h1 style=\"text-align: center;\">Condicionales y control de flujo</h1>"
   ]
  },
  {
   "cell_type": "markdown",
   "id": "0a6b9e2c",
   "metadata": {},
   "source": [
    "## If, Elif y Else:"
   ]
  },
  {
   "cell_type": "markdown",
   "id": "7ef430b1",
   "metadata": {},
   "source": [
    "Ejercicio 1: Par o impar\n",
    "Escribe un programa que pida al usuario un número entero.\n",
    "\n",
    "Usa un condicional para verificar si el número es par o impar.\n",
    "\n",
    "Imprime un mensaje indicando el resultado."
   ]
  },
  {
   "cell_type": "code",
   "execution_count": 3,
   "id": "cbe64c5c",
   "metadata": {},
   "outputs": [
    {
     "name": "stdout",
     "output_type": "stream",
     "text": [
      "El numero de usuario es par\n"
     ]
    }
   ],
   "source": [
    "# Denir numero de usuario\n",
    "numero_usuario = 1000\n",
    "\n",
    "# Evaluar si el numero es par\n",
    "if numero_usuario % 2 == 0:\n",
    "    print(\"El numero de usuario es par\")\n",
    "else:\n",
    "    print(\"El numero es impar\");\n"
   ]
  },
  {
   "cell_type": "markdown",
   "id": "90d9b608",
   "metadata": {},
   "source": [
    "Ejercicio 2: Clasificación de edades\n",
    "Pide al usuario que ingrese su edad.\n",
    "\n",
    "Usa condicionales para determinar:\n",
    "\n",
    "Si es menor de 12 años, imprime: \"Eres un niño\".\n",
    "\n",
    "Si tiene entre 12 y 17 años, imprime: \"Eres un adolescente\".\n",
    "\n",
    "Si tiene 18 años o más, imprime: \"Eres un adulto\"."
   ]
  },
  {
   "cell_type": "code",
   "execution_count": 4,
   "id": "c802ffce",
   "metadata": {},
   "outputs": [
    {
     "name": "stdout",
     "output_type": "stream",
     "text": [
      "Eres un adulto\n"
     ]
    }
   ],
   "source": [
    "# Definimos la edad de usuario\n",
    "edad_usuario = 18\n",
    "\n",
    "# Verificamos en que etapa se encuentra el usuario\n",
    "if edad_usuario < 12:\n",
    "    print(\"Eres un niño\")\n",
    "elif 12 <= edad_usuario <=17:\n",
    "    print(\"Eres un adolescente\")\n",
    "elif edad_usuario > 40:\n",
    "    print(\"Eres un adulto mayor\")\n",
    "else:\n",
    "    print(\"Eres un adulto\")"
   ]
  },
  {
   "cell_type": "markdown",
   "id": "8a9fdd05",
   "metadata": {},
   "source": [
    "Ejercicio 3: Notas de un examen\n",
    "Solicita al usuario que ingrese su calificación (de 0 a 100).\n",
    "\n",
    "Usa condicionales para clasificarla:\n",
    "\n",
    "90 o más: \"Sobresaliente\".\n",
    "\n",
    "Entre 70 y 89: \"Aprobado\".\n",
    "\n",
    "Menos de 70: \"Reprobado\"."
   ]
  },
  {
   "cell_type": "code",
   "execution_count": 5,
   "id": "74c51c7a",
   "metadata": {},
   "outputs": [
    {
     "name": "stdout",
     "output_type": "stream",
     "text": [
      "Sobresaliente\n"
     ]
    }
   ],
   "source": [
    "# Definimos calificacion de estudiante\n",
    "calificacion = 95\n",
    "\n",
    "# Evaluamos y asignamos categoria\n",
    "if calificacion < 70:\n",
    "    print(\"Reprobado\")\n",
    "elif 70 <= calificacion <=89:\n",
    "    print(\"Aprobado\")\n",
    "else:\n",
    "    print(\"Sobresaliente\")"
   ]
  },
  {
   "cell_type": "markdown",
   "id": "e63dc6f6",
   "metadata": {},
   "source": [
    "Ejercicio 4: Precio con descuento\n",
    "Pide al usuario que ingrese el precio de un producto.\n",
    "\n",
    "Si el precio es mayor a 1000, aplica un descuento del 20%.\n",
    "\n",
    "En caso contrario, aplica un descuento del 10%.\n",
    "\n",
    "Imprime el precio final después del descuento."
   ]
  },
  {
   "cell_type": "code",
   "execution_count": 7,
   "id": "eb530c52",
   "metadata": {},
   "outputs": [
    {
     "name": "stdout",
     "output_type": "stream",
     "text": [
      "Precio final con descuento minoritario: 523.81\n"
     ]
    }
   ],
   "source": [
    "# Definimos el precio del producto\n",
    "precio_producto = 550\n",
    "\n",
    "# Definimos descuentos\n",
    "desc_mayoritario = 1.20 # Descuento del 20% =========== | NOTA: Ej. Aplicacion: \"precio_producto\" / \"desc_minoritario\"\n",
    "desc_intermedio = 1.10 # Descuento del 10% ============ | Esto devolvera el valor final del producto\n",
    "desc_minoritario = 1.05 # Descuento del  5% =========== | ######################################################\n",
    "\n",
    "# Evaluamos si corresponde descuento, en caso positivo, aplicamos el descuento\n",
    "if 1000 < precio_producto:\n",
    "    pro1_desc_mayoritario = precio_producto/desc_mayoritario\n",
    "    print(\"Precio final con descuento mayoritario\", pro1_desc_mayoritario)\n",
    "elif 850 <= precio_producto <= 1000:\n",
    "    pro1_desc_intermedio = precio_producto/desc_intermedio\n",
    "    print(\"Precion final con descuento intermedio\", pro1_desc_intermedio)\n",
    "else:\n",
    "    pro1_desc_minoritario = precio_producto/desc_minoritario\n",
    "    precio_final = round(pro1_desc_minoritario,2)\n",
    "    print('Precio final con descuento minoritario:', precio_final)\n",
    "\n",
    "\n"
   ]
  },
  {
   "cell_type": "markdown",
   "id": "f4a91c6d",
   "metadata": {},
   "source": [
    "Pide al usuario que ingrese dos números.\n",
    "\n",
    "Usa condicionales para determinar:\n",
    "\n",
    "Si el primer número es mayor al segundo, imprime: \"El primer número es mayor\".\n",
    "\n",
    "Si el segundo número es mayor, imprime: \"El segundo número es mayor\".\n",
    "\n",
    "Si son iguales, imprime: \"Ambos números son iguales\".\n"
   ]
  },
  {
   "cell_type": "code",
   "execution_count": 8,
   "id": "d034b69d",
   "metadata": {},
   "outputs": [
    {
     "name": "stdout",
     "output_type": "stream",
     "text": [
      "Ambos numero son iguales\n"
     ]
    }
   ],
   "source": [
    "# Definir numero 1 y 2\n",
    "num1 = 70\n",
    "num2 = 70\n",
    "\n",
    "# Comprobar valores\n",
    "if num1 > num2:\n",
    "    print(\"El primer numero es mayor\")\n",
    "elif num1 < num2:\n",
    "    print(\"El segundo numero es mayor\")\n",
    "else:\n",
    "    print(\"Ambos numero son iguales\")\n"
   ]
  }
 ],
 "metadata": {
  "kernelspec": {
   "display_name": "Python 3",
   "language": "python",
   "name": "python3"
  },
  "language_info": {
   "codemirror_mode": {
    "name": "ipython",
    "version": 3
   },
   "file_extension": ".py",
   "mimetype": "text/x-python",
   "name": "python",
   "nbconvert_exporter": "python",
   "pygments_lexer": "ipython3",
   "version": "3.13.0"
  }
 },
 "nbformat": 4,
 "nbformat_minor": 5
}
