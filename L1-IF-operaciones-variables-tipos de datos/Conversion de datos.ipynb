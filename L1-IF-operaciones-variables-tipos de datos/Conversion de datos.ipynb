{
 "cells": [
  {
   "cell_type": "markdown",
   "metadata": {},
   "source": [
    "# Conversion de tipos de datos, CASTING"
   ]
  },
  {
   "cell_type": "markdown",
   "metadata": {},
   "source": [
    "Funciones basicas para transformaciones de tipos de datos:\n",
    "\n",
    "- int: convierte el tipo de dato a entero\n",
    "- float: convierte el tipo de dato a numero decimal o punto flotante\n",
    "- str: transforma el tipo de dato en cadena de texto\n",
    "- bool: para indicar los datos en formato booleano"
   ]
  },
  {
   "cell_type": "code",
   "execution_count": 1,
   "metadata": {},
   "outputs": [
    {
     "name": "stdout",
     "output_type": "stream",
     "text": [
      "<class 'float'>\n"
     ]
    }
   ],
   "source": [
    "# Definimos una variable de tipo \"float\"\n",
    "var_decimal = 5.5\n",
    "# Comprobamos el tipo de dato de la variable\n",
    "print(type(var_decimal))"
   ]
  },
  {
   "cell_type": "code",
   "execution_count": 2,
   "metadata": {},
   "outputs": [
    {
     "data": {
      "text/plain": [
       "5"
      ]
     },
     "execution_count": 2,
     "metadata": {},
     "output_type": "execute_result"
    }
   ],
   "source": [
    "# Convertimo el dato en numero entero\n",
    "int(var_decimal)"
   ]
  },
  {
   "cell_type": "code",
   "execution_count": 3,
   "metadata": {},
   "outputs": [
    {
     "data": {
      "text/plain": [
       "float"
      ]
     },
     "execution_count": 3,
     "metadata": {},
     "output_type": "execute_result"
    }
   ],
   "source": [
    "# Observamos al volver a imprimir el tipo de dato de la variable que este sigue siendo float,\n",
    "# esto nos indica que el codigo utilizado en el bloque anterior no modifica la variable\n",
    "# mas alla de la operacion\n",
    "type(var_decimal)"
   ]
  },
  {
   "cell_type": "code",
   "execution_count": 4,
   "metadata": {},
   "outputs": [
    {
     "name": "stdout",
     "output_type": "stream",
     "text": [
      "<class 'int'>\n"
     ]
    }
   ],
   "source": [
    "''' Para modificar el tipo de dato de forma definitiva en una variable debemos hacerlo\n",
    "de la siguiente manera:'''\n",
    "\n",
    "var_decimal = int(var_decimal)\n",
    "\n",
    "# Imprimir tipo de datos\n",
    "\n",
    "print(type(var_decimal))"
   ]
  },
  {
   "cell_type": "code",
   "execution_count": 5,
   "metadata": {},
   "outputs": [
    {
     "name": "stdout",
     "output_type": "stream",
     "text": [
      "<class 'str'>\n"
     ]
    }
   ],
   "source": [
    "# Definimos una variable tipo \"string\"\n",
    "cadena = \"108\"\n",
    "# Corroboramos el tipo\n",
    "print(type(cadena))"
   ]
  },
  {
   "cell_type": "code",
   "execution_count": 6,
   "metadata": {},
   "outputs": [
    {
     "name": "stdout",
     "output_type": "stream",
     "text": [
      "<class 'int'>\n"
     ]
    }
   ],
   "source": [
    "# Convertimos la variable a formato int haciendo reasignacion para que el cambio sea de caracter \n",
    "# definitivo\n",
    "cadena=int(cadena)\n",
    "# Imprimimos nuevamente el tipo\n",
    "print(type(cadena))"
   ]
  },
  {
   "cell_type": "code",
   "execution_count": 9,
   "metadata": {},
   "outputs": [
    {
     "name": "stdout",
     "output_type": "stream",
     "text": [
      "<class 'int'>\n"
     ]
    }
   ],
   "source": [
    "# Conversion de numero entero a flotante\n",
    "entero=10\n",
    "print(type(entero))"
   ]
  },
  {
   "cell_type": "code",
   "execution_count": 10,
   "metadata": {},
   "outputs": [
    {
     "name": "stdout",
     "output_type": "stream",
     "text": [
      "<class 'float'>\n"
     ]
    }
   ],
   "source": [
    "entero = float(entero)\n",
    "print(type(entero))"
   ]
  }
 ],
 "metadata": {
  "kernelspec": {
   "display_name": "Python 3",
   "language": "python",
   "name": "python3"
  },
  "language_info": {
   "codemirror_mode": {
    "name": "ipython",
    "version": 3
   },
   "file_extension": ".py",
   "mimetype": "text/x-python",
   "name": "python",
   "nbconvert_exporter": "python",
   "pygments_lexer": "ipython3",
   "version": "3.13.0"
  }
 },
 "nbformat": 4,
 "nbformat_minor": 2
}
