{
 "cells": [
  {
   "cell_type": "markdown",
   "metadata": {},
   "source": [
    "# Operaciones entre  variables"
   ]
  },
  {
   "cell_type": "markdown",
   "metadata": {},
   "source": [
    "Tipos de operaciones: \n",
    "\n",
    "- Aritmeticas\n",
    "- Relacionales\n",
    "- Asignacion\n",
    "- Strings\n",
    "- Logicas"
   ]
  },
  {
   "cell_type": "markdown",
   "metadata": {},
   "source": [
    "##### Operaciones Aritmeticas:\n",
    "\n",
    "- Suma:                     +\n",
    "- Resta:                    -\n",
    "- Multiplicacion:           *   \n",
    "- Division(cociente):       /\n",
    "- Division(parte entera):   //\n",
    "- Division(resto):          %\n",
    "- Potenciacion:             **\n",
    "- Raiz cuadrada:            ** 0.5 \n",
    "- Raiz cubica:              ** 1/3"
   ]
  },
  {
   "cell_type": "code",
   "execution_count": 9,
   "metadata": {},
   "outputs": [
    {
     "name": "stdout",
     "output_type": "stream",
     "text": [
      "3\n",
      "10\n",
      "2\n",
      "15\n",
      "Division: 12/2 = 6.0\n",
      "Division 12/2 = 6\n",
      "Division 12/2 = 0\n",
      "Potenciacion 2^2 = 4\n",
      "Raiz cuadrada de 64 = 8.0\n",
      "Raiz cubica de '27': 9\n"
     ]
    }
   ],
   "source": [
    "# Operaciones entre numeros\n",
    "print(1+2)\n",
    "print(5+5) \n",
    "print(5-3)\n",
    "print(3*5)\n",
    "print(\"Division: 12/2 =\",12/2) #cociente\n",
    "print(\"Division 12/2 =\", 12//2) #parte entera\n",
    "print(\"Division 12/2 =\",12%2) #resto\n",
    "print(\"Potenciacion 2^2 =\", 2**2)\n",
    "print('Raiz cuadrada de 64 =', 64**0.5)\n",
    "print(\"Raiz cubica de '27':\", 27**1//3)"
   ]
  },
  {
   "cell_type": "markdown",
   "metadata": {},
   "source": [
    "##### Tambien podemos realizar operaciones entre variables"
   ]
  },
  {
   "cell_type": "code",
   "execution_count": 17,
   "metadata": {},
   "outputs": [
    {
     "name": "stdout",
     "output_type": "stream",
     "text": [
      "15\n",
      "5\n",
      "50\n",
      "Raiz cuadrada de x = 3.1622776601683795\n"
     ]
    }
   ],
   "source": [
    "# Por ejemplo\n",
    "x=10\n",
    "y=5\n",
    "\n",
    "print(x+y)\n",
    "print(x-y)\n",
    "print(x*y)\n",
    "print('Raiz cuadrada de x =',x**0.5)"
   ]
  },
  {
   "cell_type": "markdown",
   "metadata": {},
   "source": [
    "##### Operaciones relacionales (operadores de comparacion)\n",
    "\n",
    "- Igual: ==\n",
    "- Distinto: !=\n",
    "- Mayor: >\n",
    "- Menor: <\n",
    "- Mayor o igual: >=\n",
    "- Menor o igual: <="
   ]
  },
  {
   "cell_type": "code",
   "execution_count": 14,
   "metadata": {},
   "outputs": [
    {
     "name": "stdout",
     "output_type": "stream",
     "text": [
      "False\n",
      "True\n",
      "True\n",
      "True\n",
      "True\n"
     ]
    }
   ],
   "source": [
    "#Definir variables de prueba para operaciones relacionales (operadores de comparacion)\n",
    "\n",
    "A = 10\n",
    "B = 15\n",
    "C = 10\n",
    "D = 20\n",
    "\n",
    "print(A==B) #Verificar si la variable A es igual a B, en caso devolver \"True\" es igual, de lo contrario es distinta\n",
    "print(A!=B) #Verifica si la variable A es distinta de B, si lo es devolvera \"True\"\n",
    "print(B>A) #Comprueba si el valor de la variable \"B\" es mayor al de \"A\", si lo es imprimira \"True\"\n",
    "print(B<D) #Corrobora que \"B\" sea menor que \"D\", imprimira \"True\" en caso de que la condicion se cumpla\n",
    "print(A<=C) #Verifica si \"A\" es menor o igual que \"C\""
   ]
  },
  {
   "cell_type": "markdown",
   "metadata": {},
   "source": [
    "### Algunas operaciones adicionales con operadores relacionales"
   ]
  },
  {
   "cell_type": "markdown",
   "metadata": {},
   "source": [
    "1.Comparación de edades:\n",
    "\n",
    "Escribe un programa que pregunte la edad de dos personas.\n",
    "\n",
    "Usa operadores relacionales para comparar quién es mayor, menor, o si tienen la misma edad."
   ]
  },
  {
   "cell_type": "code",
   "execution_count": null,
   "metadata": {},
   "outputs": [
    {
     "name": "stdout",
     "output_type": "stream",
     "text": [
      "A.Son 3 compañeros de natacion uno se llama Pedrito y tiene 10 ,despues esta Juancito que tiene la misma edad que Pedrito y por ultimo esta Pepito que tiene 12 años\n",
      "B.¿ Pedrito y Juancito tienen la misma edad? False\n",
      "C.¿Tiene Pepito una edad distinta a Juancito ? True\n",
      "D.¿Es mayor Pepito a Pedrito ? True\n"
     ]
    }
   ],
   "source": [
    "# --------------Definimos datos para 3 compañeros de natacion---------------------\n",
    "\n",
    "# Nombres\n",
    "Sujeto1 = \"Pedrito\"\n",
    "Sujeto2 = \"Juancito\"\n",
    "Sujeto3 = \"Pepito\"\n",
    "\n",
    "# Edades\n",
    "Edad_Sujeto1= 10\n",
    "Edad_Sujeto2= 10\n",
    "Edad_Sujeto3= 12\n",
    "\n",
    "# Preguntas:\n",
    "# A.¿Cual es el nombre y la edad de cada uno de los compañeros de natacion?\n",
    "# B.¿Sujeto1 y 2 tienen la misma edad?\n",
    "# C.¿Sujeto3 tiene la misma edad que sujeto2?\n",
    "# D.¿Es mayor Sujeto3 a Sujeto1?\n",
    "\n",
    "# Imprimir respuestas\n",
    "print(\"A.Son 3 compañeros de natacion uno se llama\",Sujeto1,\"y tiene\",Edad_Sujeto1,\",despues esta\",Sujeto2, \n",
    "      \"que tiene la misma edad que\",Sujeto1, \"y por ultimo esta\", Sujeto3,\"que tiene\", Edad_Sujeto3,\"años\")\n",
    "print(\"B.¿\",Sujeto1, \"y\",Sujeto2, \"tienen la misma edad?\", Sujeto1 == Sujeto2 )\n",
    "print(\"C.¿Tiene\", Sujeto3, \"una edad distinta a\", Sujeto2,\"?\" ,Sujeto3!=Sujeto2)\n",
    "print('D.¿Es mayor',Sujeto3,\"a\",Sujeto1,\"?\",Sujeto3>Sujeto1)"
   ]
  },
  {
   "cell_type": "markdown",
   "metadata": {},
   "source": [
    "### Operaciones de asignacion\n",
    "\n",
    "- Asignar contenido a una variable: \"=\"\n",
    "- Suma y asigna: \"+=\"\n",
    "- Resta y asigna: \"-=\"\n",
    "- Multiplica y asigna: \"*=\"\n",
    "- Divide y asigna: \"/=\"\n",
    "- Divide y asigna parte entera: \"//=\"\n",
    "- Potencia y asigna: \"**=\""
   ]
  },
  {
   "cell_type": "code",
   "execution_count": 32,
   "metadata": {},
   "outputs": [
    {
     "name": "stdout",
     "output_type": "stream",
     "text": [
      "Valor de la variable z en estado inicial= 0\n",
      "Valor z en estado 1= 10\n",
      "Valor z en estado =2 5\n",
      "Valor z en estado 3= 15\n",
      "Valor z en estado 4= 7.5\n",
      "Valor z en estado 5= 2.0\n",
      "Valor z en estado 6= 0.0\n",
      "Valor z en estado 7= 0.0\n",
      "Nuevo valor de k: 100\n"
     ]
    }
   ],
   "source": [
    "# -------------- Ejemplos de operaciones de asignacion basicas --------------\n",
    "\n",
    "# Definimos la variable \"z\" en estado inicial \"0\" (Asigna valor 0 mediante signo igual [=])\n",
    "z=0\n",
    "print(\"Valor de la variable z en estado inicial=\", z)\n",
    "\n",
    "# Estado 1 (suma y asigna el valor 10)\n",
    "z+=10\n",
    "print(\"Valor z en estado 1=\", z)\n",
    "\n",
    "# Estado 2 (resta y asigna el valor 5)\n",
    "z-=5\n",
    "print(\"Valor z en estado =2\", z)\n",
    "\n",
    "# Estado 3 (multiplica por 3 y asigna el valor correspondiente)\n",
    "z*=3\n",
    "print(\"Valor z en estado 3=\", z)\n",
    "\n",
    "# Estado 4 (divide por 2 y asigna el valor correspondiente)\n",
    "z/=2\n",
    "print(\"Valor z en estado 4=\",z)\n",
    "\n",
    "# Estado 5 (divide por 2 [parte entera] y asigna el valor correspondiente)\n",
    "z//=3\n",
    "print(\"Valor z en estado 5=\", z)\n",
    "\n",
    "# Estado 6 (Calcula el modulo o resto cuando se divide por y asigna el valor correspondiente)\n",
    "z%=2\n",
    "print(\"Valor z en estado 6=\",z)\n",
    "\n",
    "# Estado 7 (potencia por 2 y asigna el valor correspondiente)\n",
    "z**=2\n",
    "print(\"Valor z en estado 7=\", z)\n",
    "\n",
    "# -------------- Definimos variable k para una prueba de asignacion de potencia mas clara --------------\n",
    "\n",
    "# Estado inicial 10\n",
    "k=10\n",
    "# Potenciamos al cuadrado con operador de asignacion\n",
    "k**=2\n",
    "# Imprimimos el nuevo valor de k, el cual deberia ser 100\n",
    "print(\"Nuevo valor de k:\", k)"
   ]
  },
  {
   "cell_type": "markdown",
   "metadata": {},
   "source": [
    "### Operaciones con strings\n",
    "\n",
    "- Concatenacion: +\n",
    "- Multiplicacion: *"
   ]
  },
  {
   "cell_type": "code",
   "execution_count": null,
   "metadata": {},
   "outputs": [
    {
     "name": "stdout",
     "output_type": "stream",
     "text": [
      "Hola universo! ¿Como estan?\n"
     ]
    },
    {
     "data": {
      "text/plain": [
       "'Hola buen dia universo supremo!'"
      ]
     },
     "execution_count": 39,
     "metadata": {},
     "output_type": "execute_result"
    }
   ],
   "source": [
    "# Operacion de concatenacion\n",
    "Texto1= \"Hola\"\n",
    "Texto2= \"universo\"\n",
    "Texto3= \"!\"\n",
    "\n",
    "print(Texto1+\" \"+Texto2+Texto3,\"¿Como estan?\")\n",
    "\n",
    "Texto1+\" buen dia \"+Texto2+\" supremo!\""
   ]
  },
  {
   "cell_type": "code",
   "execution_count": 42,
   "metadata": {},
   "outputs": [
    {
     "name": "stdout",
     "output_type": "stream",
     "text": [
      "JAJAJA ¡Que buen chiste TIO, joder seras gilipollas!\n",
      "Ejemplo 2\n"
     ]
    },
    {
     "data": {
      "text/plain": [
       "('HolaHola', '¿¡Que tal!?')"
      ]
     },
     "execution_count": 42,
     "metadata": {},
     "output_type": "execute_result"
    }
   ],
   "source": [
    "# Operacion de multiplicacion\n",
    "Texto4= \"JA\"\n",
    "Texto5= \"¡Que buen chiste TIO, joder seras gilipollas!\"\n",
    "\n",
    "print(Texto4*3,Texto5)\n",
    "\n",
    "print(\"Ejemplo 2\")\n",
    "Texto1*2,\"¿¡Que tal!?\""
   ]
  },
  {
   "cell_type": "markdown",
   "metadata": {},
   "source": [
    "### Operaciones logicas\n",
    "\n",
    "- AND = and\n",
    "- OR = or\n",
    "- XOR = ^"
   ]
  },
  {
   "cell_type": "markdown",
   "metadata": {},
   "source": [
    "Boxeo olímpico \n",
    "Mosca (52 kg)\n",
    "Pluma (57 kg)\n",
    "Ligero (63 kg)\n",
    "Wélter (69 kg)\n",
    "Medio (75 kg)\n",
    "Semipesado (81 kg)\n",
    "Pesado (91 kg)\n",
    "Superpesado (+91 kg)\n",
    "\n",
    "\n",
    "\n",
    "Oleksandr Usyk:190, 102\n",
    "Naoya Inoue: 165, 65\n",
    "Terence Crawford: 173, 84\n",
    "Dimitry Bivol: 183, 90\n",
    "Artur Beterbiev: 182, 85\n",
    "chino maidana: 170, 66\n",
    "floyd mayweather: 175, 66"
   ]
  },
  {
   "cell_type": "code",
   "execution_count": null,
   "metadata": {},
   "outputs": [
    {
     "name": "stdout",
     "output_type": "stream",
     "text": [
      "Si 'resultado1' es 'True', entonces el el boxeador 1 es PESO SUPER PESADO, resultado1 = True\n",
      "Si 'resultado2' es 'True', entonces el el boxeador 2 es PESO PESADO, resultado1 = True\n",
      "Si 'resultado3' es 'True', entonces el el boxeador 3 es PESO SEMIPESADO, resultado1 = True\n",
      "Si 'resultado4' es 'True', entonces el el boxeador 4 es PESO MEDIO, resultado1 = True\n",
      "Si 'resultado5' es 'True', entonces el el boxeador 5 es PESO WELTER, resultado1 = False\n"
     ]
    }
   ],
   "source": [
    "#  ================ Ejercicio and: categorizacion de boxeadores ================\n",
    "\n",
    "# BOXEADORES PESO Y ALTURA:\n",
    "\n",
    "# Oleksandr Usyk\n",
    "alturaOU = 190 \n",
    "pesoOU = 102\n",
    "\n",
    "# Naoya Inoue\n",
    "alturaNI = 165\n",
    "pesoNI = 65\n",
    "\n",
    "# Terence Crwaford\n",
    "alturaTC = 173\n",
    "pesoTC = 84\n",
    "\n",
    "# Dimitry Bivol\n",
    "alturaDB = 183\n",
    "pesoDB = 90\n",
    "\n",
    "# Artur Beterbiev\n",
    "alturaAB = 182\n",
    "pesoAB = 85\n",
    "\n",
    "# Chino Maidana\n",
    "alturaCM = 170\n",
    "pesoCM = 66\n",
    "\n",
    "# FLoyd Mayweathear\n",
    "alturaFM = 175\n",
    "pesoFM = 66\n",
    "\n",
    "\n",
    "# ================ Criterios de categorizacion ================\n",
    "\n",
    "# 1. Si la altura es igual a mayor 1,90Ms y el peso mayor o igual a 100Kg >>>> PESO SUPER PESADO\n",
    "# 2. Si la altura es igual o mayor a 1,80Ms o el peso es igual o mayor a 90Kg >>>> PESO PESADO\n",
    "# 3. Si la altura es mayor a 1,75Ms y peso menor o igual a 89K >>>> PESO SEMIPESADO\n",
    "# 4. Si la altura es mayor o igual a 1,70Ms  o el peso es mayor a 65 Kg >>>> MEDIO\n",
    "# 5. Si altura mayor a 1,70Ms o el peso es menor que 66Kg >>>> WELTER\n",
    "\n",
    "# ================ RESOLUCION ================\n",
    "\n",
    "#Lista de boxeadore utilizados para responder a cada consigna (cada uno corresponde a un resultado)\n",
    "# 1.Oleksandr Usyk\n",
    "# 2.Dimitry Bivol\n",
    "# 3.Artur Beterbiev\n",
    "# 4.Chino Maidana\n",
    "# 5.Naoya Inoue\n",
    "\n",
    "# Resultados\n",
    "resultado1 = alturaOU >= 190 and pesoOU >= 10\n",
    "resultado2 = alturaDB >= 180 or pesoDB >= 90\n",
    "resultado3 = alturaAB > 175 and pesoAB <= 89\n",
    "resultado4 = alturaCM >= 170 or pesoCM > 65\n",
    "resultado5 = alturaNI > 170 or pesoNI < 65\n",
    "\n",
    "#Imprimir resultados\n",
    "print(\"Si 'resultado1' es 'True', entonces el el boxeador 1 es PESO SUPER PESADO, resultado1 =\",resultado1 )\n",
    "print(\"Si 'resultado2' es 'True', entonces el el boxeador 2 es PESO PESADO, resultado1 =\",resultado2 )\n",
    "print(\"Si 'resultado3' es 'True', entonces el el boxeador 3 es PESO SEMIPESADO, resultado1 =\",resultado3 )\n",
    "print(\"Si 'resultado4' es 'True', entonces el el boxeador 4 es PESO MEDIO, resultado1 =\",resultado4 )\n",
    "print(\"Si 'resultado5' es 'True', entonces el el boxeador 5 es PESO WELTER, resultado1 =\",resultado5 )"
   ]
  }
 ],
 "metadata": {
  "kernelspec": {
   "display_name": "Python 3",
   "language": "python",
   "name": "python3"
  },
  "language_info": {
   "codemirror_mode": {
    "name": "ipython",
    "version": 3
   },
   "file_extension": ".py",
   "mimetype": "text/x-python",
   "name": "python",
   "nbconvert_exporter": "python",
   "pygments_lexer": "ipython3",
   "version": "3.13.0"
  }
 },
 "nbformat": 4,
 "nbformat_minor": 2
}
