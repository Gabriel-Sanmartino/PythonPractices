{
 "cells": [
  {
   "cell_type": "markdown",
   "metadata": {},
   "source": [
    "### Variables tipo: Entero, Float y String.\n",
    "\n",
    "Nota: Tambien existen variables de tipo booleano y numero complejo (real+imaginario)"
   ]
  },
  {
   "cell_type": "code",
   "execution_count": 1,
   "metadata": {},
   "outputs": [],
   "source": [
    "x=5 #Entero"
   ]
  },
  {
   "cell_type": "code",
   "execution_count": 2,
   "metadata": {},
   "outputs": [],
   "source": [
    "numero= 9.3 #Float"
   ]
  },
  {
   "cell_type": "code",
   "execution_count": 11,
   "metadata": {},
   "outputs": [],
   "source": [
    "Nombre = \"Gabriel\" #String entre comillas dobles\n",
    "Apellido ='Sanmartino' #String entre comillas simples"
   ]
  },
  {
   "cell_type": "markdown",
   "metadata": {},
   "source": [
    "### Palabra reservada \"PRINT\":\n",
    "\n",
    "Permite recuperar el dato guardado en una variable"
   ]
  },
  {
   "cell_type": "code",
   "execution_count": 4,
   "metadata": {},
   "outputs": [
    {
     "name": "stdout",
     "output_type": "stream",
     "text": [
      "Gabriel\n"
     ]
    }
   ],
   "source": [
    "print(Nombre)"
   ]
  },
  {
   "cell_type": "code",
   "execution_count": 10,
   "metadata": {},
   "outputs": [
    {
     "data": {
      "text/plain": [
       "'Sanmartino'"
      ]
     },
     "execution_count": 10,
     "metadata": {},
     "output_type": "execute_result"
    }
   ],
   "source": [
    "Nombre\n",
    "Apellido  #Si no agregamos el print, muestra la ultima variable mencionada"
   ]
  },
  {
   "cell_type": "code",
   "execution_count": 12,
   "metadata": {},
   "outputs": [
    {
     "name": "stdout",
     "output_type": "stream",
     "text": [
      "Gabriel\n",
      "Sanmartino\n"
     ]
    }
   ],
   "source": [
    "print(Nombre)\n",
    "print(Apellido) #En este caso recuperara el contenido de ambas variables ya que en ambas se utilizo \"print\""
   ]
  },
  {
   "cell_type": "markdown",
   "metadata": {},
   "source": [
    "### Palabra reservada \"TYPE\":\n",
    "\n",
    "Nos permite conocer el tipo de dato que guarda una variable"
   ]
  },
  {
   "cell_type": "code",
   "execution_count": 13,
   "metadata": {},
   "outputs": [
    {
     "data": {
      "text/plain": [
       "int"
      ]
     },
     "execution_count": 13,
     "metadata": {},
     "output_type": "execute_result"
    }
   ],
   "source": [
    "type(x)"
   ]
  },
  {
   "cell_type": "code",
   "execution_count": 14,
   "metadata": {},
   "outputs": [
    {
     "data": {
      "text/plain": [
       "float"
      ]
     },
     "execution_count": 14,
     "metadata": {},
     "output_type": "execute_result"
    }
   ],
   "source": [
    "type(numero)"
   ]
  },
  {
   "cell_type": "code",
   "execution_count": 15,
   "metadata": {},
   "outputs": [
    {
     "data": {
      "text/plain": [
       "str"
      ]
     },
     "execution_count": 15,
     "metadata": {},
     "output_type": "execute_result"
    }
   ],
   "source": [
    "type(Nombre)\n",
    "type(Apellido) #Al no utilizar el print nos devolvera el tipo de la ultima variable a la que nos referimos"
   ]
  },
  {
   "cell_type": "code",
   "execution_count": 16,
   "metadata": {},
   "outputs": [
    {
     "name": "stdout",
     "output_type": "stream",
     "text": [
      "<class 'str'>\n",
      "<class 'str'>\n"
     ]
    }
   ],
   "source": [
    "print(type(Nombre))\n",
    "print(type(Apellido))"
   ]
  },
  {
   "cell_type": "markdown",
   "metadata": {},
   "source": [
    "### Funcion \"BOOL\":\n",
    "\n",
    "Nos indica si el valor de una variable es \"TRUE\" o \"FALSE\""
   ]
  },
  {
   "cell_type": "code",
   "execution_count": 17,
   "metadata": {},
   "outputs": [
    {
     "data": {
      "text/plain": [
       "True"
      ]
     },
     "execution_count": 17,
     "metadata": {},
     "output_type": "execute_result"
    }
   ],
   "source": [
    "bool(x) #Si el valor es TRUE nos indica que la variable no es nula"
   ]
  },
  {
   "cell_type": "markdown",
   "metadata": {},
   "source": [
    "Ejemplos de variables \"FALSE\""
   ]
  },
  {
   "cell_type": "code",
   "execution_count": 18,
   "metadata": {},
   "outputs": [],
   "source": [
    "cero=0\n",
    "string_vacio=\"\""
   ]
  },
  {
   "cell_type": "code",
   "execution_count": 19,
   "metadata": {},
   "outputs": [
    {
     "data": {
      "text/plain": [
       "False"
      ]
     },
     "execution_count": 19,
     "metadata": {},
     "output_type": "execute_result"
    }
   ],
   "source": [
    "bool(cero)"
   ]
  },
  {
   "cell_type": "code",
   "execution_count": 20,
   "metadata": {},
   "outputs": [
    {
     "data": {
      "text/plain": [
       "False"
      ]
     },
     "execution_count": 20,
     "metadata": {},
     "output_type": "execute_result"
    }
   ],
   "source": [
    "bool(string_vacio)"
   ]
  },
  {
   "cell_type": "code",
   "execution_count": 17,
   "metadata": {},
   "outputs": [
    {
     "data": {
      "text/plain": [
       "False"
      ]
     },
     "execution_count": 17,
     "metadata": {},
     "output_type": "execute_result"
    }
   ],
   "source": [
    "bool(cero)\n",
    "bool(string_vacio)"
   ]
  },
  {
   "cell_type": "code",
   "execution_count": 16,
   "metadata": {},
   "outputs": [
    {
     "name": "stdout",
     "output_type": "stream",
     "text": [
      "False\n",
      "False\n"
     ]
    }
   ],
   "source": [
    "print(bool(cero))\n",
    "print(bool(string_vacio))"
   ]
  },
  {
   "cell_type": "markdown",
   "metadata": {},
   "source": [
    "# Ejercicios"
   ]
  },
  {
   "cell_type": "markdown",
   "metadata": {},
   "source": [
    "Ejercicio 1: Variables y la función print()\n",
    "Declara tres variables: una cadena de texto (string), un número entero (int) y un número decimal (float). Luego, imprime sus valores."
   ]
  },
  {
   "cell_type": "code",
   "execution_count": 21,
   "metadata": {},
   "outputs": [
    {
     "name": "stdout",
     "output_type": "stream",
     "text": [
      "¡Hola, Bienvenidos!, soy Gabriel, Data Analyst con mas de 3 años de experiencia en Python y Power BI\n",
      "Tengo 29 y soy de la provincia de San Juan\n",
      "Mi promedio academico es 9.9\n"
     ]
    }
   ],
   "source": [
    "presentacion = '¡Hola, Bienvenidos!, soy Gabriel, Data Analyst con mas de 3 años de experiencia en Python y Power BI'\n",
    "edad = 29\n",
    "promedio_academico = 9.9\n",
    "\n",
    "print(presentacion)\n",
    "print(\"Tengo\", edad,\"y soy de la provincia de San Juan\")\n",
    "print(\"Mi promedio academico es\", promedio_academico)\n",
    "\n"
   ]
  },
  {
   "cell_type": "markdown",
   "metadata": {},
   "source": [
    "Ejercicio 2: Tipos de variables y la función type()\n",
    "Crea varias variables de diferentes tipos y usa la función type() para imprimir el tipo de cada variable."
   ]
  },
  {
   "cell_type": "code",
   "execution_count": 22,
   "metadata": {},
   "outputs": [
    {
     "name": "stdout",
     "output_type": "stream",
     "text": [
      "Puedes comunicarte conmigo a traves de mi correo electronico: arsanmartino@gmail.com o via WhatsApp al numero: 2643191989\n"
     ]
    }
   ],
   "source": [
    "correo_electronico=\"arsanmartino@gmail.com\"\n",
    "cel=2643191989\n",
    "\n",
    "print('Puedes comunicarte conmigo a traves de mi correo electronico:', correo_electronico,\"o via WhatsApp al numero:\", cel)"
   ]
  },
  {
   "cell_type": "code",
   "execution_count": 22,
   "metadata": {},
   "outputs": [
    {
     "name": "stdout",
     "output_type": "stream",
     "text": [
      "La variable 'correo_electronico' es de tipo: <class 'str'>\n",
      "La variable 'cel' es de tipo: <class 'int'>\n"
     ]
    }
   ],
   "source": [
    "print(\"La variable 'correo_electronico' es de tipo:\", type(correo_electronico))\n",
    "print(\"La variable 'cel' es de tipo:\",type(cel))"
   ]
  },
  {
   "cell_type": "markdown",
   "metadata": {},
   "source": [
    "Ejercicio 3: La función bool()\n",
    "Declara varias variables y usa la función bool() para imprimir el valor booleano de cada una."
   ]
  },
  {
   "cell_type": "code",
   "execution_count": 5,
   "metadata": {},
   "outputs": [],
   "source": [
    "var_int_nula=0\n",
    "var_str_nula=''"
   ]
  },
  {
   "cell_type": "code",
   "execution_count": 10,
   "metadata": {},
   "outputs": [
    {
     "name": "stdout",
     "output_type": "stream",
     "text": [
      "La variable 'var_int_nula' es: False\n",
      "La variable 'var_str_nula' es: False\n",
      "La variable 'Nombre es: True\n",
      "True\n",
      "True\n"
     ]
    }
   ],
   "source": [
    "print(\"La variable 'var_int_nula' es:\",bool(var_int_nula))\n",
    "print(\"La variable 'var_str_nula' es:\",bool(var_str_nula))\n",
    "print(\"La variable 'Nombre es:\", bool(Nombre))\n",
    "print(bool(Apellido))\n",
    "print(bool(edad))"
   ]
  },
  {
   "cell_type": "markdown",
   "metadata": {},
   "source": [
    "Ejercicio 4: Operaciones con variables\n",
    "Declara dos variables numéricas y realiza algunas operaciones básicas. Imprime el resultado de cada operación."
   ]
  },
  {
   "cell_type": "code",
   "execution_count": 23,
   "metadata": {},
   "outputs": [],
   "source": [
    "P=10 #Precio\n",
    "Q=2 #Cantidad"
   ]
  },
  {
   "cell_type": "code",
   "execution_count": 24,
   "metadata": {},
   "outputs": [],
   "source": [
    "Sum_P_Q = P + Q\n",
    "Resta=P-Q\n",
    "Producto=P*Q\n",
    "Div=P/Q"
   ]
  },
  {
   "cell_type": "code",
   "execution_count": 25,
   "metadata": {},
   "outputs": [
    {
     "name": "stdout",
     "output_type": "stream",
     "text": [
      "Resultados de las operaciones entre las variables \"Precio\" (P) y \"Cantidad\" (Q), suma: 12 ;resta: 8 ;Producto: 20 ;Divicion: 5.0\n"
     ]
    }
   ],
   "source": [
    "print('Resultados de las operaciones entre las variables \"Precio\" (P) y \"Cantidad\" (Q), suma:',Sum_P_Q, \";resta:\", Resta, \";Producto:\", Producto, \";Divicion:\", Div )"
   ]
  },
  {
   "cell_type": "markdown",
   "metadata": {},
   "source": [
    "Ejercicio 5: Concatenación de cadenas\n",
    "Declara dos variables de tipo cadena y concaténalas. Imprime el resultado."
   ]
  },
  {
   "cell_type": "code",
   "execution_count": 19,
   "metadata": {},
   "outputs": [],
   "source": [
    "saludo = \"HOLA\"\n",
    "sustantivo = \"MUNDO\""
   ]
  },
  {
   "cell_type": "code",
   "execution_count": 22,
   "metadata": {},
   "outputs": [
    {
     "name": "stdout",
     "output_type": "stream",
     "text": [
      "HOLA,MUNDO !\n"
     ]
    }
   ],
   "source": [
    "# Ejemplo de concatencaion 1: Uso de operador '+'\n",
    "\n",
    "mensaje_1 = saludo+','+sustantivo + \" !\"\n",
    "\n",
    "print(mensaje_1)"
   ]
  }
 ],
 "metadata": {
  "kernelspec": {
   "display_name": "Python 3",
   "language": "python",
   "name": "python3"
  },
  "language_info": {
   "codemirror_mode": {
    "name": "ipython",
    "version": 3
   },
   "file_extension": ".py",
   "mimetype": "text/x-python",
   "name": "python",
   "nbconvert_exporter": "python",
   "pygments_lexer": "ipython3",
   "version": "3.13.0"
  }
 },
 "nbformat": 4,
 "nbformat_minor": 2
}
